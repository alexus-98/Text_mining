{
 "cells": [
  {
   "cell_type": "markdown",
   "metadata": {},
   "source": [
    "-------------------------------------------------------------------------------------------------------------------------------\n",
    "-------------------------------------------------------------------------------------------------------------------------------\n",
    "# Text Mining and Social Media Mining\n",
    "## SEMESTRAL PROJECT - FAKE NEWS CLASSIFICATION\n",
    "### Aleksandra Tomczak, Aleksander Partyga\n",
    "-------------------------------------------------------------------------------------------------------------------------------\n",
    "-------------------------------------------------------------------------------------------------------------------------------\n",
    "The aim of this project is to perform an analysis of fake and real pieces of news. For this purpose we used a dataset obtained from [Kaggle](https://www.kaggle.com/clmentbisaillon/fake-and-real-news-dataset?fbclid=IwAR00YQQQP3E-cjJsZ1jEPx-eyDoCYT2Vyu86043MWoZ9Fxxqj2necW8HZMY) which contains more than 21 thousands of real and more than 23 thousands of fake news that are mainly about US politics. After performing text preprocessing and exploratory data analysis, we will cluster the text in order to investigate any differences in the structure between the real articles and the fake ones.\n",
    "\n",
    "In addition, after neatly preparing the data for the modelling process, we performed text classification with the use of logistic regression and multinomial naive bayes models. We compared the results of both models which turned out to be very satisfactory.\n",
    "\n",
    "-------------------------------------------------------------------------------------------------------------------------------\n",
    "-------------------------------------------------------------------------------------------------------------------------------\n",
    "\n",
    "**The project consists of following sections:**\n",
    "\n",
    "**Part 1** - Necessary imports and downloads.\n",
    "\n",
    "**Part 2** - Text preprocessing and exploratory data analysis.\n",
    "\n",
    "**Part 3** - Text clustering.\n",
    "\n",
    "**Part 4** - News classiffication.\n",
    "\n",
    "**Part 5** - Conclusions.\n",
    "\n",
    "-------------------------------------------------------------------------------------------------------------------------------\n",
    "-------------------------------------------------------------------------------------------------------------------------------"
   ]
  },
  {
   "cell_type": "markdown",
   "metadata": {},
   "source": [
    "### Part 1 - Necessary imports and downloads."
   ]
  },
  {
   "cell_type": "code",
   "execution_count": 2,
   "metadata": {},
   "outputs": [],
   "source": [
    "# General\n",
    "import pandas as pd\n",
    "import numpy as np\n",
    "import string\n",
    "import re\n",
    "from nltk.corpus import stopwords\n",
    "from collections import Counter\n",
    "\n",
    "# Clustering\n",
    "from sklearn.feature_extraction.text import TfidfVectorizer\n",
    "from sklearn.cluster import KMeans\n",
    "from sklearn.decomposition import PCA\n",
    "from sklearn.cluster import MiniBatchKMeans\n",
    "\n",
    "# Visualization\n",
    "from mpl_toolkits.mplot3d import Axes3D\n",
    "import matplotlib.pyplot as plt\n",
    "%matplotlib inline\n",
    "\n",
    "# Classification\n",
    "from sklearn.model_selection import train_test_split\n",
    "from sklearn.feature_extraction.text import CountVectorizer\n",
    "from sklearn.linear_model import LogisticRegression\n",
    "from sklearn.naive_bayes import MultinomialNB\n",
    "import seaborn as sns\n",
    "from sklearn.metrics import classification_report, confusion_matrix, accuracy_score"
   ]
  },
  {
   "cell_type": "markdown",
   "metadata": {},
   "source": [
    "Function that will help us display pandas in a more compact way:"
   ]
  },
  {
   "cell_type": "code",
   "execution_count": 3,
   "metadata": {},
   "outputs": [],
   "source": [
    "from IPython.display import display_html\n",
    "def display_side_by_side(*args):\n",
    "    html_str = ''\n",
    "    for df in args:\n",
    "        html_str += df.to_html()\n",
    "    display_html(html_str.replace('table','table style = \"display:inline\"'), raw = True)"
   ]
  },
  {
   "cell_type": "markdown",
   "metadata": {},
   "source": [
    "Reading the data:"
   ]
  },
  {
   "cell_type": "code",
   "execution_count": 4,
   "metadata": {},
   "outputs": [],
   "source": [
    "fake_news = pd.read_csv('Fake.csv')\n",
    "real_news = pd.read_csv('True.csv')"
   ]
  },
  {
   "cell_type": "markdown",
   "metadata": {},
   "source": [
    "### Part 2 - Text preprocessing and exploratory data analysis.\n",
    "\n",
    "Data contains two datasets, one with real news articles and one with fake ones. Our datasets have 4 columns of string type:\n",
    "\n",
    "*title* - the title of the news,\n",
    "\n",
    "*text* - the text of the article,\n",
    "\n",
    "*subject* - the subject that the article is related to,\n",
    "\n",
    "*date* - the date of the publication"
   ]
  },
  {
   "cell_type": "markdown",
   "metadata": {},
   "source": [
    "#### Preprocessing\n",
    "\n",
    "Let's take a look at the dataset."
   ]
  },
  {
   "cell_type": "code",
   "execution_count": 5,
   "metadata": {},
   "outputs": [
    {
     "data": {
      "text/html": [
       "<div>\n",
       "<style scoped>\n",
       "    .dataframe tbody tr th:only-of-type {\n",
       "        vertical-align: middle;\n",
       "    }\n",
       "\n",
       "    .dataframe tbody tr th {\n",
       "        vertical-align: top;\n",
       "    }\n",
       "\n",
       "    .dataframe thead th {\n",
       "        text-align: right;\n",
       "    }\n",
       "</style>\n",
       "<table border=\"1\" class=\"dataframe\">\n",
       "  <thead>\n",
       "    <tr style=\"text-align: right;\">\n",
       "      <th></th>\n",
       "      <th>title</th>\n",
       "      <th>text</th>\n",
       "      <th>subject</th>\n",
       "      <th>date</th>\n",
       "    </tr>\n",
       "  </thead>\n",
       "  <tbody>\n",
       "    <tr>\n",
       "      <th>0</th>\n",
       "      <td>Donald Trump Sends Out Embarrassing New Year’...</td>\n",
       "      <td>Donald Trump just couldn t wish all Americans ...</td>\n",
       "      <td>News</td>\n",
       "      <td>December 31, 2017</td>\n",
       "    </tr>\n",
       "    <tr>\n",
       "      <th>1</th>\n",
       "      <td>Drunk Bragging Trump Staffer Started Russian ...</td>\n",
       "      <td>House Intelligence Committee Chairman Devin Nu...</td>\n",
       "      <td>News</td>\n",
       "      <td>December 31, 2017</td>\n",
       "    </tr>\n",
       "    <tr>\n",
       "      <th>2</th>\n",
       "      <td>Sheriff David Clarke Becomes An Internet Joke...</td>\n",
       "      <td>On Friday, it was revealed that former Milwauk...</td>\n",
       "      <td>News</td>\n",
       "      <td>December 30, 2017</td>\n",
       "    </tr>\n",
       "    <tr>\n",
       "      <th>3</th>\n",
       "      <td>Trump Is So Obsessed He Even Has Obama’s Name...</td>\n",
       "      <td>On Christmas day, Donald Trump announced that ...</td>\n",
       "      <td>News</td>\n",
       "      <td>December 29, 2017</td>\n",
       "    </tr>\n",
       "    <tr>\n",
       "      <th>4</th>\n",
       "      <td>Pope Francis Just Called Out Donald Trump Dur...</td>\n",
       "      <td>Pope Francis used his annual Christmas Day mes...</td>\n",
       "      <td>News</td>\n",
       "      <td>December 25, 2017</td>\n",
       "    </tr>\n",
       "  </tbody>\n",
       "</table>\n",
       "</div>"
      ],
      "text/plain": [
       "                                               title  \\\n",
       "0   Donald Trump Sends Out Embarrassing New Year’...   \n",
       "1   Drunk Bragging Trump Staffer Started Russian ...   \n",
       "2   Sheriff David Clarke Becomes An Internet Joke...   \n",
       "3   Trump Is So Obsessed He Even Has Obama’s Name...   \n",
       "4   Pope Francis Just Called Out Donald Trump Dur...   \n",
       "\n",
       "                                                text subject  \\\n",
       "0  Donald Trump just couldn t wish all Americans ...    News   \n",
       "1  House Intelligence Committee Chairman Devin Nu...    News   \n",
       "2  On Friday, it was revealed that former Milwauk...    News   \n",
       "3  On Christmas day, Donald Trump announced that ...    News   \n",
       "4  Pope Francis used his annual Christmas Day mes...    News   \n",
       "\n",
       "                date  \n",
       "0  December 31, 2017  \n",
       "1  December 31, 2017  \n",
       "2  December 30, 2017  \n",
       "3  December 29, 2017  \n",
       "4  December 25, 2017  "
      ]
     },
     "execution_count": 5,
     "metadata": {},
     "output_type": "execute_result"
    }
   ],
   "source": [
    "fake_news.head()"
   ]
  },
  {
   "cell_type": "markdown",
   "metadata": {},
   "source": [
    "Firstly, we will check if the dataset is complete - if there are any NA."
   ]
  },
  {
   "cell_type": "code",
   "execution_count": 6,
   "metadata": {},
   "outputs": [
    {
     "name": "stdout",
     "output_type": "stream",
     "text": [
      "title      0\n",
      "text       0\n",
      "subject    0\n",
      "date       0\n",
      "dtype: int64 \n",
      "\n",
      " title      0\n",
      "text       0\n",
      "subject    0\n",
      "date       0\n",
      "dtype: int64\n"
     ]
    }
   ],
   "source": [
    "# Checking for missing value\n",
    "print(fake_news.isna().sum(), \"\\n\\n\", real_news.isna().sum())"
   ]
  },
  {
   "cell_type": "markdown",
   "metadata": {},
   "source": [
    "There are no missing values in both datasets. We will drop *date* column, since we won't be using it in our analysis."
   ]
  },
  {
   "cell_type": "code",
   "execution_count": 7,
   "metadata": {},
   "outputs": [],
   "source": [
    "# Dropping unnecessary columns\n",
    "fake_news.drop('date', inplace = True, axis = 1)\n",
    "real_news.drop('date', inplace = True, axis = 1)"
   ]
  },
  {
   "cell_type": "markdown",
   "metadata": {},
   "source": [
    "Next, we will take a look at the *subject* variable to see if it may be useful in further steps."
   ]
  },
  {
   "cell_type": "code",
   "execution_count": 8,
   "metadata": {},
   "outputs": [],
   "source": [
    "# Counting the number of articles in every subject\n",
    "real_count = real_news.groupby(['subject']).count()\n",
    "fake_count = fake_news.groupby(['subject']).count()"
   ]
  },
  {
   "cell_type": "code",
   "execution_count": 9,
   "metadata": {},
   "outputs": [
    {
     "data": {
      "text/html": [
       "<table style = \"display:inline\" border=\"1\" class=\"dataframe\">\n",
       "  <thead>\n",
       "    <tr style=\"text-align: right;\">\n",
       "      <th></th>\n",
       "      <th>title</th>\n",
       "      <th>text</th>\n",
       "    </tr>\n",
       "    <tr>\n",
       "      <th>subject</th>\n",
       "      <th></th>\n",
       "      <th></th>\n",
       "    </tr>\n",
       "  </thead>\n",
       "  <tbody>\n",
       "    <tr>\n",
       "      <th>politicsNews</th>\n",
       "      <td>11272</td>\n",
       "      <td>11272</td>\n",
       "    </tr>\n",
       "    <tr>\n",
       "      <th>worldnews</th>\n",
       "      <td>10145</td>\n",
       "      <td>10145</td>\n",
       "    </tr>\n",
       "  </tbody>\n",
       "</table style = \"display:inline\"><table style = \"display:inline\" border=\"1\" class=\"dataframe\">\n",
       "  <thead>\n",
       "    <tr style=\"text-align: right;\">\n",
       "      <th></th>\n",
       "      <th>title</th>\n",
       "      <th>text</th>\n",
       "    </tr>\n",
       "    <tr>\n",
       "      <th>subject</th>\n",
       "      <th></th>\n",
       "      <th></th>\n",
       "    </tr>\n",
       "  </thead>\n",
       "  <tbody>\n",
       "    <tr>\n",
       "      <th>Government News</th>\n",
       "      <td>1570</td>\n",
       "      <td>1570</td>\n",
       "    </tr>\n",
       "    <tr>\n",
       "      <th>Middle-east</th>\n",
       "      <td>778</td>\n",
       "      <td>778</td>\n",
       "    </tr>\n",
       "    <tr>\n",
       "      <th>News</th>\n",
       "      <td>9050</td>\n",
       "      <td>9050</td>\n",
       "    </tr>\n",
       "    <tr>\n",
       "      <th>US_News</th>\n",
       "      <td>783</td>\n",
       "      <td>783</td>\n",
       "    </tr>\n",
       "    <tr>\n",
       "      <th>left-news</th>\n",
       "      <td>4459</td>\n",
       "      <td>4459</td>\n",
       "    </tr>\n",
       "    <tr>\n",
       "      <th>politics</th>\n",
       "      <td>6841</td>\n",
       "      <td>6841</td>\n",
       "    </tr>\n",
       "  </tbody>\n",
       "</table style = \"display:inline\">"
      ]
     },
     "metadata": {},
     "output_type": "display_data"
    }
   ],
   "source": [
    "display_side_by_side(real_count, fake_count)"
   ]
  },
  {
   "cell_type": "markdown",
   "metadata": {},
   "source": [
    "As we can see, real news have only two subjects, so it will not be very useful. Fake news have more categories but since they are fake we will drop this variable as well."
   ]
  },
  {
   "cell_type": "code",
   "execution_count": 10,
   "metadata": {},
   "outputs": [],
   "source": [
    "# Dropping unnecessary columns\n",
    "fake_news.drop('subject', inplace = True, axis = 1)\n",
    "real_news.drop('subject', inplace = True, axis = 1)"
   ]
  },
  {
   "cell_type": "code",
   "execution_count": 11,
   "metadata": {},
   "outputs": [
    {
     "data": {
      "text/html": [
       "<div>\n",
       "<style scoped>\n",
       "    .dataframe tbody tr th:only-of-type {\n",
       "        vertical-align: middle;\n",
       "    }\n",
       "\n",
       "    .dataframe tbody tr th {\n",
       "        vertical-align: top;\n",
       "    }\n",
       "\n",
       "    .dataframe thead th {\n",
       "        text-align: right;\n",
       "    }\n",
       "</style>\n",
       "<table border=\"1\" class=\"dataframe\">\n",
       "  <thead>\n",
       "    <tr style=\"text-align: right;\">\n",
       "      <th></th>\n",
       "      <th>title</th>\n",
       "      <th>text</th>\n",
       "    </tr>\n",
       "  </thead>\n",
       "  <tbody>\n",
       "    <tr>\n",
       "      <th>0</th>\n",
       "      <td>As U.S. budget fight looms, Republicans flip t...</td>\n",
       "      <td>WASHINGTON (Reuters) - The head of a conservat...</td>\n",
       "    </tr>\n",
       "    <tr>\n",
       "      <th>1</th>\n",
       "      <td>U.S. military to accept transgender recruits o...</td>\n",
       "      <td>WASHINGTON (Reuters) - Transgender people will...</td>\n",
       "    </tr>\n",
       "    <tr>\n",
       "      <th>2</th>\n",
       "      <td>Senior U.S. Republican senator: 'Let Mr. Muell...</td>\n",
       "      <td>WASHINGTON (Reuters) - The special counsel inv...</td>\n",
       "    </tr>\n",
       "    <tr>\n",
       "      <th>3</th>\n",
       "      <td>FBI Russia probe helped by Australian diplomat...</td>\n",
       "      <td>WASHINGTON (Reuters) - Trump campaign adviser ...</td>\n",
       "    </tr>\n",
       "    <tr>\n",
       "      <th>4</th>\n",
       "      <td>Trump wants Postal Service to charge 'much mor...</td>\n",
       "      <td>SEATTLE/WASHINGTON (Reuters) - President Donal...</td>\n",
       "    </tr>\n",
       "  </tbody>\n",
       "</table>\n",
       "</div>"
      ],
      "text/plain": [
       "                                               title  \\\n",
       "0  As U.S. budget fight looms, Republicans flip t...   \n",
       "1  U.S. military to accept transgender recruits o...   \n",
       "2  Senior U.S. Republican senator: 'Let Mr. Muell...   \n",
       "3  FBI Russia probe helped by Australian diplomat...   \n",
       "4  Trump wants Postal Service to charge 'much mor...   \n",
       "\n",
       "                                                text  \n",
       "0  WASHINGTON (Reuters) - The head of a conservat...  \n",
       "1  WASHINGTON (Reuters) - Transgender people will...  \n",
       "2  WASHINGTON (Reuters) - The special counsel inv...  \n",
       "3  WASHINGTON (Reuters) - Trump campaign adviser ...  \n",
       "4  SEATTLE/WASHINGTON (Reuters) - President Donal...  "
      ]
     },
     "execution_count": 11,
     "metadata": {},
     "output_type": "execute_result"
    }
   ],
   "source": [
    "real_news.head()"
   ]
  },
  {
   "cell_type": "markdown",
   "metadata": {},
   "source": [
    "It may be observed that the first two words of the real news text are not a part of the article - let's remove it. We will do that by splitting the text in two places: after the first word and after the second word. This will transform the string into a list of three elements: first word, second word and the rest of the text."
   ]
  },
  {
   "cell_type": "code",
   "execution_count": 12,
   "metadata": {},
   "outputs": [],
   "source": [
    "# Function removing the first two words of the article\n",
    "def remove_cityname(_text):\n",
    "    _list = _text.split(' ', 2)\n",
    "    return _list[2]"
   ]
  },
  {
   "cell_type": "markdown",
   "metadata": {},
   "source": [
    "The function above returned an error saying that the list index is out of range. That means that at least one of the strings in column *text* does not contain even 3 words. Let's check which rows have too short strings."
   ]
  },
  {
   "cell_type": "code",
   "execution_count": 13,
   "metadata": {},
   "outputs": [
    {
     "data": {
      "text/plain": [
       "1"
      ]
     },
     "execution_count": 13,
     "metadata": {},
     "output_type": "execute_result"
    }
   ],
   "source": [
    "# Creating a copy of the data\n",
    "real_news_copy = real_news.copy()\n",
    "\n",
    "# Calculating the length of each article\n",
    "real_news_copy['length'] = real_news_copy['text'].apply(len)\n",
    "\n",
    "# Looking for the shortest one\n",
    "min(real_news_copy['length'])"
   ]
  },
  {
   "cell_type": "markdown",
   "metadata": {},
   "source": [
    "There is at least one observation that contains just one character. We will check if there is more of them."
   ]
  },
  {
   "cell_type": "code",
   "execution_count": 14,
   "metadata": {},
   "outputs": [
    {
     "data": {
      "text/html": [
       "<div>\n",
       "<style scoped>\n",
       "    .dataframe tbody tr th:only-of-type {\n",
       "        vertical-align: middle;\n",
       "    }\n",
       "\n",
       "    .dataframe tbody tr th {\n",
       "        vertical-align: top;\n",
       "    }\n",
       "\n",
       "    .dataframe thead th {\n",
       "        text-align: right;\n",
       "    }\n",
       "</style>\n",
       "<table border=\"1\" class=\"dataframe\">\n",
       "  <thead>\n",
       "    <tr style=\"text-align: right;\">\n",
       "      <th></th>\n",
       "      <th>title</th>\n",
       "      <th>text</th>\n",
       "      <th>length</th>\n",
       "    </tr>\n",
       "  </thead>\n",
       "  <tbody>\n",
       "    <tr>\n",
       "      <th>8970</th>\n",
       "      <td>Graphic: Supreme Court roundup</td>\n",
       "      <td></td>\n",
       "      <td>1</td>\n",
       "    </tr>\n",
       "    <tr>\n",
       "      <th>16059</th>\n",
       "      <td>Spain's cabinet to hold special meeting at 170...</td>\n",
       "      <td>MADRID (Reuters) - Spain s cabinet will hold a...</td>\n",
       "      <td>152</td>\n",
       "    </tr>\n",
       "    <tr>\n",
       "      <th>6131</th>\n",
       "      <td>White House: Trump speaks with Egypt's Sisi by...</td>\n",
       "      <td>WASHINGTON (Reuters) - U.S. President Donald T...</td>\n",
       "      <td>152</td>\n",
       "    </tr>\n",
       "    <tr>\n",
       "      <th>19359</th>\n",
       "      <td>UK PM May wants to be a strong friend to the EU</td>\n",
       "      <td>FLORENCE, Italy (Reuters) - Britain wants to b...</td>\n",
       "      <td>156</td>\n",
       "    </tr>\n",
       "    <tr>\n",
       "      <th>20784</th>\n",
       "      <td>Russia's Putin says we will be able to solve t...</td>\n",
       "      <td>VLADIVOSTOK, Russia (Reuters) - Russian Presid...</td>\n",
       "      <td>157</td>\n",
       "    </tr>\n",
       "    <tr>\n",
       "      <th>...</th>\n",
       "      <td>...</td>\n",
       "      <td>...</td>\n",
       "      <td>...</td>\n",
       "    </tr>\n",
       "    <tr>\n",
       "      <th>3319</th>\n",
       "      <td>Text: Ex-FBI Director Comey's prepared testimo...</td>\n",
       "      <td>(Reuters) - Following is the full text of form...</td>\n",
       "      <td>18541</td>\n",
       "    </tr>\n",
       "    <tr>\n",
       "      <th>8563</th>\n",
       "      <td>The Big Squeeze: This election year, it’s all ...</td>\n",
       "      <td>MIDDLETOWN, CONN. - Two years ago, Judy Konopk...</td>\n",
       "      <td>18633</td>\n",
       "    </tr>\n",
       "    <tr>\n",
       "      <th>2594</th>\n",
       "      <td>Trump son-in-law Kushner's congressional state...</td>\n",
       "      <td>WASHINGTON (Reuters) - I am voluntarily provid...</td>\n",
       "      <td>21559</td>\n",
       "    </tr>\n",
       "    <tr>\n",
       "      <th>8465</th>\n",
       "      <td>Disillusionment, U.S.A. Where voters are just ...</td>\n",
       "      <td>ALGONAC, MICH.—Parker Fox drifted out of the D...</td>\n",
       "      <td>21661</td>\n",
       "    </tr>\n",
       "    <tr>\n",
       "      <th>2816</th>\n",
       "      <td>Transcript of Reuters interview with EPA Admin...</td>\n",
       "      <td>(Reuters) - U.S. Environmental Protection Agen...</td>\n",
       "      <td>29781</td>\n",
       "    </tr>\n",
       "  </tbody>\n",
       "</table>\n",
       "<p>21417 rows × 3 columns</p>\n",
       "</div>"
      ],
      "text/plain": [
       "                                                   title  \\\n",
       "8970                      Graphic: Supreme Court roundup   \n",
       "16059  Spain's cabinet to hold special meeting at 170...   \n",
       "6131   White House: Trump speaks with Egypt's Sisi by...   \n",
       "19359    UK PM May wants to be a strong friend to the EU   \n",
       "20784  Russia's Putin says we will be able to solve t...   \n",
       "...                                                  ...   \n",
       "3319   Text: Ex-FBI Director Comey's prepared testimo...   \n",
       "8563   The Big Squeeze: This election year, it’s all ...   \n",
       "2594   Trump son-in-law Kushner's congressional state...   \n",
       "8465   Disillusionment, U.S.A. Where voters are just ...   \n",
       "2816   Transcript of Reuters interview with EPA Admin...   \n",
       "\n",
       "                                                    text  length  \n",
       "8970                                                           1  \n",
       "16059  MADRID (Reuters) - Spain s cabinet will hold a...     152  \n",
       "6131   WASHINGTON (Reuters) - U.S. President Donald T...     152  \n",
       "19359  FLORENCE, Italy (Reuters) - Britain wants to b...     156  \n",
       "20784  VLADIVOSTOK, Russia (Reuters) - Russian Presid...     157  \n",
       "...                                                  ...     ...  \n",
       "3319   (Reuters) - Following is the full text of form...   18541  \n",
       "8563   MIDDLETOWN, CONN. - Two years ago, Judy Konopk...   18633  \n",
       "2594   WASHINGTON (Reuters) - I am voluntarily provid...   21559  \n",
       "8465   ALGONAC, MICH.—Parker Fox drifted out of the D...   21661  \n",
       "2816   (Reuters) - U.S. Environmental Protection Agen...   29781  \n",
       "\n",
       "[21417 rows x 3 columns]"
      ]
     },
     "execution_count": 14,
     "metadata": {},
     "output_type": "execute_result"
    }
   ],
   "source": [
    "# Sorting the articles from shortest to longest\n",
    "real_news_copy.sort_values(by = 'length')"
   ]
  },
  {
   "cell_type": "markdown",
   "metadata": {},
   "source": [
    "Fortunately, just one row happened to contain an invalid text, so now we will drop it from original dataset."
   ]
  },
  {
   "cell_type": "code",
   "execution_count": 15,
   "metadata": {},
   "outputs": [],
   "source": [
    "# Removing the invalid row\n",
    "real_news = real_news.drop([8970])"
   ]
  },
  {
   "cell_type": "code",
   "execution_count": 16,
   "metadata": {},
   "outputs": [],
   "source": [
    "# Removing first two words from the text of the articles\n",
    "real_news['text'] = real_news['text'].apply(remove_cityname)"
   ]
  },
  {
   "cell_type": "code",
   "execution_count": 17,
   "metadata": {},
   "outputs": [
    {
     "data": {
      "text/html": [
       "<div>\n",
       "<style scoped>\n",
       "    .dataframe tbody tr th:only-of-type {\n",
       "        vertical-align: middle;\n",
       "    }\n",
       "\n",
       "    .dataframe tbody tr th {\n",
       "        vertical-align: top;\n",
       "    }\n",
       "\n",
       "    .dataframe thead th {\n",
       "        text-align: right;\n",
       "    }\n",
       "</style>\n",
       "<table border=\"1\" class=\"dataframe\">\n",
       "  <thead>\n",
       "    <tr style=\"text-align: right;\">\n",
       "      <th></th>\n",
       "      <th>title</th>\n",
       "      <th>text</th>\n",
       "    </tr>\n",
       "  </thead>\n",
       "  <tbody>\n",
       "    <tr>\n",
       "      <th>0</th>\n",
       "      <td>As U.S. budget fight looms, Republicans flip t...</td>\n",
       "      <td>- The head of a conservative Republican factio...</td>\n",
       "    </tr>\n",
       "    <tr>\n",
       "      <th>1</th>\n",
       "      <td>U.S. military to accept transgender recruits o...</td>\n",
       "      <td>- Transgender people will be allowed for the f...</td>\n",
       "    </tr>\n",
       "    <tr>\n",
       "      <th>2</th>\n",
       "      <td>Senior U.S. Republican senator: 'Let Mr. Muell...</td>\n",
       "      <td>- The special counsel investigation of links b...</td>\n",
       "    </tr>\n",
       "    <tr>\n",
       "      <th>3</th>\n",
       "      <td>FBI Russia probe helped by Australian diplomat...</td>\n",
       "      <td>- Trump campaign adviser George Papadopoulos t...</td>\n",
       "    </tr>\n",
       "    <tr>\n",
       "      <th>4</th>\n",
       "      <td>Trump wants Postal Service to charge 'much mor...</td>\n",
       "      <td>- President Donald Trump called on the U.S. Po...</td>\n",
       "    </tr>\n",
       "  </tbody>\n",
       "</table>\n",
       "</div>"
      ],
      "text/plain": [
       "                                               title  \\\n",
       "0  As U.S. budget fight looms, Republicans flip t...   \n",
       "1  U.S. military to accept transgender recruits o...   \n",
       "2  Senior U.S. Republican senator: 'Let Mr. Muell...   \n",
       "3  FBI Russia probe helped by Australian diplomat...   \n",
       "4  Trump wants Postal Service to charge 'much mor...   \n",
       "\n",
       "                                                text  \n",
       "0  - The head of a conservative Republican factio...  \n",
       "1  - Transgender people will be allowed for the f...  \n",
       "2  - The special counsel investigation of links b...  \n",
       "3  - Trump campaign adviser George Papadopoulos t...  \n",
       "4  - President Donald Trump called on the U.S. Po...  "
      ]
     },
     "execution_count": 17,
     "metadata": {},
     "output_type": "execute_result"
    }
   ],
   "source": [
    "real_news.head()"
   ]
  },
  {
   "cell_type": "markdown",
   "metadata": {},
   "source": [
    "Now, we can start processing the text. The first step is to transform all the characters into lower form."
   ]
  },
  {
   "cell_type": "code",
   "execution_count": 18,
   "metadata": {},
   "outputs": [],
   "source": [
    "# Trasforming all characters to lower\n",
    "real_news['title_processed'] = real_news['title'].map(lambda x: x.lower())\n",
    "real_news['text_processed'] = real_news['text'].map(lambda x: x.lower())\n",
    "\n",
    "fake_news['title_processed'] = fake_news['title'].map(lambda x: x.lower())\n",
    "fake_news['text_processed'] = fake_news['text'].map(lambda x: x.lower())"
   ]
  },
  {
   "cell_type": "code",
   "execution_count": 19,
   "metadata": {},
   "outputs": [
    {
     "data": {
      "text/html": [
       "<div>\n",
       "<style scoped>\n",
       "    .dataframe tbody tr th:only-of-type {\n",
       "        vertical-align: middle;\n",
       "    }\n",
       "\n",
       "    .dataframe tbody tr th {\n",
       "        vertical-align: top;\n",
       "    }\n",
       "\n",
       "    .dataframe thead th {\n",
       "        text-align: right;\n",
       "    }\n",
       "</style>\n",
       "<table border=\"1\" class=\"dataframe\">\n",
       "  <thead>\n",
       "    <tr style=\"text-align: right;\">\n",
       "      <th></th>\n",
       "      <th>title</th>\n",
       "      <th>text</th>\n",
       "      <th>title_processed</th>\n",
       "      <th>text_processed</th>\n",
       "    </tr>\n",
       "  </thead>\n",
       "  <tbody>\n",
       "    <tr>\n",
       "      <th>0</th>\n",
       "      <td>Donald Trump Sends Out Embarrassing New Year’...</td>\n",
       "      <td>Donald Trump just couldn t wish all Americans ...</td>\n",
       "      <td>donald trump sends out embarrassing new year’...</td>\n",
       "      <td>donald trump just couldn t wish all americans ...</td>\n",
       "    </tr>\n",
       "    <tr>\n",
       "      <th>1</th>\n",
       "      <td>Drunk Bragging Trump Staffer Started Russian ...</td>\n",
       "      <td>House Intelligence Committee Chairman Devin Nu...</td>\n",
       "      <td>drunk bragging trump staffer started russian ...</td>\n",
       "      <td>house intelligence committee chairman devin nu...</td>\n",
       "    </tr>\n",
       "    <tr>\n",
       "      <th>2</th>\n",
       "      <td>Sheriff David Clarke Becomes An Internet Joke...</td>\n",
       "      <td>On Friday, it was revealed that former Milwauk...</td>\n",
       "      <td>sheriff david clarke becomes an internet joke...</td>\n",
       "      <td>on friday, it was revealed that former milwauk...</td>\n",
       "    </tr>\n",
       "    <tr>\n",
       "      <th>3</th>\n",
       "      <td>Trump Is So Obsessed He Even Has Obama’s Name...</td>\n",
       "      <td>On Christmas day, Donald Trump announced that ...</td>\n",
       "      <td>trump is so obsessed he even has obama’s name...</td>\n",
       "      <td>on christmas day, donald trump announced that ...</td>\n",
       "    </tr>\n",
       "    <tr>\n",
       "      <th>4</th>\n",
       "      <td>Pope Francis Just Called Out Donald Trump Dur...</td>\n",
       "      <td>Pope Francis used his annual Christmas Day mes...</td>\n",
       "      <td>pope francis just called out donald trump dur...</td>\n",
       "      <td>pope francis used his annual christmas day mes...</td>\n",
       "    </tr>\n",
       "  </tbody>\n",
       "</table>\n",
       "</div>"
      ],
      "text/plain": [
       "                                               title  \\\n",
       "0   Donald Trump Sends Out Embarrassing New Year’...   \n",
       "1   Drunk Bragging Trump Staffer Started Russian ...   \n",
       "2   Sheriff David Clarke Becomes An Internet Joke...   \n",
       "3   Trump Is So Obsessed He Even Has Obama’s Name...   \n",
       "4   Pope Francis Just Called Out Donald Trump Dur...   \n",
       "\n",
       "                                                text  \\\n",
       "0  Donald Trump just couldn t wish all Americans ...   \n",
       "1  House Intelligence Committee Chairman Devin Nu...   \n",
       "2  On Friday, it was revealed that former Milwauk...   \n",
       "3  On Christmas day, Donald Trump announced that ...   \n",
       "4  Pope Francis used his annual Christmas Day mes...   \n",
       "\n",
       "                                     title_processed  \\\n",
       "0   donald trump sends out embarrassing new year’...   \n",
       "1   drunk bragging trump staffer started russian ...   \n",
       "2   sheriff david clarke becomes an internet joke...   \n",
       "3   trump is so obsessed he even has obama’s name...   \n",
       "4   pope francis just called out donald trump dur...   \n",
       "\n",
       "                                      text_processed  \n",
       "0  donald trump just couldn t wish all americans ...  \n",
       "1  house intelligence committee chairman devin nu...  \n",
       "2  on friday, it was revealed that former milwauk...  \n",
       "3  on christmas day, donald trump announced that ...  \n",
       "4  pope francis used his annual christmas day mes...  "
      ]
     },
     "execution_count": 19,
     "metadata": {},
     "output_type": "execute_result"
    }
   ],
   "source": [
    "fake_news.head()"
   ]
  },
  {
   "cell_type": "markdown",
   "metadata": {},
   "source": [
    "To remove stopwords we have to use RegEx, otherwise it takes too long to go through 20k+ strings."
   ]
  },
  {
   "cell_type": "code",
   "execution_count": 20,
   "metadata": {},
   "outputs": [],
   "source": [
    "# RegEx expression to remove stopwords\n",
    "pattern = re.compile(r'\\b(' + r'|'.join(stopwords.words('english')) + r')\\b\\s*')"
   ]
  },
  {
   "cell_type": "code",
   "execution_count": 21,
   "metadata": {},
   "outputs": [],
   "source": [
    "# Function removing English stopwords\n",
    "def remove_stopwords(_text):\n",
    "    _text = pattern.sub('', _text)\n",
    "    return _text"
   ]
  },
  {
   "cell_type": "code",
   "execution_count": 22,
   "metadata": {},
   "outputs": [],
   "source": [
    "# Removing stopwords from fake news\n",
    "fake_news['title_processed'] = fake_news['title_processed'].apply(remove_stopwords)\n",
    "fake_news['text_processed'] = fake_news['text_processed'].apply(remove_stopwords)"
   ]
  },
  {
   "cell_type": "code",
   "execution_count": 23,
   "metadata": {},
   "outputs": [],
   "source": [
    "# Removing stopwords from real news\n",
    "real_news['title_processed'] = real_news['title_processed'].apply(remove_stopwords)\n",
    "real_news['text_processed'] = real_news['text_processed'].apply(remove_stopwords)"
   ]
  },
  {
   "cell_type": "code",
   "execution_count": 24,
   "metadata": {},
   "outputs": [
    {
     "data": {
      "text/html": [
       "<div>\n",
       "<style scoped>\n",
       "    .dataframe tbody tr th:only-of-type {\n",
       "        vertical-align: middle;\n",
       "    }\n",
       "\n",
       "    .dataframe tbody tr th {\n",
       "        vertical-align: top;\n",
       "    }\n",
       "\n",
       "    .dataframe thead th {\n",
       "        text-align: right;\n",
       "    }\n",
       "</style>\n",
       "<table border=\"1\" class=\"dataframe\">\n",
       "  <thead>\n",
       "    <tr style=\"text-align: right;\">\n",
       "      <th></th>\n",
       "      <th>title</th>\n",
       "      <th>text</th>\n",
       "      <th>title_processed</th>\n",
       "      <th>text_processed</th>\n",
       "    </tr>\n",
       "  </thead>\n",
       "  <tbody>\n",
       "    <tr>\n",
       "      <th>0</th>\n",
       "      <td>Donald Trump Sends Out Embarrassing New Year’...</td>\n",
       "      <td>Donald Trump just couldn t wish all Americans ...</td>\n",
       "      <td>donald trump sends embarrassing new year’eve ...</td>\n",
       "      <td>donald trump wish americans happy new year lea...</td>\n",
       "    </tr>\n",
       "    <tr>\n",
       "      <th>1</th>\n",
       "      <td>Drunk Bragging Trump Staffer Started Russian ...</td>\n",
       "      <td>House Intelligence Committee Chairman Devin Nu...</td>\n",
       "      <td>drunk bragging trump staffer started russian ...</td>\n",
       "      <td>house intelligence committee chairman devin nu...</td>\n",
       "    </tr>\n",
       "    <tr>\n",
       "      <th>2</th>\n",
       "      <td>Sheriff David Clarke Becomes An Internet Joke...</td>\n",
       "      <td>On Friday, it was revealed that former Milwauk...</td>\n",
       "      <td>sheriff david clarke becomes internet joke th...</td>\n",
       "      <td>friday, revealed former milwaukee sheriff davi...</td>\n",
       "    </tr>\n",
       "    <tr>\n",
       "      <th>3</th>\n",
       "      <td>Trump Is So Obsessed He Even Has Obama’s Name...</td>\n",
       "      <td>On Christmas day, Donald Trump announced that ...</td>\n",
       "      <td>trump obsessed even obama’name coded website ...</td>\n",
       "      <td>christmas day, donald trump announced would  b...</td>\n",
       "    </tr>\n",
       "    <tr>\n",
       "      <th>4</th>\n",
       "      <td>Pope Francis Just Called Out Donald Trump Dur...</td>\n",
       "      <td>Pope Francis used his annual Christmas Day mes...</td>\n",
       "      <td>pope francis called donald trump christmas sp...</td>\n",
       "      <td>pope francis used annual christmas day message...</td>\n",
       "    </tr>\n",
       "  </tbody>\n",
       "</table>\n",
       "</div>"
      ],
      "text/plain": [
       "                                               title  \\\n",
       "0   Donald Trump Sends Out Embarrassing New Year’...   \n",
       "1   Drunk Bragging Trump Staffer Started Russian ...   \n",
       "2   Sheriff David Clarke Becomes An Internet Joke...   \n",
       "3   Trump Is So Obsessed He Even Has Obama’s Name...   \n",
       "4   Pope Francis Just Called Out Donald Trump Dur...   \n",
       "\n",
       "                                                text  \\\n",
       "0  Donald Trump just couldn t wish all Americans ...   \n",
       "1  House Intelligence Committee Chairman Devin Nu...   \n",
       "2  On Friday, it was revealed that former Milwauk...   \n",
       "3  On Christmas day, Donald Trump announced that ...   \n",
       "4  Pope Francis used his annual Christmas Day mes...   \n",
       "\n",
       "                                     title_processed  \\\n",
       "0   donald trump sends embarrassing new year’eve ...   \n",
       "1   drunk bragging trump staffer started russian ...   \n",
       "2   sheriff david clarke becomes internet joke th...   \n",
       "3   trump obsessed even obama’name coded website ...   \n",
       "4   pope francis called donald trump christmas sp...   \n",
       "\n",
       "                                      text_processed  \n",
       "0  donald trump wish americans happy new year lea...  \n",
       "1  house intelligence committee chairman devin nu...  \n",
       "2  friday, revealed former milwaukee sheriff davi...  \n",
       "3  christmas day, donald trump announced would  b...  \n",
       "4  pope francis used annual christmas day message...  "
      ]
     },
     "execution_count": 24,
     "metadata": {},
     "output_type": "execute_result"
    }
   ],
   "source": [
    "fake_news.head()"
   ]
  },
  {
   "cell_type": "markdown",
   "metadata": {},
   "source": [
    "Next step is to remove all non-ASCII characters that may occur in text. Later all numbers, links and punctuation is removed."
   ]
  },
  {
   "cell_type": "code",
   "execution_count": 25,
   "metadata": {},
   "outputs": [],
   "source": [
    "# Function removing non-ASCII characters\n",
    "def remove_nonascii(_text):\n",
    "    return _text.encode('ascii', 'ignore').decode('ascii')"
   ]
  },
  {
   "cell_type": "code",
   "execution_count": 26,
   "metadata": {},
   "outputs": [],
   "source": [
    "# Removing non-ASCII characters from fake news\n",
    "fake_news['title_processed'] = fake_news['title_processed'].apply(remove_nonascii)\n",
    "fake_news['text_processed'] = fake_news['text_processed'].apply(remove_nonascii)"
   ]
  },
  {
   "cell_type": "code",
   "execution_count": 27,
   "metadata": {},
   "outputs": [],
   "source": [
    "# Removing non-ASCII characters from real news\n",
    "real_news['title_processed'] = real_news['title_processed'].apply(remove_nonascii)\n",
    "real_news['text_processed'] = real_news['text_processed'].apply(remove_nonascii)"
   ]
  },
  {
   "cell_type": "code",
   "execution_count": 28,
   "metadata": {},
   "outputs": [],
   "source": [
    "# Function removing different types of links\n",
    "def remove_links(_text):\n",
    "    _text = re.sub('([0-9]+)', '', _text)\n",
    "    _text = re.sub(r'http\\S+', '', _text)\n",
    "    _text = re.sub(r'bit.ly/\\S+', '', _text)\n",
    "    _text = _text.strip('[link]')\n",
    "    _text = re.sub('[%s]' % re.escape(string.punctuation), '', _text)\n",
    "    return _text"
   ]
  },
  {
   "cell_type": "code",
   "execution_count": 29,
   "metadata": {},
   "outputs": [],
   "source": [
    "# Removing links from processed text\n",
    "fake_news['title_processed'] = fake_news['title_processed'].apply(remove_links)\n",
    "fake_news['text_processed'] = fake_news['text_processed'].apply(remove_links)\n",
    "\n",
    "real_news['title_processed'] = real_news['title_processed'].apply(remove_links)\n",
    "real_news['text_processed'] = real_news['text_processed'].apply(remove_links)"
   ]
  },
  {
   "cell_type": "code",
   "execution_count": 32,
   "metadata": {},
   "outputs": [
    {
     "data": {
      "text/html": [
       "<div>\n",
       "<style scoped>\n",
       "    .dataframe tbody tr th:only-of-type {\n",
       "        vertical-align: middle;\n",
       "    }\n",
       "\n",
       "    .dataframe tbody tr th {\n",
       "        vertical-align: top;\n",
       "    }\n",
       "\n",
       "    .dataframe thead th {\n",
       "        text-align: right;\n",
       "    }\n",
       "</style>\n",
       "<table border=\"1\" class=\"dataframe\">\n",
       "  <thead>\n",
       "    <tr style=\"text-align: right;\">\n",
       "      <th></th>\n",
       "      <th>title</th>\n",
       "      <th>text</th>\n",
       "      <th>title_processed</th>\n",
       "      <th>text_processed</th>\n",
       "    </tr>\n",
       "  </thead>\n",
       "  <tbody>\n",
       "    <tr>\n",
       "      <th>0</th>\n",
       "      <td>As U.S. budget fight looms, Republicans flip t...</td>\n",
       "      <td>- The head of a conservative Republican factio...</td>\n",
       "      <td>u budget fight looms republicans flip fiscal s...</td>\n",
       "      <td>head conservative republican faction u congre...</td>\n",
       "    </tr>\n",
       "    <tr>\n",
       "      <th>1</th>\n",
       "      <td>U.S. military to accept transgender recruits o...</td>\n",
       "      <td>- Transgender people will be allowed for the f...</td>\n",
       "      <td>u military accept transgender recruits monday ...</td>\n",
       "      <td>transgender people allowed first time enlist ...</td>\n",
       "    </tr>\n",
       "    <tr>\n",
       "      <th>2</th>\n",
       "      <td>Senior U.S. Republican senator: 'Let Mr. Muell...</td>\n",
       "      <td>- The special counsel investigation of links b...</td>\n",
       "      <td>senior u republican senator let mr mueller job</td>\n",
       "      <td>special counsel investigation links russia pr...</td>\n",
       "    </tr>\n",
       "    <tr>\n",
       "      <th>3</th>\n",
       "      <td>FBI Russia probe helped by Australian diplomat...</td>\n",
       "      <td>- Trump campaign adviser George Papadopoulos t...</td>\n",
       "      <td>fbi russia probe helped australian diplomat ti...</td>\n",
       "      <td>trump campaign adviser george papadopoulos to...</td>\n",
       "    </tr>\n",
       "    <tr>\n",
       "      <th>4</th>\n",
       "      <td>Trump wants Postal Service to charge 'much mor...</td>\n",
       "      <td>- President Donald Trump called on the U.S. Po...</td>\n",
       "      <td>trump wants postal service charge much  amazon...</td>\n",
       "      <td>president donald trump called u postal servic...</td>\n",
       "    </tr>\n",
       "  </tbody>\n",
       "</table>\n",
       "</div>"
      ],
      "text/plain": [
       "                                               title  \\\n",
       "0  As U.S. budget fight looms, Republicans flip t...   \n",
       "1  U.S. military to accept transgender recruits o...   \n",
       "2  Senior U.S. Republican senator: 'Let Mr. Muell...   \n",
       "3  FBI Russia probe helped by Australian diplomat...   \n",
       "4  Trump wants Postal Service to charge 'much mor...   \n",
       "\n",
       "                                                text  \\\n",
       "0  - The head of a conservative Republican factio...   \n",
       "1  - Transgender people will be allowed for the f...   \n",
       "2  - The special counsel investigation of links b...   \n",
       "3  - Trump campaign adviser George Papadopoulos t...   \n",
       "4  - President Donald Trump called on the U.S. Po...   \n",
       "\n",
       "                                     title_processed  \\\n",
       "0  u budget fight looms republicans flip fiscal s...   \n",
       "1  u military accept transgender recruits monday ...   \n",
       "2     senior u republican senator let mr mueller job   \n",
       "3  fbi russia probe helped australian diplomat ti...   \n",
       "4  trump wants postal service charge much  amazon...   \n",
       "\n",
       "                                      text_processed  \n",
       "0   head conservative republican faction u congre...  \n",
       "1   transgender people allowed first time enlist ...  \n",
       "2   special counsel investigation links russia pr...  \n",
       "3   trump campaign adviser george papadopoulos to...  \n",
       "4   president donald trump called u postal servic...  "
      ]
     },
     "execution_count": 32,
     "metadata": {},
     "output_type": "execute_result"
    }
   ],
   "source": [
    "real_news.head()"
   ]
  },
  {
   "cell_type": "markdown",
   "metadata": {},
   "source": [
    "#### Most common words\n",
    "\n",
    "To compare the content of both datasets we will extract most commonly used words in both. The first step is to join all the articles into one long string and split into the list of all words."
   ]
  },
  {
   "cell_type": "code",
   "execution_count": 33,
   "metadata": {},
   "outputs": [],
   "source": [
    "# Joining the text of articles into one long string\n",
    "real_words = ' '.join(real_news['text_processed'])\n",
    "fake_words = ' '.join(fake_news['text_processed'])"
   ]
  },
  {
   "cell_type": "code",
   "execution_count": 34,
   "metadata": {},
   "outputs": [
    {
     "data": {
      "text/plain": [
       "'donald trump wish americans happy new year leave  instead give shout enemies haters dishonest fake news media  former reality show star one job  country rapidly grows stronger smarter want wish friends supporters enemies haters even dishonest fake news media happy healthy new year  president angry pants tweeted   great year america country rapidly grows stronger smarter want wish friends supporters enemies haters even dishonest fake news media happy healthy new year  great year america  donald j trump realdonaldtrump december  trump tweet went welll expectkind president sends new year greeting like despicable petty infantile gibberish trump lack decency even allow rise gutter long enough wish american citizens happy new year  bishop talbert swan talbertswan december  no one likes calvin calvinstowell december  your impeachment would make  great year america also accept regaining control congress  miranda yaver mirandayaver december  do hear talk include many people hate wonder hate   a'"
      ]
     },
     "execution_count": 34,
     "metadata": {},
     "output_type": "execute_result"
    }
   ],
   "source": [
    "fake_words[:1000]"
   ]
  },
  {
   "cell_type": "code",
   "execution_count": 35,
   "metadata": {},
   "outputs": [],
   "source": [
    "# Splitting the strings into lists of words\n",
    "real_words = real_words.split()\n",
    "fake_words = fake_words.split()"
   ]
  },
  {
   "cell_type": "markdown",
   "metadata": {},
   "source": [
    "To count how many times a word occured in the list we will use a function *Counter* imported from *collections* library. It returns a list of tuples (word, frequency) sorted in a descending order of the frequency."
   ]
  },
  {
   "cell_type": "code",
   "execution_count": 36,
   "metadata": {},
   "outputs": [],
   "source": [
    "# Counting how many times each word occured in a list\n",
    "counter_real = Counter(real_words)\n",
    "counter_fake = Counter(fake_words)"
   ]
  },
  {
   "cell_type": "code",
   "execution_count": 37,
   "metadata": {},
   "outputs": [],
   "source": [
    "# Getting top 20 most commonly used words\n",
    "mostcommon_real = counter_real.most_common(20)\n",
    "mostcommon_fake = counter_fake.most_common(20)"
   ]
  },
  {
   "cell_type": "code",
   "execution_count": 38,
   "metadata": {},
   "outputs": [
    {
     "data": {
      "text/plain": [
       "[('said', 98927),\n",
       " ('trump', 42729),\n",
       " ('u', 38348),\n",
       " ('would', 31493),\n",
       " ('president', 25498),\n",
       " ('state', 18675),\n",
       " ('government', 17725),\n",
       " ('states', 16618),\n",
       " ('house', 16375),\n",
       " ('also', 15930),\n",
       " ('new', 15678),\n",
       " ('united', 15360),\n",
       " ('people', 15099),\n",
       " ('republican', 14963),\n",
       " ('told', 14237),\n",
       " ('could', 13686),\n",
       " ('one', 12683),\n",
       " ('last', 12548),\n",
       " ('election', 11610),\n",
       " ('two', 11530)]"
      ]
     },
     "execution_count": 38,
     "metadata": {},
     "output_type": "execute_result"
    }
   ],
   "source": [
    "mostcommon_real"
   ]
  },
  {
   "cell_type": "markdown",
   "metadata": {},
   "source": [
    "The letter 'u' is probably abbreviation, it does not bring any value to the analysis, so we will drop it from our list."
   ]
  },
  {
   "cell_type": "code",
   "execution_count": 39,
   "metadata": {},
   "outputs": [
    {
     "data": {
      "text/plain": [
       "('u', 38348)"
      ]
     },
     "execution_count": 39,
     "metadata": {},
     "output_type": "execute_result"
    }
   ],
   "source": [
    "# Dropping the word 'u' from the list\n",
    "mostcommon_real = counter_real.most_common(21)\n",
    "mostcommon_real.pop(2)"
   ]
  },
  {
   "cell_type": "code",
   "execution_count": 40,
   "metadata": {},
   "outputs": [],
   "source": [
    "# Converting lists of tuples into data frames\n",
    "df_real = pd.DataFrame(mostcommon_real, columns = ['word', 'frequency'])\n",
    "df_fake = pd.DataFrame(mostcommon_fake, columns = ['word', 'frequency'])"
   ]
  },
  {
   "cell_type": "code",
   "execution_count": 41,
   "metadata": {},
   "outputs": [
    {
     "data": {
      "text/html": [
       "<table style = \"display:inline\" border=\"1\" class=\"dataframe\">\n",
       "  <thead>\n",
       "    <tr style=\"text-align: right;\">\n",
       "      <th></th>\n",
       "      <th>word</th>\n",
       "      <th>frequency</th>\n",
       "    </tr>\n",
       "  </thead>\n",
       "  <tbody>\n",
       "    <tr>\n",
       "      <th>0</th>\n",
       "      <td>said</td>\n",
       "      <td>98927</td>\n",
       "    </tr>\n",
       "    <tr>\n",
       "      <th>1</th>\n",
       "      <td>trump</td>\n",
       "      <td>42729</td>\n",
       "    </tr>\n",
       "    <tr>\n",
       "      <th>2</th>\n",
       "      <td>would</td>\n",
       "      <td>31493</td>\n",
       "    </tr>\n",
       "    <tr>\n",
       "      <th>3</th>\n",
       "      <td>president</td>\n",
       "      <td>25498</td>\n",
       "    </tr>\n",
       "    <tr>\n",
       "      <th>4</th>\n",
       "      <td>state</td>\n",
       "      <td>18675</td>\n",
       "    </tr>\n",
       "    <tr>\n",
       "      <th>5</th>\n",
       "      <td>government</td>\n",
       "      <td>17725</td>\n",
       "    </tr>\n",
       "    <tr>\n",
       "      <th>6</th>\n",
       "      <td>states</td>\n",
       "      <td>16618</td>\n",
       "    </tr>\n",
       "    <tr>\n",
       "      <th>7</th>\n",
       "      <td>house</td>\n",
       "      <td>16375</td>\n",
       "    </tr>\n",
       "    <tr>\n",
       "      <th>8</th>\n",
       "      <td>also</td>\n",
       "      <td>15930</td>\n",
       "    </tr>\n",
       "    <tr>\n",
       "      <th>9</th>\n",
       "      <td>new</td>\n",
       "      <td>15678</td>\n",
       "    </tr>\n",
       "    <tr>\n",
       "      <th>10</th>\n",
       "      <td>united</td>\n",
       "      <td>15360</td>\n",
       "    </tr>\n",
       "    <tr>\n",
       "      <th>11</th>\n",
       "      <td>people</td>\n",
       "      <td>15099</td>\n",
       "    </tr>\n",
       "    <tr>\n",
       "      <th>12</th>\n",
       "      <td>republican</td>\n",
       "      <td>14963</td>\n",
       "    </tr>\n",
       "    <tr>\n",
       "      <th>13</th>\n",
       "      <td>told</td>\n",
       "      <td>14237</td>\n",
       "    </tr>\n",
       "    <tr>\n",
       "      <th>14</th>\n",
       "      <td>could</td>\n",
       "      <td>13686</td>\n",
       "    </tr>\n",
       "    <tr>\n",
       "      <th>15</th>\n",
       "      <td>one</td>\n",
       "      <td>12683</td>\n",
       "    </tr>\n",
       "    <tr>\n",
       "      <th>16</th>\n",
       "      <td>last</td>\n",
       "      <td>12548</td>\n",
       "    </tr>\n",
       "    <tr>\n",
       "      <th>17</th>\n",
       "      <td>election</td>\n",
       "      <td>11610</td>\n",
       "    </tr>\n",
       "    <tr>\n",
       "      <th>18</th>\n",
       "      <td>two</td>\n",
       "      <td>11530</td>\n",
       "    </tr>\n",
       "    <tr>\n",
       "      <th>19</th>\n",
       "      <td>party</td>\n",
       "      <td>11359</td>\n",
       "    </tr>\n",
       "  </tbody>\n",
       "</table style = \"display:inline\"><table style = \"display:inline\" border=\"1\" class=\"dataframe\">\n",
       "  <thead>\n",
       "    <tr style=\"text-align: right;\">\n",
       "      <th></th>\n",
       "      <th>word</th>\n",
       "      <th>frequency</th>\n",
       "    </tr>\n",
       "  </thead>\n",
       "  <tbody>\n",
       "    <tr>\n",
       "      <th>0</th>\n",
       "      <td>trump</td>\n",
       "      <td>73500</td>\n",
       "    </tr>\n",
       "    <tr>\n",
       "      <th>1</th>\n",
       "      <td>said</td>\n",
       "      <td>30727</td>\n",
       "    </tr>\n",
       "    <tr>\n",
       "      <th>2</th>\n",
       "      <td>people</td>\n",
       "      <td>25787</td>\n",
       "    </tr>\n",
       "    <tr>\n",
       "      <th>3</th>\n",
       "      <td>president</td>\n",
       "      <td>25395</td>\n",
       "    </tr>\n",
       "    <tr>\n",
       "      <th>4</th>\n",
       "      <td>would</td>\n",
       "      <td>23234</td>\n",
       "    </tr>\n",
       "    <tr>\n",
       "      <th>5</th>\n",
       "      <td>one</td>\n",
       "      <td>22581</td>\n",
       "    </tr>\n",
       "    <tr>\n",
       "      <th>6</th>\n",
       "      <td>clinton</td>\n",
       "      <td>17878</td>\n",
       "    </tr>\n",
       "    <tr>\n",
       "      <th>7</th>\n",
       "      <td>obama</td>\n",
       "      <td>17613</td>\n",
       "    </tr>\n",
       "    <tr>\n",
       "      <th>8</th>\n",
       "      <td>like</td>\n",
       "      <td>17490</td>\n",
       "    </tr>\n",
       "    <tr>\n",
       "      <th>9</th>\n",
       "      <td>donald</td>\n",
       "      <td>17115</td>\n",
       "    </tr>\n",
       "    <tr>\n",
       "      <th>10</th>\n",
       "      <td>also</td>\n",
       "      <td>14731</td>\n",
       "    </tr>\n",
       "    <tr>\n",
       "      <th>11</th>\n",
       "      <td>news</td>\n",
       "      <td>14032</td>\n",
       "    </tr>\n",
       "    <tr>\n",
       "      <th>12</th>\n",
       "      <td>us</td>\n",
       "      <td>13724</td>\n",
       "    </tr>\n",
       "    <tr>\n",
       "      <th>13</th>\n",
       "      <td>new</td>\n",
       "      <td>13629</td>\n",
       "    </tr>\n",
       "    <tr>\n",
       "      <th>14</th>\n",
       "      <td>even</td>\n",
       "      <td>13574</td>\n",
       "    </tr>\n",
       "    <tr>\n",
       "      <th>15</th>\n",
       "      <td>hillary</td>\n",
       "      <td>13494</td>\n",
       "    </tr>\n",
       "    <tr>\n",
       "      <th>16</th>\n",
       "      <td>white</td>\n",
       "      <td>12580</td>\n",
       "    </tr>\n",
       "    <tr>\n",
       "      <th>17</th>\n",
       "      <td>time</td>\n",
       "      <td>12505</td>\n",
       "    </tr>\n",
       "    <tr>\n",
       "      <th>18</th>\n",
       "      <td>state</td>\n",
       "      <td>12455</td>\n",
       "    </tr>\n",
       "    <tr>\n",
       "      <th>19</th>\n",
       "      <td>via</td>\n",
       "      <td>11395</td>\n",
       "    </tr>\n",
       "  </tbody>\n",
       "</table style = \"display:inline\">"
      ]
     },
     "metadata": {},
     "output_type": "display_data"
    }
   ],
   "source": [
    "display_side_by_side(df_real, df_fake)"
   ]
  },
  {
   "cell_type": "markdown",
   "metadata": {},
   "source": [
    "As we can observe, the lists are quite similar - they both contain words associated with politics and the two most popular words are the same (in a different order). Having so similar content means that the datasets are well prepared and it is not that trivial to classify the news. It may be worth to take a look at titles as well:"
   ]
  },
  {
   "cell_type": "code",
   "execution_count": 42,
   "metadata": {},
   "outputs": [],
   "source": [
    "# Joining the text of articles into one long string\n",
    "real_titles = ' '.join(real_news['title_processed'])\n",
    "fake_titles = ' '.join(fake_news['title_processed'])\n",
    "\n",
    "# Splitting the strings into lists of words\n",
    "real_titles = real_titles.split()\n",
    "fake_titles = fake_titles.split()\n",
    "\n",
    "# Counting how many times each word occured in a list\n",
    "counter_realtitles = Counter(real_titles)\n",
    "counter_faketitles = Counter(fake_titles)\n",
    "\n",
    "# Here we also had to pop the letter 'u'\n",
    "mostcommon_realtitles = counter_realtitles.most_common(11)\n",
    "mostcommon_faketitles = counter_faketitles.most_common(10)\n",
    "mostcommon_realtitles.pop(1)\n",
    "\n",
    "# Converting lists of tuples into data frames\n",
    "df_realtitles = pd.DataFrame(mostcommon_realtitles, columns = ['word', 'frequency'])\n",
    "df_faketitles = pd.DataFrame(mostcommon_faketitles, columns = ['word', 'frequency'])"
   ]
  },
  {
   "cell_type": "code",
   "execution_count": 43,
   "metadata": {},
   "outputs": [
    {
     "data": {
      "text/html": [
       "<table style = \"display:inline\" border=\"1\" class=\"dataframe\">\n",
       "  <thead>\n",
       "    <tr style=\"text-align: right;\">\n",
       "      <th></th>\n",
       "      <th>word</th>\n",
       "      <th>frequency</th>\n",
       "    </tr>\n",
       "  </thead>\n",
       "  <tbody>\n",
       "    <tr>\n",
       "      <th>0</th>\n",
       "      <td>trump</td>\n",
       "      <td>4741</td>\n",
       "    </tr>\n",
       "    <tr>\n",
       "      <th>1</th>\n",
       "      <td>says</td>\n",
       "      <td>2980</td>\n",
       "    </tr>\n",
       "    <tr>\n",
       "      <th>2</th>\n",
       "      <td>house</td>\n",
       "      <td>1436</td>\n",
       "    </tr>\n",
       "    <tr>\n",
       "      <th>3</th>\n",
       "      <td>korea</td>\n",
       "      <td>804</td>\n",
       "    </tr>\n",
       "    <tr>\n",
       "      <th>4</th>\n",
       "      <td>white</td>\n",
       "      <td>803</td>\n",
       "    </tr>\n",
       "    <tr>\n",
       "      <th>5</th>\n",
       "      <td>russia</td>\n",
       "      <td>790</td>\n",
       "    </tr>\n",
       "    <tr>\n",
       "      <th>6</th>\n",
       "      <td>north</td>\n",
       "      <td>777</td>\n",
       "    </tr>\n",
       "    <tr>\n",
       "      <th>7</th>\n",
       "      <td>senate</td>\n",
       "      <td>733</td>\n",
       "    </tr>\n",
       "    <tr>\n",
       "      <th>8</th>\n",
       "      <td>court</td>\n",
       "      <td>704</td>\n",
       "    </tr>\n",
       "    <tr>\n",
       "      <th>9</th>\n",
       "      <td>new</td>\n",
       "      <td>645</td>\n",
       "    </tr>\n",
       "  </tbody>\n",
       "</table style = \"display:inline\"><table style = \"display:inline\" border=\"1\" class=\"dataframe\">\n",
       "  <thead>\n",
       "    <tr style=\"text-align: right;\">\n",
       "      <th></th>\n",
       "      <th>word</th>\n",
       "      <th>frequency</th>\n",
       "    </tr>\n",
       "  </thead>\n",
       "  <tbody>\n",
       "    <tr>\n",
       "      <th>0</th>\n",
       "      <td>video</td>\n",
       "      <td>8283</td>\n",
       "    </tr>\n",
       "    <tr>\n",
       "      <th>1</th>\n",
       "      <td>trump</td>\n",
       "      <td>7208</td>\n",
       "    </tr>\n",
       "    <tr>\n",
       "      <th>2</th>\n",
       "      <td>watch</td>\n",
       "      <td>1896</td>\n",
       "    </tr>\n",
       "    <tr>\n",
       "      <th>3</th>\n",
       "      <td>obama</td>\n",
       "      <td>1804</td>\n",
       "    </tr>\n",
       "    <tr>\n",
       "      <th>4</th>\n",
       "      <td>hillary</td>\n",
       "      <td>1767</td>\n",
       "    </tr>\n",
       "    <tr>\n",
       "      <th>5</th>\n",
       "      <td>president</td>\n",
       "      <td>1070</td>\n",
       "    </tr>\n",
       "    <tr>\n",
       "      <th>6</th>\n",
       "      <td>clinton</td>\n",
       "      <td>918</td>\n",
       "    </tr>\n",
       "    <tr>\n",
       "      <th>7</th>\n",
       "      <td>breaking</td>\n",
       "      <td>878</td>\n",
       "    </tr>\n",
       "    <tr>\n",
       "      <th>8</th>\n",
       "      <td>news</td>\n",
       "      <td>853</td>\n",
       "    </tr>\n",
       "    <tr>\n",
       "      <th>9</th>\n",
       "      <td>black</td>\n",
       "      <td>836</td>\n",
       "    </tr>\n",
       "  </tbody>\n",
       "</table style = \"display:inline\">"
      ]
     },
     "metadata": {},
     "output_type": "display_data"
    }
   ],
   "source": [
    "display_side_by_side(df_realtitles, df_faketitles)"
   ]
  },
  {
   "cell_type": "markdown",
   "metadata": {},
   "source": [
    "With no suprise, words occuring most often in the titles are connected to similar topics as words in articles. The most common word in fake news titles is 'video' which is an understandable clickbait tactic."
   ]
  },
  {
   "cell_type": "markdown",
   "metadata": {},
   "source": [
    "#### Bigrams\n",
    "\n",
    "We wanted to also check what pairs of words, called bigrams, occur most often in the articles. There is not much conclusion to be drawn from single words, pairings however, may give us some overview about the context the word was used in.\n",
    "\n",
    "To create a list of pairs we zipped the list with itself shifted by one element:"
   ]
  },
  {
   "cell_type": "code",
   "execution_count": 44,
   "metadata": {},
   "outputs": [],
   "source": [
    "# Zipping the list with itself shifted by one word\n",
    "bigrams_real = zip(real_words, real_words[1:])\n",
    "bigrams_fake = zip(fake_words, fake_words[1:])"
   ]
  },
  {
   "cell_type": "code",
   "execution_count": 45,
   "metadata": {},
   "outputs": [],
   "source": [
    "# Counting how many times each bigram occured in a list\n",
    "bicounter_real = Counter(bigrams_real)\n",
    "bicounter_fake = Counter(bigrams_fake)\n",
    "\n",
    "# Getting top 15 most commonly used bigrams\n",
    "common_bigrams_real = bicounter_real.most_common(15)\n",
    "common_bigrams_fake = bicounter_fake.most_common(15)\n",
    "\n",
    "# Converting lists into data frames\n",
    "df_bigrams_real = pd.DataFrame(common_bigrams_real, columns = ['bigrams', 'frequency'])\n",
    "df_bigrams_fake = pd.DataFrame(common_bigrams_fake, columns = ['bigrams', 'frequency'])"
   ]
  },
  {
   "cell_type": "code",
   "execution_count": 46,
   "metadata": {},
   "outputs": [
    {
     "data": {
      "text/html": [
       "<table style = \"display:inline\" border=\"1\" class=\"dataframe\">\n",
       "  <thead>\n",
       "    <tr style=\"text-align: right;\">\n",
       "      <th></th>\n",
       "      <th>bigrams</th>\n",
       "      <th>frequency</th>\n",
       "    </tr>\n",
       "  </thead>\n",
       "  <tbody>\n",
       "    <tr>\n",
       "      <th>0</th>\n",
       "      <td>(united, states)</td>\n",
       "      <td>12174</td>\n",
       "    </tr>\n",
       "    <tr>\n",
       "      <th>1</th>\n",
       "      <td>(white, house)</td>\n",
       "      <td>8183</td>\n",
       "    </tr>\n",
       "    <tr>\n",
       "      <th>2</th>\n",
       "      <td>(donald, trump)</td>\n",
       "      <td>8006</td>\n",
       "    </tr>\n",
       "    <tr>\n",
       "      <th>3</th>\n",
       "      <td>(president, donald)</td>\n",
       "      <td>5912</td>\n",
       "    </tr>\n",
       "    <tr>\n",
       "      <th>4</th>\n",
       "      <td>(north, korea)</td>\n",
       "      <td>5281</td>\n",
       "    </tr>\n",
       "    <tr>\n",
       "      <th>5</th>\n",
       "      <td>(prime, minister)</td>\n",
       "      <td>4099</td>\n",
       "    </tr>\n",
       "    <tr>\n",
       "      <th>6</th>\n",
       "      <td>(said, statement)</td>\n",
       "      <td>3918</td>\n",
       "    </tr>\n",
       "    <tr>\n",
       "      <th>7</th>\n",
       "      <td>(new, york)</td>\n",
       "      <td>3563</td>\n",
       "    </tr>\n",
       "    <tr>\n",
       "      <th>8</th>\n",
       "      <td>(told, reuters)</td>\n",
       "      <td>3491</td>\n",
       "    </tr>\n",
       "    <tr>\n",
       "      <th>9</th>\n",
       "      <td>(trump, said)</td>\n",
       "      <td>3462</td>\n",
       "    </tr>\n",
       "    <tr>\n",
       "      <th>10</th>\n",
       "      <td>(u, president)</td>\n",
       "      <td>3433</td>\n",
       "    </tr>\n",
       "    <tr>\n",
       "      <th>11</th>\n",
       "      <td>(islamic, state)</td>\n",
       "      <td>3365</td>\n",
       "    </tr>\n",
       "    <tr>\n",
       "      <th>12</th>\n",
       "      <td>(last, week)</td>\n",
       "      <td>3211</td>\n",
       "    </tr>\n",
       "    <tr>\n",
       "      <th>13</th>\n",
       "      <td>(told, reporters)</td>\n",
       "      <td>3174</td>\n",
       "    </tr>\n",
       "    <tr>\n",
       "      <th>14</th>\n",
       "      <td>(last, year)</td>\n",
       "      <td>3087</td>\n",
       "    </tr>\n",
       "  </tbody>\n",
       "</table style = \"display:inline\"><table style = \"display:inline\" border=\"1\" class=\"dataframe\">\n",
       "  <thead>\n",
       "    <tr style=\"text-align: right;\">\n",
       "      <th></th>\n",
       "      <th>bigrams</th>\n",
       "      <th>frequency</th>\n",
       "    </tr>\n",
       "  </thead>\n",
       "  <tbody>\n",
       "    <tr>\n",
       "      <th>0</th>\n",
       "      <td>(donald, trump)</td>\n",
       "      <td>13113</td>\n",
       "    </tr>\n",
       "    <tr>\n",
       "      <th>1</th>\n",
       "      <td>(hillary, clinton)</td>\n",
       "      <td>6680</td>\n",
       "    </tr>\n",
       "    <tr>\n",
       "      <th>2</th>\n",
       "      <td>(image, via)</td>\n",
       "      <td>6214</td>\n",
       "    </tr>\n",
       "    <tr>\n",
       "      <th>3</th>\n",
       "      <td>(white, house)</td>\n",
       "      <td>6120</td>\n",
       "    </tr>\n",
       "    <tr>\n",
       "      <th>4</th>\n",
       "      <td>(united, states)</td>\n",
       "      <td>6093</td>\n",
       "    </tr>\n",
       "    <tr>\n",
       "      <th>5</th>\n",
       "      <td>(new, york)</td>\n",
       "      <td>4015</td>\n",
       "    </tr>\n",
       "    <tr>\n",
       "      <th>6</th>\n",
       "      <td>(president, obama)</td>\n",
       "      <td>3781</td>\n",
       "    </tr>\n",
       "    <tr>\n",
       "      <th>7</th>\n",
       "      <td>(president, trump)</td>\n",
       "      <td>3655</td>\n",
       "    </tr>\n",
       "    <tr>\n",
       "      <th>8</th>\n",
       "      <td>(fox, news)</td>\n",
       "      <td>3211</td>\n",
       "    </tr>\n",
       "    <tr>\n",
       "      <th>9</th>\n",
       "      <td>(featured, image)</td>\n",
       "      <td>3164</td>\n",
       "    </tr>\n",
       "    <tr>\n",
       "      <th>10</th>\n",
       "      <td>(st, century)</td>\n",
       "      <td>2230</td>\n",
       "    </tr>\n",
       "    <tr>\n",
       "      <th>11</th>\n",
       "      <td>(barack, obama)</td>\n",
       "      <td>2218</td>\n",
       "    </tr>\n",
       "    <tr>\n",
       "      <th>12</th>\n",
       "      <td>(donald, j)</td>\n",
       "      <td>2151</td>\n",
       "    </tr>\n",
       "    <tr>\n",
       "      <th>13</th>\n",
       "      <td>(j, trump)</td>\n",
       "      <td>2122</td>\n",
       "    </tr>\n",
       "    <tr>\n",
       "      <th>14</th>\n",
       "      <td>(century, wire)</td>\n",
       "      <td>1926</td>\n",
       "    </tr>\n",
       "  </tbody>\n",
       "</table style = \"display:inline\">"
      ]
     },
     "metadata": {},
     "output_type": "display_data"
    }
   ],
   "source": [
    "display_side_by_side(df_bigrams_real, df_bigrams_fake)"
   ]
  },
  {
   "cell_type": "markdown",
   "metadata": {},
   "source": [
    "Result differs a bit from what we expected. Two most common words 'trump' and 'said' are at 9th place in real articles, but they did not make even the top 15 in fake ones. The rest of the bigrams are connected with articles subject, just like words they are mostly politically related."
   ]
  },
  {
   "cell_type": "markdown",
   "metadata": {},
   "source": [
    "### Part 3 - Text clustering.\n",
    "\n",
    "Text clustering is to automatically group textual documents (for example, documents in plain text, web pages, emails and etc) into clusters based on their content similarity. "
   ]
  },
  {
   "cell_type": "markdown",
   "metadata": {},
   "source": [
    "#### TF-IDF Vectorization\n",
    "\n",
    "The TF-IDF converts our corpus into a numerical format by bringing out specific terms, weighing very rare or very common terms differently in order to assign them a low score.\n",
    "TF stands for term frequency, while IDF stands for inverse document frequency. The TF-IDF value increases proportionally to the number of times a word appears in the document and is offset by the number of documents in the corpus that contain that word."
   ]
  },
  {
   "cell_type": "code",
   "execution_count": 47,
   "metadata": {},
   "outputs": [],
   "source": [
    "# Initializing the vectorizer\n",
    "vectorizer = TfidfVectorizer(sublinear_tf = True, min_df = 5, max_df = 0.95)\n",
    "\n",
    "# Applying TF-IDF to processed text\n",
    "x_real = vectorizer.fit_transform(real_news['text_processed'])\n",
    "x_fake = vectorizer.fit_transform(fake_news['text_processed'])"
   ]
  },
  {
   "cell_type": "markdown",
   "metadata": {},
   "source": [
    "#### Implementation of k-means\n",
    "\n",
    "Firstly, we will look for an optimal number of clusters. In order to do that, we will use function that was introduced during our classes."
   ]
  },
  {
   "cell_type": "code",
   "execution_count": 50,
   "metadata": {},
   "outputs": [],
   "source": [
    "# Function for finding the optimal number of clusters\n",
    "def find_optimal_clusters(data, max_k):\n",
    "    iters = range(2, max_k + 1, 2)\n",
    "    \n",
    "    sse = []\n",
    "    for k in iters:\n",
    "        sse.append(MiniBatchKMeans(n_clusters = k, init_size = 1024, batch_size = 2048, random_state = 20).fit(data).inertia_)\n",
    "        \n",
    "    f, ax = plt.subplots(1, 1)\n",
    "    ax.plot(iters, sse, marker='o')\n",
    "    ax.set_xlabel('Cluster Centers')\n",
    "    ax.set_xticks(iters)\n",
    "    ax.set_xticklabels(iters)\n",
    "    ax.set_ylabel('SSE')\n",
    "    ax.set_title('SSE by Cluster Center Plot')"
   ]
  },
  {
   "cell_type": "code",
   "execution_count": 51,
   "metadata": {},
   "outputs": [
    {
     "data": {
      "image/png": "[encoded data removed]",
      "text/plain": [
       "<Figure size 432x288 with 1 Axes>"
      ]
     },
     "metadata": {
      "needs_background": "light"
     },
     "output_type": "display_data"
    }
   ],
   "source": [
    "find_optimal_clusters(x_real, 20)"
   ]
  },
  {
   "cell_type": "code",
   "execution_count": 52,
   "metadata": {},
   "outputs": [
    {
     "data": {
      "image/png": "[encoded data removed]",
      "text/plain": [
       "<Figure size 432x288 with 1 Axes>"
      ]
     },
     "metadata": {
      "needs_background": "light"
     },
     "output_type": "display_data"
    }
   ],
   "source": [
    "find_optimal_clusters(x_fake, 20)"
   ]
  },
  {
   "cell_type": "markdown",
   "metadata": {},
   "source": [
    "We will set the number of cluster for real news at k = 10 and for fake news k = 8 and k = 2."
   ]
  },
  {
   "cell_type": "markdown",
   "metadata": {},
   "source": [
    "Real news clustering:"
   ]
  },
  {
   "cell_type": "code",
   "execution_count": 53,
   "metadata": {},
   "outputs": [],
   "source": [
    "# Initializing kmeans with 10 centroids\n",
    "kmeans_real = KMeans(n_clusters = 10, random_state = 42)\n",
    "\n",
    "# Fitting the models\n",
    "kmeans_real.fit(x_real)\n",
    "\n",
    "# Storing cluster labels in a variable\n",
    "clusters_real = kmeans_real.labels_"
   ]
  },
  {
   "cell_type": "markdown",
   "metadata": {},
   "source": [
    "Fake news clustering:"
   ]
  },
  {
   "cell_type": "code",
   "execution_count": 54,
   "metadata": {},
   "outputs": [],
   "source": [
    "# Initializing kmeans with 8 centroids\n",
    "kmeans_fake = KMeans(n_clusters = 8, random_state = 42)\n",
    "\n",
    "# Fitting the models\n",
    "kmeans_fake.fit(x_fake)\n",
    "\n",
    "# Storing cluster labels in a variable\n",
    "clusters_fake = kmeans_fake.labels_"
   ]
  },
  {
   "cell_type": "code",
   "execution_count": 55,
   "metadata": {},
   "outputs": [],
   "source": [
    "# Initializing kmeans with 2 centroids\n",
    "kmeans_fake2 = KMeans(n_clusters = 2, random_state = 42)\n",
    "\n",
    "# Fitting the models\n",
    "kmeans_fake2.fit(x_fake)\n",
    "\n",
    "# Storing cluster labels in a variable\n",
    "clusters_fake2 = kmeans_fake2.labels_"
   ]
  },
  {
   "cell_type": "markdown",
   "metadata": {},
   "source": [
    "#### PCA and vizualization\n",
    "\n",
    "In order to visualize the clusters we need to reduce dimensions. Since we are clustering text, the number of dimensions is relatively high. We will reduce the number to 3, to perform the 3D vizualization."
   ]
  },
  {
   "cell_type": "code",
   "execution_count": 56,
   "metadata": {},
   "outputs": [],
   "source": [
    "# Initializing PCA with 3 components\n",
    "pca = PCA(n_components = 3, random_state = 42)"
   ]
  },
  {
   "cell_type": "code",
   "execution_count": 57,
   "metadata": {},
   "outputs": [],
   "source": [
    "# Passing our vectorized data to the PCA and storing the reduced vectors into pca_vecs\n",
    "pca_vecs = pca.fit_transform(x_real.toarray())\n",
    "\n",
    "# Saving three dimensions\n",
    "x0_real = pca_vecs[:, 0]\n",
    "x1_real = pca_vecs[:, 1]\n",
    "x2_real = pca_vecs[:, 2]"
   ]
  },
  {
   "cell_type": "markdown",
   "metadata": {},
   "source": [
    "Now, we will add the information about the clusters and dimensions to our data set:"
   ]
  },
  {
   "cell_type": "code",
   "execution_count": 58,
   "metadata": {},
   "outputs": [],
   "source": [
    "# Appending new columns\n",
    "real_news['cluster'] = clusters_real\n",
    "real_news['x0'] = x0_real\n",
    "real_news['x1'] = x1_real\n",
    "real_news['x2'] = x2_real"
   ]
  },
  {
   "cell_type": "markdown",
   "metadata": {},
   "source": [
    "Repeating the whole procuder for the fake news:"
   ]
  },
  {
   "cell_type": "code",
   "execution_count": 59,
   "metadata": {},
   "outputs": [],
   "source": [
    "# Passing our vectorized data to the PCA and storing the reduced vectors into pca_vecs\n",
    "pca_vecs = pca.fit_transform(x_fake.toarray())\n",
    "\n",
    "# Saving three dimensions\n",
    "x0_fake = pca_vecs[:, 0]\n",
    "x1_fake = pca_vecs[:, 1]\n",
    "x2_fake = pca_vecs[:, 2]"
   ]
  },
  {
   "cell_type": "code",
   "execution_count": 61,
   "metadata": {},
   "outputs": [],
   "source": [
    "# Appending new columns\n",
    "fake_news['cluster'] = clusters_fake\n",
    "fake_news['cluster2'] = clusters_fake2\n",
    "fake_news['x0'] = x0_fake\n",
    "fake_news['x1'] = x1_fake\n",
    "fake_news['x2'] = x2_fake"
   ]
  },
  {
   "cell_type": "markdown",
   "metadata": {},
   "source": [
    "Plotting the output:"
   ]
  },
  {
   "cell_type": "code",
   "execution_count": 74,
   "metadata": {},
   "outputs": [
    {
     "data": {
      "image/png": "[encoded data removed]",
      "text/plain": [
       "<Figure size 720x720 with 1 Axes>"
      ]
     },
     "metadata": {
      "needs_background": "light"
     },
     "output_type": "display_data"
    }
   ],
   "source": [
    "# Clustering for real news\n",
    "fig = plt.figure(figsize = (10,10))\n",
    "ax = fig.add_subplot(111, projection='3d')\n",
    "ax.scatter(real_news['x0'], real_news['x1'], real_news['x2'], c = real_news['cluster'])\n",
    "ax.set_title(\"Words clustering for real news\")\n",
    "ax.set_xlabel(\"x0\")\n",
    "ax.set_ylabel(\"x1\")\n",
    "ax.set_zlabel(\"x2\")\n",
    "plt.show()"
   ]
  },
  {
   "cell_type": "code",
   "execution_count": 72,
   "metadata": {},
   "outputs": [
    {
     "data": {
      "image/png": "[encoded data removed]",
      "text/plain": [
       "<Figure size 720x720 with 1 Axes>"
      ]
     },
     "metadata": {
      "needs_background": "light"
     },
     "output_type": "display_data"
    }
   ],
   "source": [
    "# Clustering for fake news - 8 clusters\n",
    "fig = plt.figure(figsize = (10,10))\n",
    "ax = fig.add_subplot(111, projection='3d')\n",
    "ax.scatter(fake_news['x0'], fake_news['x1'], fake_news['x2'], c = fake_news['cluster'])\n",
    "ax.set_title(\"Words clustering for fake news\")\n",
    "ax.set_xlabel(\"x0\")\n",
    "ax.set_ylabel(\"x1\")\n",
    "ax.set_zlabel(\"x2\")\n",
    "plt.show()"
   ]
  },
  {
   "cell_type": "code",
   "execution_count": 73,
   "metadata": {},
   "outputs": [
    {
     "data": {
      "image/png": "[encoded data removed]",
      "text/plain": [
       "<Figure size 720x720 with 1 Axes>"
      ]
     },
     "metadata": {
      "needs_background": "light"
     },
     "output_type": "display_data"
    }
   ],
   "source": [
    "# Clustering for fake news - 2 clusters\n",
    "fig = plt.figure(figsize = (10,10))\n",
    "ax = fig.add_subplot(111, projection='3d')\n",
    "ax.scatter(fake_news['x0'], fake_news['x1'], fake_news['x2'], c = fake_news['cluster2'])\n",
    "ax.set_title(\"Words clustering for fake news\")\n",
    "ax.set_xlabel(\"x0\")\n",
    "ax.set_ylabel(\"x1\")\n",
    "ax.set_zlabel(\"x2\")\n",
    "plt.show()"
   ]
  },
  {
   "cell_type": "markdown",
   "metadata": {},
   "source": [
    "The difference in the structure for the fake and real news is clearly visible. To further analyze the clusters we will use slightly modified version of the function from [GitHub](https://gist.github.com/andrea-dagostino/ef81c60ff93fd455e0a666f17b0bbb72#file-clustering_eng_get_top_keywords-py) that returnes top keywords for each cluster."
   ]
  },
  {
   "cell_type": "code",
   "execution_count": 91,
   "metadata": {},
   "outputs": [],
   "source": [
    "def get_top_keywords(n, df_vec, clusters):\n",
    "    df = pd.DataFrame(df_vec.todense()).groupby(clusters).mean() # groups the TF-IDF vector by cluster\n",
    "    terms = vectorizer.get_feature_names_out() # access tf-idf terms\n",
    "    for i, r in df.iterrows():\n",
    "        print('\\nCluster {}'.format(i))\n",
    "        print(', '.join([terms[t] for t in np.argsort(r)[-n:]]))"
   ]
  },
  {
   "cell_type": "code",
   "execution_count": 87,
   "metadata": {},
   "outputs": [
    {
     "name": "stdout",
     "output_type": "stream",
     "text": [
      "\n",
      "Cluster 0\n",
      "distractions, adversity, distracts, repstevensmith, closes, east, masks, faltering, pup, chances, amy, exhorted, caingetty, existed, ipt\n",
      "\n",
      "Cluster 1\n",
      "saidhowever, couples, outcry, clintonemail, flanked, pga, spoiled, lifethreatening, outlandish, outlines, humane, fraudster, pondering, residential, bechtel\n",
      "\n",
      "Cluster 2\n",
      "approved, repel, repeated, herd, pausing, guests, jacksonville, guestworker, jacqueline, pga, kissed, ramin, hiroshima, energizing, gupta\n",
      "\n",
      "Cluster 3\n",
      "saidhowever, hammer, revelations, seize, severed, pga, phrase, publishing, capabilities, newfound, jesus, levi, hilarieburton, lejeune, hijrah\n",
      "\n",
      "Cluster 4\n",
      "physicist, defect, nightly, slated, lease, pga, determine, countryu, breathtaking, brice, fooling, morton, outlandish, saidhowever, celebratory\n",
      "\n",
      "Cluster 5\n",
      "cyber, cheeseburger, morningmika, fraudster, breathtaking, pga, chided, ground, choking, determine, earpiece, saidhowever, periscope, grams, perpetrator\n",
      "\n",
      "Cluster 6\n",
      "sedition, contradicts, pga, repstevensmith, mr, guidelines, jaysanalysiscom, rhetorically, inter, sevenhundred, bluntly, distracts, distinctive, blues, blob\n",
      "\n",
      "Cluster 7\n",
      "nevermind, repeated, jaysanalysiscom, engineer, hangzhou, saidhowever, severed, morningmika, apathetic, gym, pies, perpetrator, pga, periscope, guardia\n",
      "\n",
      "Cluster 8\n",
      "ebt, lastminute, outlandish, coyote, life, addressing, severed, rapacious, spoiled, defect, sophie, fraudster, morningmika, pga, saidhowever\n",
      "\n",
      "Cluster 9\n",
      "morningmika, hoo, longevity, se, rodriguez, comparatively, squeezing, spoiled, jaysanalysiscom, complacent, medal, masks, ezzor, miracles, pga\n"
     ]
    }
   ],
   "source": [
    "get_top_keywords(15, x_real, clusters_real)"
   ]
  },
  {
   "cell_type": "code",
   "execution_count": 82,
   "metadata": {},
   "outputs": [
    {
     "name": "stdout",
     "output_type": "stream",
     "text": [
      "\n",
      "Cluster 0\n",
      "war, state, terrorist, president, military, isis, said, states, refugees, islamic, syria, united, obama, us, muslim\n",
      "\n",
      "Cluster 1\n",
      "law, senate, government, trump, federal, health, president, state, court, said, bill, obama, people, republicans, would\n",
      "\n",
      "Cluster 2\n",
      "president, voters, said, donald, candidate, presidential, party, sanders, vote, democratic, election, campaign, trump, hillary, clinton\n",
      "\n",
      "Cluster 3\n",
      "great, said, us, one, america, video, people, century, st, watch, president, news, obama, wire, trump\n",
      "\n",
      "Cluster 4\n",
      "savants, evangelists, masochists, mediamaniacs, pst, hesher, alternate, animals, tune, radio, broadcast, room, pm, acr, boiler\n",
      "\n",
      "Cluster 5\n",
      "white, shooting, told, video, officer, lives, school, man, one, gun, people, officers, said, black, police\n",
      "\n",
      "Cluster 6\n",
      "republican, going, know, even, white, via, would, image, one, like, said, people, president, donald, trump\n",
      "\n",
      "Cluster 7\n",
      "said, hillary, former, emails, president, director, information, clinton, intelligence, comey, investigation, trump, russian, fbi, russia\n"
     ]
    }
   ],
   "source": [
    "get_top_keywords(15, x_fake, clusters_fake)"
   ]
  },
  {
   "cell_type": "code",
   "execution_count": 83,
   "metadata": {},
   "outputs": [
    {
     "name": "stdout",
     "output_type": "stream",
     "text": [
      "\n",
      "Cluster 0\n",
      "black, new, also, like, us, president, news, trump, state, would, obama, police, one, people, said\n",
      "\n",
      "Cluster 1\n",
      "via, even, image, republican, campaign, one, like, hillary, clinton, would, people, said, president, donald, trump\n"
     ]
    }
   ],
   "source": [
    "get_top_keywords(15, x_fake, clusters_fake2)"
   ]
  },
  {
   "cell_type": "markdown",
   "metadata": {},
   "source": [
    "Function *todense()* returns a dense matrix representation of the matrix. When we ran *get_top_keywords* function on real data multiple times, every time the result was a bit different. Running this function multiple times for the fake news returned almost identical key words, meaning that the variety of used words is smaller."
   ]
  },
  {
   "cell_type": "markdown",
   "metadata": {},
   "source": [
    "### Part 4 - News classification."
   ]
  },
  {
   "cell_type": "markdown",
   "metadata": {},
   "source": [
    "We create a variable named \"target\" in which real news are labeled as 1 and fake news as 0. This is a necessary step for in order to perform classification on those texts."
   ]
  },
  {
   "cell_type": "code",
   "execution_count": 37,
   "metadata": {},
   "outputs": [],
   "source": [
    "real_news['target'] = 1\n",
    "fake_news['target'] = 0\n",
    "mixed_news = pd.concat([real_news, fake_news]).reset_index(drop = True)"
   ]
  },
  {
   "cell_type": "code",
   "execution_count": 38,
   "metadata": {},
   "outputs": [
    {
     "data": {
      "text/html": [
       "<div>\n",
       "<style scoped>\n",
       "    .dataframe tbody tr th:only-of-type {\n",
       "        vertical-align: middle;\n",
       "    }\n",
       "\n",
       "    .dataframe tbody tr th {\n",
       "        vertical-align: top;\n",
       "    }\n",
       "\n",
       "    .dataframe thead th {\n",
       "        text-align: right;\n",
       "    }\n",
       "</style>\n",
       "<table border=\"1\" class=\"dataframe\">\n",
       "  <thead>\n",
       "    <tr style=\"text-align: right;\">\n",
       "      <th></th>\n",
       "      <th>title</th>\n",
       "      <th>text</th>\n",
       "      <th>title_processed</th>\n",
       "      <th>text_processed</th>\n",
       "      <th>target</th>\n",
       "    </tr>\n",
       "  </thead>\n",
       "  <tbody>\n",
       "    <tr>\n",
       "      <th>0</th>\n",
       "      <td>As U.S. budget fight looms, Republicans flip t...</td>\n",
       "      <td>- The head of a conservative Republican factio...</td>\n",
       "      <td>u budget fight looms republicans flip fiscal s...</td>\n",
       "      <td>head conservative republican faction u congre...</td>\n",
       "      <td>1</td>\n",
       "    </tr>\n",
       "    <tr>\n",
       "      <th>1</th>\n",
       "      <td>U.S. military to accept transgender recruits o...</td>\n",
       "      <td>- Transgender people will be allowed for the f...</td>\n",
       "      <td>u military accept transgender recruits monday ...</td>\n",
       "      <td>transgender people allowed first time enlist ...</td>\n",
       "      <td>1</td>\n",
       "    </tr>\n",
       "    <tr>\n",
       "      <th>2</th>\n",
       "      <td>Senior U.S. Republican senator: 'Let Mr. Muell...</td>\n",
       "      <td>- The special counsel investigation of links b...</td>\n",
       "      <td>senior u republican senator let mr mueller job</td>\n",
       "      <td>special counsel investigation links russia pr...</td>\n",
       "      <td>1</td>\n",
       "    </tr>\n",
       "    <tr>\n",
       "      <th>3</th>\n",
       "      <td>FBI Russia probe helped by Australian diplomat...</td>\n",
       "      <td>- Trump campaign adviser George Papadopoulos t...</td>\n",
       "      <td>fbi russia probe helped australian diplomat ti...</td>\n",
       "      <td>trump campaign adviser george papadopoulos to...</td>\n",
       "      <td>1</td>\n",
       "    </tr>\n",
       "    <tr>\n",
       "      <th>4</th>\n",
       "      <td>Trump wants Postal Service to charge 'much mor...</td>\n",
       "      <td>- President Donald Trump called on the U.S. Po...</td>\n",
       "      <td>trump wants postal service charge much  amazon...</td>\n",
       "      <td>president donald trump called u postal servic...</td>\n",
       "      <td>1</td>\n",
       "    </tr>\n",
       "    <tr>\n",
       "      <th>...</th>\n",
       "      <td>...</td>\n",
       "      <td>...</td>\n",
       "      <td>...</td>\n",
       "      <td>...</td>\n",
       "      <td>...</td>\n",
       "    </tr>\n",
       "    <tr>\n",
       "      <th>44892</th>\n",
       "      <td>McPain: John McCain Furious That Iran Treated ...</td>\n",
       "      <td>21st Century Wire says As 21WIRE reported earl...</td>\n",
       "      <td>mcpain john mccain furious iran treated us sai...</td>\n",
       "      <td>st century wire says wire reported earlier wee...</td>\n",
       "      <td>0</td>\n",
       "    </tr>\n",
       "    <tr>\n",
       "      <th>44893</th>\n",
       "      <td>JUSTICE? Yahoo Settles E-mail Privacy Class-ac...</td>\n",
       "      <td>21st Century Wire says It s a familiar theme. ...</td>\n",
       "      <td>justice yahoo settles email privacy classactio...</td>\n",
       "      <td>st century wire says familiar theme whenever d...</td>\n",
       "      <td>0</td>\n",
       "    </tr>\n",
       "    <tr>\n",
       "      <th>44894</th>\n",
       "      <td>Sunnistan: US and Allied ‘Safe Zone’ Plan to T...</td>\n",
       "      <td>Patrick Henningsen  21st Century WireRemember ...</td>\n",
       "      <td>sunnistan us allied safe zone plan take territ...</td>\n",
       "      <td>patrick henningsen  st century wireremember ob...</td>\n",
       "      <td>0</td>\n",
       "    </tr>\n",
       "    <tr>\n",
       "      <th>44895</th>\n",
       "      <td>How to Blow $700 Million: Al Jazeera America F...</td>\n",
       "      <td>21st Century Wire says Al Jazeera America will...</td>\n",
       "      <td>blow  million al jazeera america finally calls...</td>\n",
       "      <td>st century wire says al jazeera america go his...</td>\n",
       "      <td>0</td>\n",
       "    </tr>\n",
       "    <tr>\n",
       "      <th>44896</th>\n",
       "      <td>10 U.S. Navy Sailors Held by Iranian Military ...</td>\n",
       "      <td>21st Century Wire says As 21WIRE predicted in ...</td>\n",
       "      <td>u navy sailors held iranian military  signs n...</td>\n",
       "      <td>st century wire says wire predicted new year l...</td>\n",
       "      <td>0</td>\n",
       "    </tr>\n",
       "  </tbody>\n",
       "</table>\n",
       "<p>44897 rows × 5 columns</p>\n",
       "</div>"
      ],
      "text/plain": [
       "                                                   title  \\\n",
       "0      As U.S. budget fight looms, Republicans flip t...   \n",
       "1      U.S. military to accept transgender recruits o...   \n",
       "2      Senior U.S. Republican senator: 'Let Mr. Muell...   \n",
       "3      FBI Russia probe helped by Australian diplomat...   \n",
       "4      Trump wants Postal Service to charge 'much mor...   \n",
       "...                                                  ...   \n",
       "44892  McPain: John McCain Furious That Iran Treated ...   \n",
       "44893  JUSTICE? Yahoo Settles E-mail Privacy Class-ac...   \n",
       "44894  Sunnistan: US and Allied ‘Safe Zone’ Plan to T...   \n",
       "44895  How to Blow $700 Million: Al Jazeera America F...   \n",
       "44896  10 U.S. Navy Sailors Held by Iranian Military ...   \n",
       "\n",
       "                                                    text  \\\n",
       "0      - The head of a conservative Republican factio...   \n",
       "1      - Transgender people will be allowed for the f...   \n",
       "2      - The special counsel investigation of links b...   \n",
       "3      - Trump campaign adviser George Papadopoulos t...   \n",
       "4      - President Donald Trump called on the U.S. Po...   \n",
       "...                                                  ...   \n",
       "44892  21st Century Wire says As 21WIRE reported earl...   \n",
       "44893  21st Century Wire says It s a familiar theme. ...   \n",
       "44894  Patrick Henningsen  21st Century WireRemember ...   \n",
       "44895  21st Century Wire says Al Jazeera America will...   \n",
       "44896  21st Century Wire says As 21WIRE predicted in ...   \n",
       "\n",
       "                                         title_processed  \\\n",
       "0      u budget fight looms republicans flip fiscal s...   \n",
       "1      u military accept transgender recruits monday ...   \n",
       "2         senior u republican senator let mr mueller job   \n",
       "3      fbi russia probe helped australian diplomat ti...   \n",
       "4      trump wants postal service charge much  amazon...   \n",
       "...                                                  ...   \n",
       "44892  mcpain john mccain furious iran treated us sai...   \n",
       "44893  justice yahoo settles email privacy classactio...   \n",
       "44894  sunnistan us allied safe zone plan take territ...   \n",
       "44895  blow  million al jazeera america finally calls...   \n",
       "44896   u navy sailors held iranian military  signs n...   \n",
       "\n",
       "                                          text_processed  target  \n",
       "0       head conservative republican faction u congre...       1  \n",
       "1       transgender people allowed first time enlist ...       1  \n",
       "2       special counsel investigation links russia pr...       1  \n",
       "3       trump campaign adviser george papadopoulos to...       1  \n",
       "4       president donald trump called u postal servic...       1  \n",
       "...                                                  ...     ...  \n",
       "44892  st century wire says wire reported earlier wee...       0  \n",
       "44893  st century wire says familiar theme whenever d...       0  \n",
       "44894  patrick henningsen  st century wireremember ob...       0  \n",
       "44895  st century wire says al jazeera america go his...       0  \n",
       "44896  st century wire says wire predicted new year l...       0  \n",
       "\n",
       "[44897 rows x 5 columns]"
      ]
     },
     "execution_count": 38,
     "metadata": {},
     "output_type": "execute_result"
    }
   ],
   "source": [
    "mixed_news"
   ]
  },
  {
   "cell_type": "markdown",
   "metadata": {},
   "source": [
    "We subset the dataframe for only those columns that will be needed in modelling process:"
   ]
  },
  {
   "cell_type": "code",
   "execution_count": 39,
   "metadata": {},
   "outputs": [
    {
     "data": {
      "text/html": [
       "<div>\n",
       "<style scoped>\n",
       "    .dataframe tbody tr th:only-of-type {\n",
       "        vertical-align: middle;\n",
       "    }\n",
       "\n",
       "    .dataframe tbody tr th {\n",
       "        vertical-align: top;\n",
       "    }\n",
       "\n",
       "    .dataframe thead th {\n",
       "        text-align: right;\n",
       "    }\n",
       "</style>\n",
       "<table border=\"1\" class=\"dataframe\">\n",
       "  <thead>\n",
       "    <tr style=\"text-align: right;\">\n",
       "      <th></th>\n",
       "      <th>title_processed</th>\n",
       "      <th>text_processed</th>\n",
       "      <th>target</th>\n",
       "    </tr>\n",
       "  </thead>\n",
       "  <tbody>\n",
       "    <tr>\n",
       "      <th>0</th>\n",
       "      <td>u budget fight looms republicans flip fiscal s...</td>\n",
       "      <td>head conservative republican faction u congre...</td>\n",
       "      <td>1</td>\n",
       "    </tr>\n",
       "    <tr>\n",
       "      <th>1</th>\n",
       "      <td>u military accept transgender recruits monday ...</td>\n",
       "      <td>transgender people allowed first time enlist ...</td>\n",
       "      <td>1</td>\n",
       "    </tr>\n",
       "    <tr>\n",
       "      <th>2</th>\n",
       "      <td>senior u republican senator let mr mueller job</td>\n",
       "      <td>special counsel investigation links russia pr...</td>\n",
       "      <td>1</td>\n",
       "    </tr>\n",
       "    <tr>\n",
       "      <th>3</th>\n",
       "      <td>fbi russia probe helped australian diplomat ti...</td>\n",
       "      <td>trump campaign adviser george papadopoulos to...</td>\n",
       "      <td>1</td>\n",
       "    </tr>\n",
       "    <tr>\n",
       "      <th>4</th>\n",
       "      <td>trump wants postal service charge much  amazon...</td>\n",
       "      <td>president donald trump called u postal servic...</td>\n",
       "      <td>1</td>\n",
       "    </tr>\n",
       "    <tr>\n",
       "      <th>...</th>\n",
       "      <td>...</td>\n",
       "      <td>...</td>\n",
       "      <td>...</td>\n",
       "    </tr>\n",
       "    <tr>\n",
       "      <th>44892</th>\n",
       "      <td>mcpain john mccain furious iran treated us sai...</td>\n",
       "      <td>st century wire says wire reported earlier wee...</td>\n",
       "      <td>0</td>\n",
       "    </tr>\n",
       "    <tr>\n",
       "      <th>44893</th>\n",
       "      <td>justice yahoo settles email privacy classactio...</td>\n",
       "      <td>st century wire says familiar theme whenever d...</td>\n",
       "      <td>0</td>\n",
       "    </tr>\n",
       "    <tr>\n",
       "      <th>44894</th>\n",
       "      <td>sunnistan us allied safe zone plan take territ...</td>\n",
       "      <td>patrick henningsen  st century wireremember ob...</td>\n",
       "      <td>0</td>\n",
       "    </tr>\n",
       "    <tr>\n",
       "      <th>44895</th>\n",
       "      <td>blow  million al jazeera america finally calls...</td>\n",
       "      <td>st century wire says al jazeera america go his...</td>\n",
       "      <td>0</td>\n",
       "    </tr>\n",
       "    <tr>\n",
       "      <th>44896</th>\n",
       "      <td>u navy sailors held iranian military  signs n...</td>\n",
       "      <td>st century wire says wire predicted new year l...</td>\n",
       "      <td>0</td>\n",
       "    </tr>\n",
       "  </tbody>\n",
       "</table>\n",
       "<p>44897 rows × 3 columns</p>\n",
       "</div>"
      ],
      "text/plain": [
       "                                         title_processed  \\\n",
       "0      u budget fight looms republicans flip fiscal s...   \n",
       "1      u military accept transgender recruits monday ...   \n",
       "2         senior u republican senator let mr mueller job   \n",
       "3      fbi russia probe helped australian diplomat ti...   \n",
       "4      trump wants postal service charge much  amazon...   \n",
       "...                                                  ...   \n",
       "44892  mcpain john mccain furious iran treated us sai...   \n",
       "44893  justice yahoo settles email privacy classactio...   \n",
       "44894  sunnistan us allied safe zone plan take territ...   \n",
       "44895  blow  million al jazeera america finally calls...   \n",
       "44896   u navy sailors held iranian military  signs n...   \n",
       "\n",
       "                                          text_processed  target  \n",
       "0       head conservative republican faction u congre...       1  \n",
       "1       transgender people allowed first time enlist ...       1  \n",
       "2       special counsel investigation links russia pr...       1  \n",
       "3       trump campaign adviser george papadopoulos to...       1  \n",
       "4       president donald trump called u postal servic...       1  \n",
       "...                                                  ...     ...  \n",
       "44892  st century wire says wire reported earlier wee...       0  \n",
       "44893  st century wire says familiar theme whenever d...       0  \n",
       "44894  patrick henningsen  st century wireremember ob...       0  \n",
       "44895  st century wire says al jazeera america go his...       0  \n",
       "44896  st century wire says wire predicted new year l...       0  \n",
       "\n",
       "[44897 rows x 3 columns]"
      ]
     },
     "execution_count": 39,
     "metadata": {},
     "output_type": "execute_result"
    }
   ],
   "source": [
    "mixed_news = mixed_news[['title_processed', 'text_processed', 'target']]\n",
    "mixed_news"
   ]
  },
  {
   "cell_type": "markdown",
   "metadata": {},
   "source": [
    "Splitting observations into training and testing sample"
   ]
  },
  {
   "cell_type": "code",
   "execution_count": 40,
   "metadata": {},
   "outputs": [],
   "source": [
    "X_train, X_test, y_train, y_test = train_test_split(mixed_news.text_processed, mixed_news.target,\n",
    "                                                    test_size = 0.2, random_state = 13)"
   ]
  },
  {
   "cell_type": "code",
   "execution_count": 41,
   "metadata": {},
   "outputs": [
    {
     "data": {
      "text/plain": [
       "0    0.522594\n",
       "1    0.477406\n",
       "Name: target, dtype: float64"
      ]
     },
     "execution_count": 41,
     "metadata": {},
     "output_type": "execute_result"
    }
   ],
   "source": [
    "y_train.value_counts('y')"
   ]
  },
  {
   "cell_type": "code",
   "execution_count": 42,
   "metadata": {},
   "outputs": [
    {
     "data": {
      "text/plain": [
       "0    0.52461\n",
       "1    0.47539\n",
       "Name: target, dtype: float64"
      ]
     },
     "execution_count": 42,
     "metadata": {},
     "output_type": "execute_result"
    }
   ],
   "source": [
    "y_test.value_counts('y')"
   ]
  },
  {
   "cell_type": "markdown",
   "metadata": {},
   "source": [
    "The proportions of x and y classes in both samples are very similar. Next step is to convert a collection of text documents to a matrix of token counts with the use of CountVectorizer() function"
   ]
  },
  {
   "cell_type": "code",
   "execution_count": 43,
   "metadata": {},
   "outputs": [],
   "source": [
    "count_vect = CountVectorizer().fit(X_train)\n",
    "X_count_vect_train = count_vect.transform(X_train)\n",
    "X_count_vect_test = count_vect.transform(X_test)"
   ]
  },
  {
   "cell_type": "markdown",
   "metadata": {},
   "source": [
    "We obtain a sparse matrix of the counts."
   ]
  },
  {
   "cell_type": "code",
   "execution_count": 44,
   "metadata": {},
   "outputs": [
    {
     "data": {
      "text/plain": [
       "<35917x207259 sparse matrix of type '<class 'numpy.int64'>'\n",
       "\twith 5734989 stored elements in Compressed Sparse Row format>"
      ]
     },
     "execution_count": 44,
     "metadata": {},
     "output_type": "execute_result"
    }
   ],
   "source": [
    "X_count_vect_train"
   ]
  },
  {
   "cell_type": "markdown",
   "metadata": {},
   "source": [
    "#### Logistic Regression"
   ]
  },
  {
   "cell_type": "code",
   "execution_count": 45,
   "metadata": {},
   "outputs": [
    {
     "name": "stderr",
     "output_type": "stream",
     "text": [
      "C:\\Users\\lenovo\\anaconda3\\lib\\site-packages\\sklearn\\linear_model\\_logistic.py:763: ConvergenceWarning: lbfgs failed to converge (status=1):\n",
      "STOP: TOTAL NO. of ITERATIONS REACHED LIMIT.\n",
      "\n",
      "Increase the number of iterations (max_iter) or scale the data as shown in:\n",
      "    https://scikit-learn.org/stable/modules/preprocessing.html\n",
      "Please also refer to the documentation for alternative solver options:\n",
      "    https://scikit-learn.org/stable/modules/linear_model.html#logistic-regression\n",
      "  n_iter_i = _check_optimize_result(\n"
     ]
    }
   ],
   "source": [
    "lr = LogisticRegression()\n",
    "\n",
    "lr_fitted = lr.fit(X_count_vect_train, y_train)"
   ]
  },
  {
   "cell_type": "code",
   "execution_count": 46,
   "metadata": {},
   "outputs": [
    {
     "data": {
      "text/plain": [
       "LogisticRegression()"
      ]
     },
     "execution_count": 46,
     "metadata": {},
     "output_type": "execute_result"
    }
   ],
   "source": [
    "lr_fitted"
   ]
  },
  {
   "cell_type": "code",
   "execution_count": 47,
   "metadata": {},
   "outputs": [],
   "source": [
    "# Let's make predictions with logistic regression model\n",
    "lr_predictions = lr.predict(X_count_vect_test)"
   ]
  },
  {
   "cell_type": "code",
   "execution_count": 48,
   "metadata": {},
   "outputs": [
    {
     "data": {
      "text/plain": [
       "<AxesSubplot:>"
      ]
     },
     "execution_count": 48,
     "metadata": {},
     "output_type": "execute_result"
    },
    {
     "data": {
      "image/png": "[encoded data removed]",
      "text/plain": [
       "<Figure size 432x288 with 2 Axes>"
      ]
     },
     "metadata": {
      "needs_background": "light"
     },
     "output_type": "display_data"
    }
   ],
   "source": [
    "# Checking how accurate the predicitons were on the confusion matrix\n",
    "cm = confusion_matrix(list(y_test), lr_predictions)\n",
    "plt.figure()\n",
    "sns.heatmap(cm, annot = True, fmt = 'g', cmap='rocket')"
   ]
  },
  {
   "cell_type": "code",
   "execution_count": 49,
   "metadata": {},
   "outputs": [
    {
     "name": "stdout",
     "output_type": "stream",
     "text": [
      "The logistic regression model accurately classified real and fake news in \u001b[1m98.6%\u001b[0m of cases\n"
     ]
    }
   ],
   "source": [
    "# Now let's see this prediction on a joint metric - the Area Under the ROC Curve (AUC)\n",
    "lr_ac = accuracy_score(y_test, lr_predictions)\n",
    "print(f'The logistic regression model accurately classified real and fake news in \\033[1m{round(lr_ac, 3)*100}%\\033[0m of cases')"
   ]
  },
  {
   "cell_type": "markdown",
   "metadata": {},
   "source": [
    "The obtained accuracy is very high. Let's see whether another model can beat this value"
   ]
  },
  {
   "cell_type": "markdown",
   "metadata": {},
   "source": [
    "#### Multinomial Naive Bayes"
   ]
  },
  {
   "cell_type": "code",
   "execution_count": 51,
   "metadata": {},
   "outputs": [],
   "source": [
    "mnb = MultinomialNB()\n",
    "mnb_fitted = mnb.fit(X_count_vect_train, y_train)"
   ]
  },
  {
   "cell_type": "code",
   "execution_count": 52,
   "metadata": {},
   "outputs": [],
   "source": [
    "# Let's make predictions with logistic regression model\n",
    "mnb_predictions = mnb.predict(X_count_vect_test)"
   ]
  },
  {
   "cell_type": "code",
   "execution_count": 53,
   "metadata": {},
   "outputs": [
    {
     "data": {
      "text/plain": [
       "<AxesSubplot:>"
      ]
     },
     "execution_count": 53,
     "metadata": {},
     "output_type": "execute_result"
    },
    {
     "data": {
      "image/png": "[encoded data removed]",
      "text/plain": [
       "<Figure size 432x288 with 2 Axes>"
      ]
     },
     "metadata": {
      "needs_background": "light"
     },
     "output_type": "display_data"
    }
   ],
   "source": [
    "# Checking how accurate the predicitons were on the confusion matrix\n",
    "cm = confusion_matrix(list(y_test), mnb_predictions)\n",
    "plt.figure()\n",
    "sns.heatmap(cm, annot = True, fmt = 'g', cmap='rocket')"
   ]
  },
  {
   "cell_type": "code",
   "execution_count": 55,
   "metadata": {},
   "outputs": [
    {
     "name": "stdout",
     "output_type": "stream",
     "text": [
      "The multinomial naive bayes model accurately classified real and fake news in \u001b[1m95.3%\u001b[0m of cases\n"
     ]
    }
   ],
   "source": [
    "# Now let's see this prediction on a joint metric - the Area Under the ROC Curve (AUC)\n",
    "mnb_ac = accuracy_score(y_test, mnb_predictions)\n",
    "print(f'The multinomial naive bayes model accurately classified real and fake news in \\033[1m{round(mnb_ac, 3)*100}%\\033[0m of cases')"
   ]
  },
  {
   "cell_type": "markdown",
   "metadata": {},
   "source": [
    "### Part 5 - Conclusions."
   ]
  },
  {
   "cell_type": "markdown",
   "metadata": {},
   "source": [
    "At first glance both sets seemed very similar - the top words returned for both sets were almost interchangeable and both contained words associated with politics. The news are from the year 2017, so we can see that words resemble the American (USA) political scene at the moment.\n",
    "\n",
    "After running clustering and plotting the results it could be clearly noticed that the word structure of fake articles differs from the real ones. In the real news there are naturally formed clusters that can be quite easily determined. Fake news clusters are concentrated very densly in one spot, meaning the points have similar coordinates. This is also reflected in a key word extraction - if we compare the results for key words for 2 or 8 clusters, we can see that there is not much variety in those words. It is really hard to distinguish different subjects, even though at the beginning of our analysis we could see that fake news have more subject categories than the real ones.\n",
    "\n",
    "For the classification part, obtaining very high accuracy (more than 98 % in case of logistic regression) can lead to the conclusion that this model distinguishes real and fake news (about US politics) very well. Nowadays, it is invaluable to be able to know whether an information on the social media can be trusted. With this simple example model we proven that more sophisticated models  (trained on a much bigger sample and wider range of topics) could provide us certainty whether the content of the news that we read every single day can be trusted or not."
   ]
  }
 ],
 "metadata": {
  "kernelspec": {
   "display_name": "Python 3",
   "language": "python",
   "name": "python3"
  },
  "language_info": {
   "codemirror_mode": {
    "name": "ipython",
    "version": 3
   },
   "file_extension": ".py",
   "mimetype": "text/x-python",
   "name": "python",
   "nbconvert_exporter": "python",
   "pygments_lexer": "ipython3",
   "version": "3.8.3"
  }
 },
 "nbformat": 4,
 "nbformat_minor": 4
}

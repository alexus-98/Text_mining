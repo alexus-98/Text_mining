{
 "cells": [
  {
   "cell_type": "markdown",
   "metadata": {
    "id": "6qVJrquz30Sa"
   },
   "source": [
    "-------------------------------------------------------------------------------------------------------------------------------\n",
    "-------------------------------------------------------------------------------------------------------------------------------\n",
    "# Text Mining and Social Media Mining\n",
    "## SEMESTRAL PROJECT - SENTIMENT ANALYSIS OF TWEETS\n",
    "### Aleksandra Tomczak, Aleksander Partyga\n",
    "-------------------------------------------------------------------------------------------------------------------------------\n",
    "-------------------------------------------------------------------------------------------------------------------------------\n",
    "\n",
    "The aim of this project is to perform a sentiment analysis on tweets connected with the Covid-19 pandemic. We would like to compare what emotions are dominant in posts of pro-vacciners and anti-vacciners. To achieve this goal we are going to compare the vocabulary used by each of the groups: both the most popular words and most popular hashtags used among those two groups. After that , the LDA was performed to distinguish dominating topics among the tweets.\n",
    "\n",
    "In order to perform the analysis, the data from Twitter was scrapped for two positive and two negative hashtags - #VaccinesWork and #GetVaccinatedNow for pro-vaxxers, #VaccineSideEffects #Antivaxx for anti-vaxxers. We scraped 2500 tweets for each of the hashtags, then combined them within groups to form data frames that consist of 5000 tweets. Lastly, we chose only tweets from the users whose number of followers exceeds 100. The data was gathered in December 2021/ January 2022.\n",
    "\n",
    "-------------------------------------------------------------------------------------------------------------------------------\n",
    "-------------------------------------------------------------------------------------------------------------------------------\n",
    "\n",
    "**The project consists of the following sections:**\n",
    "\n",
    "**Part 1** - Necessary imports and downloads.\n",
    "\n",
    "**Part 2** - Scraping data from Twitter.\n",
    "\n",
    "**Part 3** - Text preprocessing and exploratory data analysis.\n",
    "\n",
    "**Part 4** - Sentiment analysis.\n",
    "\n",
    "**Part 5** - Latent Dirichlet allocation (LDA).\n",
    "\n",
    "**Part 6** - Conclusions.\n",
    "\n",
    "-------------------------------------------------------------------------------------------------------------------------------\n",
    "-------------------------------------------------------------------------------------------------------------------------------"
   ]
  },
  {
   "cell_type": "markdown",
   "metadata": {
    "id": "oJ2r1dw_30Se"
   },
   "source": [
    "## Part 1 - Necessary imports and downloads."
   ]
  },
  {
   "cell_type": "code",
   "execution_count": 1,
   "metadata": {
    "id": "kOygtI7430Sf"
   },
   "outputs": [],
   "source": [
    "import json\n",
    "import csv\n",
    "import tweepy\n",
    "import re\n",
    "import ast\n",
    "import string\n",
    "import nltk\n",
    "import sklearn\n",
    "import pandas as pd\n",
    "import seaborn as sns\n",
    "import matplotlib.pyplot as plt\n",
    "%matplotlib inline"
   ]
  },
  {
   "cell_type": "code",
   "execution_count": 2,
   "metadata": {
    "id": "waxN2gX730Sg"
   },
   "outputs": [],
   "source": [
    "from nltk.corpus import stopwords\n",
    "from nltk.stem import PorterStemmer\n",
    "from nltk.tokenize import RegexpTokenizer\n",
    "from nltk.sentiment.vader import SentimentIntensityAnalyzer\n",
    "from sklearn.feature_extraction.text import CountVectorizer\n",
    "from sklearn.decomposition import LatentDirichletAllocation as LDA\n",
    "from wordcloud import WordCloud"
   ]
  },
  {
   "cell_type": "code",
   "execution_count": null,
   "metadata": {
    "colab": {
     "base_uri": "https://localhost:8080/"
    },
    "collapsed": true,
    "id": "zA_wQWiH30Sh",
    "outputId": "722749bc-fcc3-4a63-f932-9927e3158681"
   },
   "outputs": [
    {
     "name": "stdout",
     "output_type": "stream",
     "text": [
      "[nltk_data] Downloading package stopwords to /root/nltk_data...\n",
      "[nltk_data]   Package stopwords is already up-to-date!\n",
      "[nltk_data] Downloading package punkt to /root/nltk_data...\n",
      "[nltk_data]   Package punkt is already up-to-date!\n",
      "[nltk_data] Downloading package vader_lexicon to /root/nltk_data...\n",
      "[nltk_data]   Package vader_lexicon is already up-to-date!\n"
     ]
    },
    {
     "data": {
      "text/plain": [
       "True"
      ]
     },
     "execution_count": 4,
     "metadata": {},
     "output_type": "execute_result"
    }
   ],
   "source": [
    "nltk.download('stopwords')\n",
    "nltk.download('punkt')\n",
    "nltk.download('vader_lexicon')"
   ]
  },
  {
   "cell_type": "markdown",
   "metadata": {
    "id": "iOfK7TXC30Sl"
   },
   "source": [
    "Function to display pandas dataframes side by side / one by one:"
   ]
  },
  {
   "cell_type": "code",
   "execution_count": 3,
   "metadata": {
    "id": "ut53Iafn30Sm"
   },
   "outputs": [],
   "source": [
    "from IPython.display import display_html\n",
    "def display_side_by_side(*args):\n",
    "    html_str=''\n",
    "    for df in args:\n",
    "        html_str+=df.to_html()\n",
    "    display_html(html_str.replace('table','table style=\"display:inline\"'), raw=True)"
   ]
  },
  {
   "cell_type": "markdown",
   "metadata": {
    "id": "GTaGQTwo30Sm"
   },
   "source": [
    "## Part 2 - Scraping data from Twitter.\n",
    "\n",
    "In order to scrap the data from Twitter, we requested developer accounts through our private Twitter accounts. It gives the user limited access to the Twitter API, however, it was sufficient for the purpose of this project. Endpoints are accessed with the help of the Python library - *tweepy*. We used a function written by the user ritvikmath that is accessible on [GitHub](https://github.com/ritvikmath/ScrapingData/blob/master/Scraping%20Twitter%20Data.ipynb).\n",
    "\n",
    "The input of the function consists of: consumer_key, consumer_secret, access_token, access_token_secret - obtained from the developer account mode, hashtag_phrase - the hashtag or the combination of hashtags to search for. The output of the function is a CSV file with the tweets and their content."
   ]
  },
  {
   "cell_type": "code",
   "execution_count": 4,
   "metadata": {
    "id": "DTTOqcmn30Sn"
   },
   "outputs": [],
   "source": [
    "def search_for_hashtags(consumer_key, consumer_secret, access_token, access_token_secret, hashtag_phrase):\n",
    "    \n",
    "    # create authentication for accessing Twitter\n",
    "    auth = tweepy.OAuthHandler(consumer_key, consumer_secret)\n",
    "    auth.set_access_token(access_token, access_token_secret)\n",
    "\n",
    "    # initialize Tweepy API\n",
    "    api = tweepy.API(auth)\n",
    "    \n",
    "    # get the name of the spreadsheet we will write to\n",
    "    fname = '_'.join(re.findall(r\"#(\\w+)\", hashtag_phrase))\n",
    "\n",
    "    # open the spreadsheet we will write to\n",
    "    with open('%s.csv'%(fname),'w', encoding=\"utf-8\") as file:\n",
    "\n",
    "        w = csv.writer(file)\n",
    "\n",
    "        # write header row to spreadsheet\n",
    "        w.writerow(['timestamp', 'tweet_text', 'username', 'all_hashtags', 'followers_count'])\n",
    "\n",
    "        # for each tweet matching our hashtags, write relevant info to the spreadsheet\n",
    "        for tweet in tweepy.Cursor(api.search_tweets, q=hashtag_phrase+' -filter:retweets', \\\n",
    "                                   lang=\"en\", tweet_mode='extended').items(2500):\n",
    "            w.writerow([tweet.created_at, tweet.full_text.replace('\\n',' ').encode('utf-8'), tweet.user.screen_name.encode('utf-8'), [e['text'] for e in tweet._json['entities']['hashtags']], tweet.user.followers_count])            "
   ]
  },
  {
   "cell_type": "markdown",
   "metadata": {
    "id": "3iVshT5430Sn"
   },
   "source": [
    "Next step is to input the consumer keys, download the tweets and generate a CSV file with tweets. The below procedure was repeated for all hashtags - positive: #VaccinesWork, #GetVaccinatedNow and negative: #VaccineSideEffects, #Antivaxx."
   ]
  },
  {
   "cell_type": "code",
   "execution_count": 9,
   "metadata": {
    "colab": {
     "base_uri": "https://localhost:8080/",
     "height": 565
    },
    "id": "mrvFEwRl30So",
    "outputId": "bbe16f29-15bf-46c4-8b08-7e6a973f2139"
   },
   "outputs": [
    {
     "name": "stdout",
     "output_type": "stream",
     "text": [
      "Consumer Key RhJNxtK3rQcYVHtnARCM4uEnb\n",
      "Consumer Secret XwT9Mw6fgkIezQtlmIieaeLjFyRM2H81So9klSjpXVVlUsBU1O\n",
      "Access Token 827690106-hIUZ24TVnttxeV8Iws2XDuThazqSgsN3wmuFVBJS\n",
      "Access Token Secret 8KdCOYjtDAwY3S8VUcxfPh5zZJ9U9fiwFKJWqVmRzAkgu\n",
      "Hashtag Phrase #VaccinesWork\n"
     ]
    }
   ],
   "source": [
    "consumer_key = input('Consumer Key ')\n",
    "consumer_secret = input('Consumer Secret ')\n",
    "access_token = input('Access Token ')\n",
    "access_token_secret = input('Access Token Secret ')  \n",
    "hashtag_phrase = input('Hashtag Phrase ')\n",
    "\n",
    "if __name__ == '__main__':\n",
    "    search_for_hashtags(consumer_key, consumer_secret, access_token, access_token_secret, hashtag_phrase)"
   ]
  },
  {
   "cell_type": "markdown",
   "metadata": {},
   "source": [
    "The CSV files did not load properly into a pandas data frame due to some tweets downloaded with errors. We performed some data cleaning in Excel and then loaded the data from .xlsx into pandas. All tweets with errors were removed, as well as duplicates."
   ]
  },
  {
   "cell_type": "code",
   "execution_count": 5,
   "metadata": {},
   "outputs": [],
   "source": [
    "# load xlsx file into pandas data frame\n",
    "df_pro = pd.read_excel('Pro_Hashtags.xlsx')\n",
    "\n",
    "# filter tweets by the number of user's followers (more than 100)\n",
    "df_pro = df_pro[df_pro[\"followers_count\"] > 100]\n",
    "\n",
    "# decode the text\n",
    "df_pro[\"username\"] = df_pro[\"username\"].apply(ast.literal_eval).str.decode(\"utf-8\")\n",
    "df_pro[\"tweet_text\"] = df_pro[\"tweet_text\"].apply(ast.literal_eval).str.decode(\"utf-8\")\n",
    "\n",
    "# drop all the columns but the one containing the text of the tweet\n",
    "tweets_pro = df_pro[[\"tweet_text\"]]"
   ]
  },
  {
   "cell_type": "code",
   "execution_count": 6,
   "metadata": {},
   "outputs": [],
   "source": [
    "# same procedure repeated for anti-vaccine tweets\n",
    "df_anti = pd.read_excel('Anti_Hashtags.xlsx')\n",
    "\n",
    "df_anti = df_anti[df_anti[\"followers_count\"] > 100]\n",
    "\n",
    "df_anti[\"username\"] = df_anti[\"username\"].apply(ast.literal_eval).str.decode(\"utf-8\")\n",
    "df_anti[\"tweet_text\"] = df_anti[\"tweet_text\"].apply(ast.literal_eval).str.decode(\"utf-8\")\n",
    "\n",
    "tweets_anti = df_anti[[\"tweet_text\"]]"
   ]
  },
  {
   "cell_type": "markdown",
   "metadata": {},
   "source": [
    "To avoid tweets posted by bots, we filtered them by the amount of followers of the user - the threshold was set at 100. It leaves us with 4417 tweet pro-vaccine and 4018 tweets anti-vaccine."
   ]
  },
  {
   "cell_type": "code",
   "execution_count": 7,
   "metadata": {},
   "outputs": [
    {
     "name": "stdout",
     "output_type": "stream",
     "text": [
      "4417 4018\n"
     ]
    }
   ],
   "source": [
    "print(len(tweets_pro), len(tweets_anti))"
   ]
  },
  {
   "cell_type": "code",
   "execution_count": 8,
   "metadata": {
    "colab": {
     "base_uri": "https://localhost:8080/",
     "height": 430
    },
    "id": "6REeEbJB30Sq",
    "outputId": "aa4dae49-a606-47c1-8b1c-6e4be52d05cf"
   },
   "outputs": [
    {
     "data": {
      "text/html": [
       "<table style=\"display:inline\" border=\"1\" class=\"dataframe\">\n",
       "  <thead>\n",
       "    <tr style=\"text-align: right;\">\n",
       "      <th></th>\n",
       "      <th>tweet_text</th>\n",
       "    </tr>\n",
       "  </thead>\n",
       "  <tbody>\n",
       "    <tr>\n",
       "      <th>0</th>\n",
       "      <td>I think we should vaccinate all children.... quadruple jabs for all of them... by force if necessary.  This virus doesn't care for human rights and neither do I. #getvaccinated #getvaccinatednow #vaccineswork https://t.co/2cZU3NlafM</td>\n",
       "    </tr>\n",
       "    <tr>\n",
       "      <th>1</th>\n",
       "      <td>@OBarromon @UseLogicBetter @CBSNews @FaceTheNation @margbrennan That's an unfair characterization. We would be in much deeper shit if the corrupt incompetents of TFG's administration were still running the country telling us it will all go away like a miracle without putting in the hard work. #GetVaccinatedNow</td>\n",
       "    </tr>\n",
       "    <tr>\n",
       "      <th>5</th>\n",
       "      <td>@ParentMishmash @leftylucieb @amyriscool @auntbunny22 @EmbryEthan I know 3 people with long Covid. One was unvaxxed and is now permanently disabled and will never leave a nursing home. He was a high powered financial advisor in NYC. Trashed his whole life and insurance has maxed out so he’s paying out-of-pocket. #GetVaccinatedNow #WearAMask</td>\n",
       "    </tr>\n",
       "    <tr>\n",
       "      <th>6</th>\n",
       "      <td>@amyriscool @ParentMishmash @auntbunny22 @EmbryEthan Except that the variants have come from other countries. It’s a global pandemic. Governments around the world need to get their populations vaxxed. This is how we got rid of polio and small pox…high global vaccination rates. #GetVaccinatedNow #WearAMask</td>\n",
       "    </tr>\n",
       "    <tr>\n",
       "      <th>7</th>\n",
       "      <td>@Karenlovecheese What can I say other than thank you and your colleagues for your fortitude.We would be in an even worse situation without your heroic work. Under-staffed, underpaid, under resourced NHS. 😢❤️#GetVaccinatedNow</td>\n",
       "    </tr>\n",
       "  </tbody>\n",
       "</table style=\"display:inline\"><table style=\"display:inline\" border=\"1\" class=\"dataframe\">\n",
       "  <thead>\n",
       "    <tr style=\"text-align: right;\">\n",
       "      <th></th>\n",
       "      <th>tweet_text</th>\n",
       "    </tr>\n",
       "  </thead>\n",
       "  <tbody>\n",
       "    <tr>\n",
       "      <th>0</th>\n",
       "      <td>Meanwhile, In #TheGreatReset #Authoritarian Proving Ground #Australia: #Unvaxxed #Aussies Told They Won’t Be Allowed to Exercise or Go to Work  https://t.co/H5JMePs2dA #Covid_19 #VaccineMandate #VaccineSideEffects #vaccieapartheid #BigPharmaProfits #COVID19 #OmnicronVariant</td>\n",
       "    </tr>\n",
       "    <tr>\n",
       "      <th>2</th>\n",
       "      <td>Deaths in young and working age males is on the rise  Why?  Or #OnlyCovidLivesMatter  #istandwithnovak  #VaccineDeaths  #BoosterJab  #OmicronVarient  #VaccineSideEffects https://t.co/yUykjuLZKa</td>\n",
       "    </tr>\n",
       "    <tr>\n",
       "      <th>3</th>\n",
       "      <td>#FakeNews #CNN Medical Guest: Let’s Penalize #Unvaccinated Americans, Deny Them Affordable Health Insurance...He must work for #BigPharma!  https://t.co/ab6o4aAcAj #Covid_19 #VaccineMandate #VaccineSideEffects #vaccieapartheid #BigPharmaProfits #COVID19 #OmnicronVariant #omnicorn https://t.co/8OkUqSjm5m</td>\n",
       "    </tr>\n",
       "    <tr>\n",
       "      <th>4</th>\n",
       "      <td>Defibrillators! Defibrillators!  Everywhere you go!  #VaccineSideEffects  https://t.co/FhVVmEZvHr via @Verge</td>\n",
       "    </tr>\n",
       "    <tr>\n",
       "      <th>6</th>\n",
       "      <td>ThE vAcCinE keEpS Us FrOm DeAtH #VaccineSideEffects #vaccine #Covid_19 https://t.co/KCqfWojRK9</td>\n",
       "    </tr>\n",
       "  </tbody>\n",
       "</table style=\"display:inline\">"
      ]
     },
     "metadata": {},
     "output_type": "display_data"
    }
   ],
   "source": [
    "display_side_by_side(tweets_pro.head(), tweets_anti.head())"
   ]
  },
  {
   "cell_type": "markdown",
   "metadata": {
    "id": "InMEqaGD30Sq"
   },
   "source": [
    "## Part 3 - Text preprocessing and exploratory data analysis."
   ]
  },
  {
   "cell_type": "markdown",
   "metadata": {
    "id": "xDTdgVy530Sq"
   },
   "source": [
    "Due to removal of some rows from pandas, the index in both *tweets_pro* and *tweets_anti* is not sequential, so we will first fix that."
   ]
  },
  {
   "cell_type": "code",
   "execution_count": 9,
   "metadata": {
    "id": "g8lEWAko30Sq"
   },
   "outputs": [],
   "source": [
    "# first line adds new index column with a sequential index, the second one drops the old index column\n",
    "tweets_pro = tweets_pro.reset_index()\n",
    "tweets_pro = tweets_pro.drop(columns = 'index')\n",
    "\n",
    "tweets_anti = tweets_anti.reset_index()\n",
    "tweets_anti = tweets_anti.drop(columns = 'index')"
   ]
  },
  {
   "cell_type": "code",
   "execution_count": 10,
   "metadata": {
    "colab": {
     "base_uri": "https://localhost:8080/",
     "height": 395
    },
    "id": "Wrggmc0030Sr",
    "outputId": "c7df3381-4804-4cf2-a7ab-5aa1408135b7"
   },
   "outputs": [
    {
     "data": {
      "text/html": [
       "<table style=\"display:inline\" border=\"1\" class=\"dataframe\">\n",
       "  <thead>\n",
       "    <tr style=\"text-align: right;\">\n",
       "      <th></th>\n",
       "      <th>tweet_text</th>\n",
       "    </tr>\n",
       "  </thead>\n",
       "  <tbody>\n",
       "    <tr>\n",
       "      <th>0</th>\n",
       "      <td>I think we should vaccinate all children.... quadruple jabs for all of them... by force if necessary.  This virus doesn't care for human rights and neither do I. #getvaccinated #getvaccinatednow #vaccineswork https://t.co/2cZU3NlafM</td>\n",
       "    </tr>\n",
       "    <tr>\n",
       "      <th>1</th>\n",
       "      <td>@OBarromon @UseLogicBetter @CBSNews @FaceTheNation @margbrennan That's an unfair characterization. We would be in much deeper shit if the corrupt incompetents of TFG's administration were still running the country telling us it will all go away like a miracle without putting in the hard work. #GetVaccinatedNow</td>\n",
       "    </tr>\n",
       "    <tr>\n",
       "      <th>2</th>\n",
       "      <td>@ParentMishmash @leftylucieb @amyriscool @auntbunny22 @EmbryEthan I know 3 people with long Covid. One was unvaxxed and is now permanently disabled and will never leave a nursing home. He was a high powered financial advisor in NYC. Trashed his whole life and insurance has maxed out so he’s paying out-of-pocket. #GetVaccinatedNow #WearAMask</td>\n",
       "    </tr>\n",
       "    <tr>\n",
       "      <th>3</th>\n",
       "      <td>@amyriscool @ParentMishmash @auntbunny22 @EmbryEthan Except that the variants have come from other countries. It’s a global pandemic. Governments around the world need to get their populations vaxxed. This is how we got rid of polio and small pox…high global vaccination rates. #GetVaccinatedNow #WearAMask</td>\n",
       "    </tr>\n",
       "    <tr>\n",
       "      <th>4</th>\n",
       "      <td>@Karenlovecheese What can I say other than thank you and your colleagues for your fortitude.We would be in an even worse situation without your heroic work. Under-staffed, underpaid, under resourced NHS. 😢❤️#GetVaccinatedNow</td>\n",
       "    </tr>\n",
       "  </tbody>\n",
       "</table style=\"display:inline\"><table style=\"display:inline\" border=\"1\" class=\"dataframe\">\n",
       "  <thead>\n",
       "    <tr style=\"text-align: right;\">\n",
       "      <th></th>\n",
       "      <th>tweet_text</th>\n",
       "    </tr>\n",
       "  </thead>\n",
       "  <tbody>\n",
       "    <tr>\n",
       "      <th>0</th>\n",
       "      <td>Meanwhile, In #TheGreatReset #Authoritarian Proving Ground #Australia: #Unvaxxed #Aussies Told They Won’t Be Allowed to Exercise or Go to Work  https://t.co/H5JMePs2dA #Covid_19 #VaccineMandate #VaccineSideEffects #vaccieapartheid #BigPharmaProfits #COVID19 #OmnicronVariant</td>\n",
       "    </tr>\n",
       "    <tr>\n",
       "      <th>1</th>\n",
       "      <td>Deaths in young and working age males is on the rise  Why?  Or #OnlyCovidLivesMatter  #istandwithnovak  #VaccineDeaths  #BoosterJab  #OmicronVarient  #VaccineSideEffects https://t.co/yUykjuLZKa</td>\n",
       "    </tr>\n",
       "    <tr>\n",
       "      <th>2</th>\n",
       "      <td>#FakeNews #CNN Medical Guest: Let’s Penalize #Unvaccinated Americans, Deny Them Affordable Health Insurance...He must work for #BigPharma!  https://t.co/ab6o4aAcAj #Covid_19 #VaccineMandate #VaccineSideEffects #vaccieapartheid #BigPharmaProfits #COVID19 #OmnicronVariant #omnicorn https://t.co/8OkUqSjm5m</td>\n",
       "    </tr>\n",
       "    <tr>\n",
       "      <th>3</th>\n",
       "      <td>Defibrillators! Defibrillators!  Everywhere you go!  #VaccineSideEffects  https://t.co/FhVVmEZvHr via @Verge</td>\n",
       "    </tr>\n",
       "    <tr>\n",
       "      <th>4</th>\n",
       "      <td>ThE vAcCinE keEpS Us FrOm DeAtH #VaccineSideEffects #vaccine #Covid_19 https://t.co/KCqfWojRK9</td>\n",
       "    </tr>\n",
       "  </tbody>\n",
       "</table style=\"display:inline\">"
      ]
     },
     "metadata": {},
     "output_type": "display_data"
    }
   ],
   "source": [
    "display_side_by_side(tweets_pro.head(), tweets_anti.head())"
   ]
  },
  {
   "cell_type": "markdown",
   "metadata": {
    "id": "g9wYxU7130Sr"
   },
   "source": [
    "Next, we created a separate column for the processed text and transformed all the characters into a lower case:"
   ]
  },
  {
   "cell_type": "code",
   "execution_count": 11,
   "metadata": {
    "id": "RxW_fER330Sr"
   },
   "outputs": [],
   "source": [
    "tweets_pro['tweet_processed'] = tweets_pro['tweet_text'].map(lambda x: x.lower())\n",
    "tweets_anti['tweet_processed'] = tweets_anti['tweet_text'].map(lambda x: x.lower())"
   ]
  },
  {
   "cell_type": "code",
   "execution_count": 12,
   "metadata": {
    "colab": {
     "base_uri": "https://localhost:8080/",
     "height": 498
    },
    "id": "THyic2mj30Sr",
    "outputId": "37a176d4-6f2d-433b-f10f-371201cce9e5"
   },
   "outputs": [
    {
     "data": {
      "text/html": [
       "<div>\n",
       "<style scoped>\n",
       "    .dataframe tbody tr th:only-of-type {\n",
       "        vertical-align: middle;\n",
       "    }\n",
       "\n",
       "    .dataframe tbody tr th {\n",
       "        vertical-align: top;\n",
       "    }\n",
       "\n",
       "    .dataframe thead th {\n",
       "        text-align: right;\n",
       "    }\n",
       "</style>\n",
       "<table border=\"1\" class=\"dataframe\">\n",
       "  <thead>\n",
       "    <tr style=\"text-align: right;\">\n",
       "      <th></th>\n",
       "      <th>tweet_text</th>\n",
       "      <th>tweet_processed</th>\n",
       "    </tr>\n",
       "  </thead>\n",
       "  <tbody>\n",
       "    <tr>\n",
       "      <th>0</th>\n",
       "      <td>I think we should vaccinate all children.... q...</td>\n",
       "      <td>i think we should vaccinate all children.... q...</td>\n",
       "    </tr>\n",
       "    <tr>\n",
       "      <th>1</th>\n",
       "      <td>@OBarromon @UseLogicBetter @CBSNews @FaceTheNa...</td>\n",
       "      <td>@obarromon @uselogicbetter @cbsnews @facethena...</td>\n",
       "    </tr>\n",
       "    <tr>\n",
       "      <th>2</th>\n",
       "      <td>@ParentMishmash @leftylucieb @amyriscool @aunt...</td>\n",
       "      <td>@parentmishmash @leftylucieb @amyriscool @aunt...</td>\n",
       "    </tr>\n",
       "    <tr>\n",
       "      <th>3</th>\n",
       "      <td>@amyriscool @ParentMishmash @auntbunny22 @Embr...</td>\n",
       "      <td>@amyriscool @parentmishmash @auntbunny22 @embr...</td>\n",
       "    </tr>\n",
       "    <tr>\n",
       "      <th>4</th>\n",
       "      <td>@Karenlovecheese What can I say other than tha...</td>\n",
       "      <td>@karenlovecheese what can i say other than tha...</td>\n",
       "    </tr>\n",
       "  </tbody>\n",
       "</table>\n",
       "</div>"
      ],
      "text/plain": [
       "                                          tweet_text  \\\n",
       "0  I think we should vaccinate all children.... q...   \n",
       "1  @OBarromon @UseLogicBetter @CBSNews @FaceTheNa...   \n",
       "2  @ParentMishmash @leftylucieb @amyriscool @aunt...   \n",
       "3  @amyriscool @ParentMishmash @auntbunny22 @Embr...   \n",
       "4  @Karenlovecheese What can I say other than tha...   \n",
       "\n",
       "                                     tweet_processed  \n",
       "0  i think we should vaccinate all children.... q...  \n",
       "1  @obarromon @uselogicbetter @cbsnews @facethena...  \n",
       "2  @parentmishmash @leftylucieb @amyriscool @aunt...  \n",
       "3  @amyriscool @parentmishmash @auntbunny22 @embr...  \n",
       "4  @karenlovecheese what can i say other than tha...  "
      ]
     },
     "execution_count": 12,
     "metadata": {},
     "output_type": "execute_result"
    }
   ],
   "source": [
    "tweets_pro.head()"
   ]
  },
  {
   "cell_type": "markdown",
   "metadata": {
    "id": "jfZefUX_RTZ4"
   },
   "source": [
    "Next step is to remove emojis and other non-ascii characters from *tweet_processed* column."
   ]
  },
  {
   "cell_type": "code",
   "execution_count": 13,
   "metadata": {
    "id": "UtXqLIra30Ss"
   },
   "outputs": [],
   "source": [
    "def remove_emoji(_tweet):\n",
    "    return _tweet.encode('ascii', 'ignore').decode('ascii')"
   ]
  },
  {
   "cell_type": "code",
   "execution_count": 14,
   "metadata": {
    "id": "Ulpnx0lI30Ss"
   },
   "outputs": [],
   "source": [
    "tweets_pro['tweet_processed'] = tweets_pro['tweet_processed'].apply(remove_emoji)\n",
    "tweets_anti['tweet_processed'] = tweets_anti['tweet_processed'].apply(remove_emoji)"
   ]
  },
  {
   "cell_type": "markdown",
   "metadata": {
    "id": "GK2avWuo30St"
   },
   "source": [
    "After that, we created a function that removes the punctuation and stopwords and creates the list of words used in every tweet. Allowing '#' sign to remain in the list, as we want to separate hashtags from the word list later on."
   ]
  },
  {
   "cell_type": "code",
   "execution_count": 96,
   "metadata": {},
   "outputs": [
    {
     "data": {
      "text/plain": [
       "'!\"#$%&\\'()*+,-./:;<=>?@[\\\\]^_`{|}~'"
      ]
     },
     "execution_count": 96,
     "metadata": {},
     "output_type": "execute_result"
    }
   ],
   "source": [
    "# display content of string.punctuation\n",
    "string.punctuation"
   ]
  },
  {
   "cell_type": "code",
   "execution_count": 102,
   "metadata": {
    "id": "XKLQRpb330St"
   },
   "outputs": [],
   "source": [
    "def text_process(_tweet):\n",
    "    custom_punc = string.punctuation.replace('#', '') # leave the hashtags\n",
    "    nopunc = [char for char in _tweet if char not in custom_punc] # remove punctuation character by character, create a list\n",
    "    nopunc = ''.join(nopunc) # joins elements of the list\n",
    "    return [word for word in nopunc.split() if word not in stopwords.words('english')] # split the string to words and remove the stopwords"
   ]
  },
  {
   "cell_type": "code",
   "execution_count": 16,
   "metadata": {
    "id": "13zfK-JZ30St"
   },
   "outputs": [],
   "source": [
    "tweets_pro['word_list'] = tweets_pro['tweet_processed'].apply(text_process)\n",
    "tweets_anti['word_list'] = tweets_anti['tweet_processed'].apply(text_process)"
   ]
  },
  {
   "cell_type": "markdown",
   "metadata": {},
   "source": [
    "Column *word_list* contains now the list of words used in a tweet without any punctuation or non-ascii characters:"
   ]
  },
  {
   "cell_type": "code",
   "execution_count": 17,
   "metadata": {
    "colab": {
     "base_uri": "https://localhost:8080/"
    },
    "id": "N6SJaD2630St",
    "outputId": "5104b93d-e10c-46eb-c9a4-24649be6cf53"
   },
   "outputs": [
    {
     "data": {
      "text/plain": [
       "['obarromon',\n",
       " 'uselogicbetter',\n",
       " 'cbsnews',\n",
       " 'facethenation',\n",
       " 'margbrennan',\n",
       " 'thats',\n",
       " 'unfair',\n",
       " 'characterization',\n",
       " 'would',\n",
       " 'much',\n",
       " 'deeper',\n",
       " 'shit',\n",
       " 'corrupt',\n",
       " 'incompetents',\n",
       " 'tfgs',\n",
       " 'administration',\n",
       " 'still',\n",
       " 'running',\n",
       " 'country',\n",
       " 'telling',\n",
       " 'us',\n",
       " 'go',\n",
       " 'away',\n",
       " 'like',\n",
       " 'miracle',\n",
       " 'without',\n",
       " 'putting',\n",
       " 'hard',\n",
       " 'work',\n",
       " '#getvaccinatednow']"
      ]
     },
     "execution_count": 17,
     "metadata": {},
     "output_type": "execute_result"
    }
   ],
   "source": [
    "tweets_pro['word_list'][1]"
   ]
  },
  {
   "cell_type": "markdown",
   "metadata": {
    "id": "Vg0ZKUfR30St"
   },
   "source": [
    "For stemmed tweets a separate column was created:"
   ]
  },
  {
   "cell_type": "code",
   "execution_count": 18,
   "metadata": {
    "id": "la1E1cPS30Su"
   },
   "outputs": [],
   "source": [
    "ps = PorterStemmer()"
   ]
  },
  {
   "cell_type": "code",
   "execution_count": 19,
   "metadata": {
    "id": "eQ5A3xeX30Su"
   },
   "outputs": [],
   "source": [
    "tweets_pro['tweet_stemmed'] = tweets_pro['word_list'].apply(lambda x: [ps.stem(word) for word in x])\n",
    "tweets_anti['tweet_stemmed'] = tweets_anti['word_list'].apply(lambda x: [ps.stem(word) for word in x])"
   ]
  },
  {
   "cell_type": "code",
   "execution_count": 20,
   "metadata": {
    "colab": {
     "base_uri": "https://localhost:8080/",
     "height": 206
    },
    "id": "IskStoOW30Su",
    "outputId": "ec0af4e1-9618-4a07-c3d5-ebaa097c8957"
   },
   "outputs": [
    {
     "data": {
      "text/html": [
       "<div>\n",
       "<style scoped>\n",
       "    .dataframe tbody tr th:only-of-type {\n",
       "        vertical-align: middle;\n",
       "    }\n",
       "\n",
       "    .dataframe tbody tr th {\n",
       "        vertical-align: top;\n",
       "    }\n",
       "\n",
       "    .dataframe thead th {\n",
       "        text-align: right;\n",
       "    }\n",
       "</style>\n",
       "<table border=\"1\" class=\"dataframe\">\n",
       "  <thead>\n",
       "    <tr style=\"text-align: right;\">\n",
       "      <th></th>\n",
       "      <th>tweet_text</th>\n",
       "      <th>tweet_processed</th>\n",
       "      <th>word_list</th>\n",
       "      <th>tweet_stemmed</th>\n",
       "    </tr>\n",
       "  </thead>\n",
       "  <tbody>\n",
       "    <tr>\n",
       "      <th>0</th>\n",
       "      <td>I think we should vaccinate all children.... q...</td>\n",
       "      <td>i think we should vaccinate all children.... q...</td>\n",
       "      <td>[think, vaccinate, children, quadruple, jabs, ...</td>\n",
       "      <td>[think, vaccin, children, quadrupl, jab, forc,...</td>\n",
       "    </tr>\n",
       "    <tr>\n",
       "      <th>1</th>\n",
       "      <td>@OBarromon @UseLogicBetter @CBSNews @FaceTheNa...</td>\n",
       "      <td>@obarromon @uselogicbetter @cbsnews @facethena...</td>\n",
       "      <td>[obarromon, uselogicbetter, cbsnews, facethena...</td>\n",
       "      <td>[obarromon, uselogicbett, cbsnew, facethen, ma...</td>\n",
       "    </tr>\n",
       "    <tr>\n",
       "      <th>2</th>\n",
       "      <td>@ParentMishmash @leftylucieb @amyriscool @aunt...</td>\n",
       "      <td>@parentmishmash @leftylucieb @amyriscool @aunt...</td>\n",
       "      <td>[parentmishmash, leftylucieb, amyriscool, aunt...</td>\n",
       "      <td>[parentmishmash, leftylucieb, amyriscool, aunt...</td>\n",
       "    </tr>\n",
       "    <tr>\n",
       "      <th>3</th>\n",
       "      <td>@amyriscool @ParentMishmash @auntbunny22 @Embr...</td>\n",
       "      <td>@amyriscool @parentmishmash @auntbunny22 @embr...</td>\n",
       "      <td>[amyriscool, parentmishmash, auntbunny22, embr...</td>\n",
       "      <td>[amyriscool, parentmishmash, auntbunny22, embr...</td>\n",
       "    </tr>\n",
       "    <tr>\n",
       "      <th>4</th>\n",
       "      <td>@Karenlovecheese What can I say other than tha...</td>\n",
       "      <td>@karenlovecheese what can i say other than tha...</td>\n",
       "      <td>[karenlovecheese, say, thank, colleagues, fort...</td>\n",
       "      <td>[karenlovechees, say, thank, colleagu, fortitu...</td>\n",
       "    </tr>\n",
       "  </tbody>\n",
       "</table>\n",
       "</div>"
      ],
      "text/plain": [
       "                                          tweet_text  \\\n",
       "0  I think we should vaccinate all children.... q...   \n",
       "1  @OBarromon @UseLogicBetter @CBSNews @FaceTheNa...   \n",
       "2  @ParentMishmash @leftylucieb @amyriscool @aunt...   \n",
       "3  @amyriscool @ParentMishmash @auntbunny22 @Embr...   \n",
       "4  @Karenlovecheese What can I say other than tha...   \n",
       "\n",
       "                                     tweet_processed  \\\n",
       "0  i think we should vaccinate all children.... q...   \n",
       "1  @obarromon @uselogicbetter @cbsnews @facethena...   \n",
       "2  @parentmishmash @leftylucieb @amyriscool @aunt...   \n",
       "3  @amyriscool @parentmishmash @auntbunny22 @embr...   \n",
       "4  @karenlovecheese what can i say other than tha...   \n",
       "\n",
       "                                           word_list  \\\n",
       "0  [think, vaccinate, children, quadruple, jabs, ...   \n",
       "1  [obarromon, uselogicbetter, cbsnews, facethena...   \n",
       "2  [parentmishmash, leftylucieb, amyriscool, aunt...   \n",
       "3  [amyriscool, parentmishmash, auntbunny22, embr...   \n",
       "4  [karenlovecheese, say, thank, colleagues, fort...   \n",
       "\n",
       "                                       tweet_stemmed  \n",
       "0  [think, vaccin, children, quadrupl, jab, forc,...  \n",
       "1  [obarromon, uselogicbett, cbsnew, facethen, ma...  \n",
       "2  [parentmishmash, leftylucieb, amyriscool, aunt...  \n",
       "3  [amyriscool, parentmishmash, auntbunny22, embr...  \n",
       "4  [karenlovechees, say, thank, colleagu, fortitu...  "
      ]
     },
     "execution_count": 20,
     "metadata": {},
     "output_type": "execute_result"
    }
   ],
   "source": [
    "tweets_pro.head()"
   ]
  },
  {
   "cell_type": "markdown",
   "metadata": {
    "id": "qeel3pKF30Su"
   },
   "source": [
    "We also created a separate columns with the list of hashtags used in a tweet."
   ]
  },
  {
   "cell_type": "code",
   "execution_count": 21,
   "metadata": {
    "id": "V8qIltc730Sv"
   },
   "outputs": [],
   "source": [
    "find_hashtags = re.compile(r'#([A-Za-z0-9_]+)')\n",
    "tweets_pro['hashtags'] = tweets_pro['tweet_text'].apply(lambda x: find_hashtags.findall(x))\n",
    "tweets_anti['hashtags'] = tweets_anti['tweet_text'].apply(lambda x: find_hashtags.findall(x))"
   ]
  },
  {
   "cell_type": "code",
   "execution_count": 22,
   "metadata": {
    "colab": {
     "base_uri": "https://localhost:8080/",
     "height": 206
    },
    "id": "lAta1F5530Sv",
    "outputId": "18afb5d5-b776-461f-d197-545003f18b3c"
   },
   "outputs": [
    {
     "data": {
      "text/html": [
       "<div>\n",
       "<style scoped>\n",
       "    .dataframe tbody tr th:only-of-type {\n",
       "        vertical-align: middle;\n",
       "    }\n",
       "\n",
       "    .dataframe tbody tr th {\n",
       "        vertical-align: top;\n",
       "    }\n",
       "\n",
       "    .dataframe thead th {\n",
       "        text-align: right;\n",
       "    }\n",
       "</style>\n",
       "<table border=\"1\" class=\"dataframe\">\n",
       "  <thead>\n",
       "    <tr style=\"text-align: right;\">\n",
       "      <th></th>\n",
       "      <th>tweet_text</th>\n",
       "      <th>tweet_processed</th>\n",
       "      <th>word_list</th>\n",
       "      <th>tweet_stemmed</th>\n",
       "      <th>hashtags</th>\n",
       "    </tr>\n",
       "  </thead>\n",
       "  <tbody>\n",
       "    <tr>\n",
       "      <th>4412</th>\n",
       "      <td>Took me almost a year to get my daughter to #G...</td>\n",
       "      <td>took me almost a year to get my daughter to #g...</td>\n",
       "      <td>[took, almost, year, get, daughter, #getvaccin...</td>\n",
       "      <td>[took, almost, year, get, daughter, #getvaccin...</td>\n",
       "      <td>[GetVaccinated, Pfizer, VaccinesWork]</td>\n",
       "    </tr>\n",
       "    <tr>\n",
       "      <th>4413</th>\n",
       "      <td>Wow. @Spotify chose Rogan and is pulling Neil ...</td>\n",
       "      <td>wow. @spotify chose rogan and is pulling neil ...</td>\n",
       "      <td>[wow, spotify, chose, rogan, pulling, neil, yo...</td>\n",
       "      <td>[wow, spotifi, chose, rogan, pull, neil, young...</td>\n",
       "      <td>[VaccinesWork]</td>\n",
       "    </tr>\n",
       "    <tr>\n",
       "      <th>4414</th>\n",
       "      <td>@TorontoStar By all means keep that fear monge...</td>\n",
       "      <td>@torontostar by all means keep that fear monge...</td>\n",
       "      <td>[torontostar, means, keep, fear, mongering, go...</td>\n",
       "      <td>[torontostar, mean, keep, fear, monger, go, th...</td>\n",
       "      <td>[Gaslighting, cdnpoli, cdnmedia, VaccinesWork]</td>\n",
       "    </tr>\n",
       "    <tr>\n",
       "      <th>4415</th>\n",
       "      <td>“Biden Administration Withdraws Its Vaccine-Or...</td>\n",
       "      <td>biden administration withdraws its vaccine-or-...</td>\n",
       "      <td>[biden, administration, withdraws, vaccineorte...</td>\n",
       "      <td>[biden, administr, withdraw, vaccineortest, ma...</td>\n",
       "      <td>[COVID19, covidvaccine, vaxnews, vaccines, vac...</td>\n",
       "    </tr>\n",
       "    <tr>\n",
       "      <th>4416</th>\n",
       "      <td>I was an advocate for vaccines long before I w...</td>\n",
       "      <td>i was an advocate for vaccines long before i w...</td>\n",
       "      <td>[advocate, vaccines, long, worked, space, face...</td>\n",
       "      <td>[advoc, vaccin, long, work, space, facebook, r...</td>\n",
       "      <td>[vaccineswork]</td>\n",
       "    </tr>\n",
       "  </tbody>\n",
       "</table>\n",
       "</div>"
      ],
      "text/plain": [
       "                                             tweet_text  \\\n",
       "4412  Took me almost a year to get my daughter to #G...   \n",
       "4413  Wow. @Spotify chose Rogan and is pulling Neil ...   \n",
       "4414  @TorontoStar By all means keep that fear monge...   \n",
       "4415  “Biden Administration Withdraws Its Vaccine-Or...   \n",
       "4416  I was an advocate for vaccines long before I w...   \n",
       "\n",
       "                                        tweet_processed  \\\n",
       "4412  took me almost a year to get my daughter to #g...   \n",
       "4413  wow. @spotify chose rogan and is pulling neil ...   \n",
       "4414  @torontostar by all means keep that fear monge...   \n",
       "4415  biden administration withdraws its vaccine-or-...   \n",
       "4416  i was an advocate for vaccines long before i w...   \n",
       "\n",
       "                                              word_list  \\\n",
       "4412  [took, almost, year, get, daughter, #getvaccin...   \n",
       "4413  [wow, spotify, chose, rogan, pulling, neil, yo...   \n",
       "4414  [torontostar, means, keep, fear, mongering, go...   \n",
       "4415  [biden, administration, withdraws, vaccineorte...   \n",
       "4416  [advocate, vaccines, long, worked, space, face...   \n",
       "\n",
       "                                          tweet_stemmed  \\\n",
       "4412  [took, almost, year, get, daughter, #getvaccin...   \n",
       "4413  [wow, spotifi, chose, rogan, pull, neil, young...   \n",
       "4414  [torontostar, mean, keep, fear, monger, go, th...   \n",
       "4415  [biden, administr, withdraw, vaccineortest, ma...   \n",
       "4416  [advoc, vaccin, long, work, space, facebook, r...   \n",
       "\n",
       "                                               hashtags  \n",
       "4412              [GetVaccinated, Pfizer, VaccinesWork]  \n",
       "4413                                     [VaccinesWork]  \n",
       "4414     [Gaslighting, cdnpoli, cdnmedia, VaccinesWork]  \n",
       "4415  [COVID19, covidvaccine, vaxnews, vaccines, vac...  \n",
       "4416                                     [vaccineswork]  "
      ]
     },
     "execution_count": 22,
     "metadata": {},
     "output_type": "execute_result"
    }
   ],
   "source": [
    "tweets_pro.tail()"
   ]
  },
  {
   "cell_type": "markdown",
   "metadata": {},
   "source": [
    "Next, the list of all words in pro-vaccine tweets and another list of all words in anti-vaccine tweets were created in a form of two long strings. We removed from both lists the words that contained numbers or were asociated directly with the topic of COVID19 vaccination."
   ]
  },
  {
   "cell_type": "code",
   "execution_count": 23,
   "metadata": {
    "id": "bost1DcgG2Mq"
   },
   "outputs": [],
   "source": [
    "all_words_pro = ' '.join([string for string in tweets_pro['word_list'].apply(lambda x: ' '.join(x))])\n",
    "all_words_anti = ' '.join([string for string in tweets_anti['word_list'].apply(lambda x: ' '.join(x))])"
   ]
  },
  {
   "cell_type": "code",
   "execution_count": 269,
   "metadata": {
    "id": "Ffm9UCKD30Sw"
   },
   "outputs": [],
   "source": [
    "# delete words that contain numbers\n",
    "filtered_words_pro = ' '.join([s for s in all_words_pro.split() if not any(c.isdigit() for c in s)])\n",
    "filtered_words_anti = ' '.join([s for s in all_words_anti.split() if not any(c.isdigit() for c in s)])\n",
    "\n",
    "# delete words that contain patterns like \"vaccin\", \"covid\" etc.\n",
    "filtered_words_pro = ' '.join(re.sub('.*covid.*|.*vaccin.*|.*boost.*|.*vaxx.*', '', w.lower()) for w in filtered_words_pro.split())\n",
    "filtered_words_anti = ' '.join(re.sub('.*covid.*|.*vaccin.*|.*boost.*|.*vaxx.*', '', w.lower()) for w in filtered_words_anti.split())"
   ]
  },
  {
   "cell_type": "markdown",
   "metadata": {},
   "source": [
    "We kept the hashtags as words, because many people use them in the middle of a sentence as a word replacement."
   ]
  },
  {
   "cell_type": "code",
   "execution_count": 25,
   "metadata": {
    "colab": {
     "base_uri": "https://localhost:8080/",
     "height": 128
    },
    "id": "YqJHowyd30Sw",
    "outputId": "53fea2e9-b10c-4246-cd8a-ca1d4714bbc3"
   },
   "outputs": [
    {
     "data": {
      "text/plain": [
       "'meanwhile #thegreatreset #authoritarian proving ground #australia  #aussies told wont allowed exercise go work   #vaccieapartheid #bigpharmaprofits #omnicronvariant deaths young working age males rise  #istandwithnovak   #omicronvarient  httpstcoyuykjulzka #fakenews #cnn medical guest lets penalize  americans deny affordable health insurancehe must work #bigpharma   #vaccieapartheid #bigpharmaprofits #omnicronvariant #omnicorn defibrillators defibrillators everywhere go  httpstcofhvvmezvhr via verge  keeps us death   urgent govt investigation    sirgrahambrady daviddavismp telegraph mailonline dailymailuk spectator eamonnholmes mrmarkdolan marcusfysh draseemmalhotra trialed months rolled general public #istandwithnovak #djokovic  #masksdontwork look dont look look see   work get  #followthescience #theythinkyourestupid  lot cases theyre worse    #donotcomplyever   #crimesagainsthumanity #crimesagainstchildren httpstcoywkjtucexk  drug keeps government high    mostly  morons waiting line'"
      ]
     },
     "execution_count": 25,
     "metadata": {},
     "output_type": "execute_result"
    }
   ],
   "source": [
    "filtered_words_anti[:1000]"
   ]
  },
  {
   "cell_type": "markdown",
   "metadata": {
    "id": "RKZY-e0N30S4"
   },
   "source": [
    "## Part 4 - Sentiment analysis."
   ]
  },
  {
   "cell_type": "markdown",
   "metadata": {
    "id": "CqMq-cpBeeHZ"
   },
   "source": [
    "### VADER compound score\n",
    "Generating sentiment polarity with the use of VADER dictionary and computing the average VADER compound score for both groups."
   ]
  },
  {
   "cell_type": "code",
   "execution_count": 26,
   "metadata": {
    "id": "9Q7mv3Ue30Sv"
   },
   "outputs": [],
   "source": [
    "sid = SentimentIntensityAnalyzer()"
   ]
  },
  {
   "cell_type": "code",
   "execution_count": 27,
   "metadata": {
    "id": "b9lJ46nM30Sw"
   },
   "outputs": [],
   "source": [
    "tweets_pro['scores'] = tweets_pro['tweet_text'].apply(lambda x: sid.polarity_scores(x))\n",
    "tweets_pro['compound'] = tweets_pro['scores'].apply(lambda x: x['compound'])\n",
    "\n",
    "tweets_anti['scores'] = tweets_anti['tweet_text'].apply(lambda x: sid.polarity_scores(x))\n",
    "tweets_anti['compound'] = tweets_anti['scores'].apply(lambda x: x['compound'])"
   ]
  },
  {
   "cell_type": "code",
   "execution_count": 28,
   "metadata": {
    "colab": {
     "base_uri": "https://localhost:8080/"
    },
    "id": "hl9R1zz230Sw",
    "outputId": "75754ccc-a2ef-4239-a08a-da2e9fb20b92"
   },
   "outputs": [
    {
     "name": "stdout",
     "output_type": "stream",
     "text": [
      "The average compound VADER score for pro-vaccine tweets was 0.12, while for anti-vaccine -0.1\n"
     ]
    }
   ],
   "source": [
    "print(\"The average compound VADER score for pro-vaccine tweets was {}, while for anti-vaccine {}\".format(round(tweets_pro['compound'].mean(), 2), round(tweets_anti['compound'].mean(), 2)))"
   ]
  },
  {
   "cell_type": "markdown",
   "metadata": {
    "id": "lkxD-tqKG3gW"
   },
   "source": [
    "These results are inline with our initial intuition. As the authors of the VADER lexicon claim, compound score >= 0.05 suggests a positive sentiment whereas compound score <= -0.05 suggests a negative sentiment. Let's dive deeper to see what kind of vocabulary each of the groups use."
   ]
  },
  {
   "cell_type": "markdown",
   "metadata": {
    "id": "6_POTu6ZfLHE"
   },
   "source": [
    "### Wordcloud\n",
    "To visualize frequently used words, we created a WordCloud object for both strings containing tweet words."
   ]
  },
  {
   "cell_type": "code",
   "execution_count": 29,
   "metadata": {
    "id": "JdL1q_fu30Sx"
   },
   "outputs": [],
   "source": [
    "wordcloud_pro = WordCloud(background_color = \"white\", max_words = 200, contour_width = 3, contour_color = 'steelblue')\n",
    "wordcloud_anti = WordCloud(background_color = \"white\", max_words = 200, contour_width = 3, contour_color = 'steelblue')"
   ]
  },
  {
   "cell_type": "code",
   "execution_count": 30,
   "metadata": {
    "colab": {
     "base_uri": "https://localhost:8080/",
     "height": 216
    },
    "id": "Dj0C_Bw730Sx",
    "outputId": "f3d509d0-5a2c-42a5-bdf2-de6b406898b6"
   },
   "outputs": [
    {
     "data": {
      "image/png": "[encoded data removed]",
      "text/plain": [
       "<PIL.Image.Image image mode=RGB size=400x200 at 0x19DE018A370>"
      ]
     },
     "execution_count": 30,
     "metadata": {},
     "output_type": "execute_result"
    }
   ],
   "source": [
    "wordcloud_pro.generate(filtered_words_pro)\n",
    "wordcloud_pro.to_image()"
   ]
  },
  {
   "cell_type": "code",
   "execution_count": 31,
   "metadata": {
    "colab": {
     "base_uri": "https://localhost:8080/",
     "height": 216
    },
    "id": "TlrL_eY230Sx",
    "outputId": "445149f0-4de9-48bd-9875-28d8d5571e46"
   },
   "outputs": [
    {
     "data": {
      "image/png": "[encoded data removed]",
      "text/plain": [
       "<PIL.Image.Image image mode=RGB size=400x200 at 0x19DE018AB80>"
      ]
     },
     "execution_count": 31,
     "metadata": {},
     "output_type": "execute_result"
    }
   ],
   "source": [
    "wordcloud_anti.generate(filtered_words_anti)\n",
    "wordcloud_anti.to_image()"
   ]
  },
  {
   "cell_type": "markdown",
   "metadata": {
    "id": "W31Ii03bcMr3"
   },
   "source": [
    "The wordclouds present the most frequently used words by both groups. Although we can see some interesting ones in pro-vaxxers like \"thank\" or \"time\" the majority of the words concern the vaccine and we are not able to draw conclusions about the overall sentiment of tweeter users. Hence, another vital step will be to remove hashtags, links, and redundant words (that will be defined in a list of stopwords)."
   ]
  },
  {
   "cell_type": "markdown",
   "metadata": {
    "id": "D4he1YPIEOzQ"
   },
   "source": [
    "### Visualizing most frequent words\n",
    "To visualize the most frequent words, we will convert our long string of words into a pandas data frame where each word will have its frequency counted. Beforehand, we will tidy our dataset yet again by removing stopwords, links, and hashtags. Finally, we will plot the most frequently used words by both pro- and anti-vaxxers."
   ]
  },
  {
   "cell_type": "code",
   "execution_count": 32,
   "metadata": {
    "id": "QXsJLlvrETYF"
   },
   "outputs": [],
   "source": [
    "# split the string into a list of words\n",
    "filtered_wordlist_pro = filtered_words_pro.split()\n",
    "filtered_wordlist_anti = filtered_words_anti.split()\n",
    "\n",
    "# remove hashtags and links\n",
    "filtered_wordlist_pro = [ele for ele in filtered_wordlist_pro if not ele.startswith('#') and not ele.startswith(\"http\") and not ele.startswith('bit.ly')]\n",
    "filtered_wordlist_anti = [ele for ele in filtered_wordlist_anti if not ele.startswith('#') and not ele.startswith(\"http\") and not ele.startswith('bit.ly')]\n",
    "\n",
    "# remove stopwords\n",
    "my_stopwords = ['get', 'amp', 'booster', 'omicron', 'im', 'one', 'us', 'dont', 'day', 'year', 'cases', 'getting', 'new', 'many', 'today', 'take', 'time', 'go', 'know', 'youre', 'got', 'would', 'even', 'make', 'see']\n",
    "filtered_wordlist_pro = [word for word in filtered_wordlist_pro if word not in my_stopwords]\n",
    "filtered_wordlist_anti = [word for word in filtered_wordlist_anti if word not in my_stopwords]"
   ]
  },
  {
   "cell_type": "code",
   "execution_count": 33,
   "metadata": {},
   "outputs": [
    {
     "data": {
      "text/plain": [
       "['think',\n",
       " 'children',\n",
       " 'quadruple',\n",
       " 'jabs',\n",
       " 'force',\n",
       " 'necessary',\n",
       " 'virus',\n",
       " 'doesnt',\n",
       " 'care',\n",
       " 'human']"
      ]
     },
     "execution_count": 33,
     "metadata": {},
     "output_type": "execute_result"
    }
   ],
   "source": [
    "filtered_wordlist_pro[:10]"
   ]
  },
  {
   "cell_type": "markdown",
   "metadata": {},
   "source": [
    "Now, we need to count how many times a certain word appeared among the tweets. To do that we used list method *count*."
   ]
  },
  {
   "cell_type": "code",
   "execution_count": 34,
   "metadata": {
    "id": "wuFLJdsoEXgs"
   },
   "outputs": [],
   "source": [
    "# count how many times a word appears in a list\n",
    "wordfreq_pro = [filtered_wordlist_pro.count(word) for word in filtered_wordlist_pro]\n",
    "wordfreq_anti = [filtered_wordlist_anti.count(word) for word in filtered_wordlist_anti]"
   ]
  },
  {
   "cell_type": "markdown",
   "metadata": {},
   "source": [
    "The code in a cell below creates a list of tuples: (word, frequency). After that we sorted the list in a descending order and chose first 20 words to be presented on the graph."
   ]
  },
  {
   "cell_type": "code",
   "execution_count": 35,
   "metadata": {
    "id": "1MnY65y4EcFu"
   },
   "outputs": [],
   "source": [
    "# zip the list of words with the list of frequencies, then transform it into a set to remove duplicates\n",
    "# then transform into a list\n",
    "uniq_freq_pro = list(set(zip(filtered_wordlist_pro, wordfreq_pro)))\n",
    "uniq_freq_anti = list(set(zip(filtered_wordlist_anti, wordfreq_anti)))"
   ]
  },
  {
   "cell_type": "code",
   "execution_count": 36,
   "metadata": {},
   "outputs": [],
   "source": [
    "# sort the list of tuples and leave 20 most frequent words\n",
    "uniq_freq_pro = sorted(uniq_freq_pro, key = lambda tup: tup[1], reverse = True)[:20]\n",
    "uniq_freq_anti = sorted(uniq_freq_anti, key = lambda tup: tup[1], reverse = True)[:20]"
   ]
  },
  {
   "cell_type": "code",
   "execution_count": 39,
   "metadata": {},
   "outputs": [
    {
     "name": "stdout",
     "output_type": "stream",
     "text": [
      "[('people', 426), ('please', 261), ('christmas', 233), ('like', 216), ('still', 169)] [('people', 527), ('side', 219), ('effects', 198), ('report', 183), ('like', 164)]\n"
     ]
    }
   ],
   "source": [
    "print(uniq_freq_pro[:5], uniq_freq_anti[:5])"
   ]
  },
  {
   "cell_type": "markdown",
   "metadata": {},
   "source": [
    "Now we transformed the lists of 20 most used words with their frequencies into pamdas dataframes in order to visualize them."
   ]
  },
  {
   "cell_type": "code",
   "execution_count": 40,
   "metadata": {},
   "outputs": [],
   "source": [
    "# create a pandas data frame from tuples list\n",
    "df_words_pro = pd.DataFrame(uniq_freq_pro, columns=['words', 'frequency'])\n",
    "df_words_anti = pd.DataFrame(uniq_freq_anti, columns=['words', 'frequency'])"
   ]
  },
  {
   "cell_type": "code",
   "execution_count": 41,
   "metadata": {},
   "outputs": [
    {
     "data": {
      "text/html": [
       "<table style=\"display:inline\" border=\"1\" class=\"dataframe\">\n",
       "  <thead>\n",
       "    <tr style=\"text-align: right;\">\n",
       "      <th></th>\n",
       "      <th>words</th>\n",
       "      <th>frequency</th>\n",
       "    </tr>\n",
       "  </thead>\n",
       "  <tbody>\n",
       "    <tr>\n",
       "      <th>0</th>\n",
       "      <td>people</td>\n",
       "      <td>426</td>\n",
       "    </tr>\n",
       "    <tr>\n",
       "      <th>1</th>\n",
       "      <td>please</td>\n",
       "      <td>261</td>\n",
       "    </tr>\n",
       "    <tr>\n",
       "      <th>2</th>\n",
       "      <td>christmas</td>\n",
       "      <td>233</td>\n",
       "    </tr>\n",
       "    <tr>\n",
       "      <th>3</th>\n",
       "      <td>like</td>\n",
       "      <td>216</td>\n",
       "    </tr>\n",
       "    <tr>\n",
       "      <th>4</th>\n",
       "      <td>still</td>\n",
       "      <td>169</td>\n",
       "    </tr>\n",
       "    <tr>\n",
       "      <th>5</th>\n",
       "      <td>safe</td>\n",
       "      <td>154</td>\n",
       "    </tr>\n",
       "    <tr>\n",
       "      <th>6</th>\n",
       "      <td>good</td>\n",
       "      <td>153</td>\n",
       "    </tr>\n",
       "    <tr>\n",
       "      <th>7</th>\n",
       "      <td>need</td>\n",
       "      <td>140</td>\n",
       "    </tr>\n",
       "    <tr>\n",
       "      <th>8</th>\n",
       "      <td>everyone</td>\n",
       "      <td>139</td>\n",
       "    </tr>\n",
       "    <tr>\n",
       "      <th>9</th>\n",
       "      <td>thank</td>\n",
       "      <td>136</td>\n",
       "    </tr>\n",
       "    <tr>\n",
       "      <th>10</th>\n",
       "      <td>back</td>\n",
       "      <td>136</td>\n",
       "    </tr>\n",
       "    <tr>\n",
       "      <th>11</th>\n",
       "      <td>health</td>\n",
       "      <td>130</td>\n",
       "    </tr>\n",
       "    <tr>\n",
       "      <th>12</th>\n",
       "      <td>work</td>\n",
       "      <td>130</td>\n",
       "    </tr>\n",
       "    <tr>\n",
       "      <th>13</th>\n",
       "      <td>well</td>\n",
       "      <td>124</td>\n",
       "    </tr>\n",
       "    <tr>\n",
       "      <th>14</th>\n",
       "      <td>family</td>\n",
       "      <td>120</td>\n",
       "    </tr>\n",
       "    <tr>\n",
       "      <th>15</th>\n",
       "      <td>right</td>\n",
       "      <td>117</td>\n",
       "    </tr>\n",
       "    <tr>\n",
       "      <th>16</th>\n",
       "      <td>want</td>\n",
       "      <td>108</td>\n",
       "    </tr>\n",
       "    <tr>\n",
       "      <th>17</th>\n",
       "      <td>follow</td>\n",
       "      <td>107</td>\n",
       "    </tr>\n",
       "    <tr>\n",
       "      <th>18</th>\n",
       "      <td>keep</td>\n",
       "      <td>106</td>\n",
       "    </tr>\n",
       "    <tr>\n",
       "      <th>19</th>\n",
       "      <td>trump</td>\n",
       "      <td>105</td>\n",
       "    </tr>\n",
       "  </tbody>\n",
       "</table style=\"display:inline\"><table style=\"display:inline\" border=\"1\" class=\"dataframe\">\n",
       "  <thead>\n",
       "    <tr style=\"text-align: right;\">\n",
       "      <th></th>\n",
       "      <th>words</th>\n",
       "      <th>frequency</th>\n",
       "    </tr>\n",
       "  </thead>\n",
       "  <tbody>\n",
       "    <tr>\n",
       "      <th>0</th>\n",
       "      <td>people</td>\n",
       "      <td>527</td>\n",
       "    </tr>\n",
       "    <tr>\n",
       "      <th>1</th>\n",
       "      <td>side</td>\n",
       "      <td>219</td>\n",
       "    </tr>\n",
       "    <tr>\n",
       "      <th>2</th>\n",
       "      <td>effects</td>\n",
       "      <td>198</td>\n",
       "    </tr>\n",
       "    <tr>\n",
       "      <th>3</th>\n",
       "      <td>report</td>\n",
       "      <td>183</td>\n",
       "    </tr>\n",
       "    <tr>\n",
       "      <th>4</th>\n",
       "      <td>like</td>\n",
       "      <td>164</td>\n",
       "    </tr>\n",
       "    <tr>\n",
       "      <th>5</th>\n",
       "      <td>government</td>\n",
       "      <td>160</td>\n",
       "    </tr>\n",
       "    <tr>\n",
       "      <th>6</th>\n",
       "      <td>victims</td>\n",
       "      <td>120</td>\n",
       "    </tr>\n",
       "    <tr>\n",
       "      <th>7</th>\n",
       "      <td>australia</td>\n",
       "      <td>119</td>\n",
       "    </tr>\n",
       "    <tr>\n",
       "      <th>8</th>\n",
       "      <td>admits</td>\n",
       "      <td>112</td>\n",
       "    </tr>\n",
       "    <tr>\n",
       "      <th>9</th>\n",
       "      <td>still</td>\n",
       "      <td>111</td>\n",
       "    </tr>\n",
       "    <tr>\n",
       "      <th>10</th>\n",
       "      <td>compensation</td>\n",
       "      <td>108</td>\n",
       "    </tr>\n",
       "    <tr>\n",
       "      <th>11</th>\n",
       "      <td>offering</td>\n",
       "      <td>108</td>\n",
       "    </tr>\n",
       "    <tr>\n",
       "      <th>12</th>\n",
       "      <td>cash</td>\n",
       "      <td>107</td>\n",
       "    </tr>\n",
       "    <tr>\n",
       "      <th>13</th>\n",
       "      <td>good</td>\n",
       "      <td>104</td>\n",
       "    </tr>\n",
       "    <tr>\n",
       "      <th>14</th>\n",
       "      <td>right</td>\n",
       "      <td>102</td>\n",
       "    </tr>\n",
       "    <tr>\n",
       "      <th>15</th>\n",
       "      <td>please</td>\n",
       "      <td>100</td>\n",
       "    </tr>\n",
       "    <tr>\n",
       "      <th>16</th>\n",
       "      <td>fatal</td>\n",
       "      <td>97</td>\n",
       "    </tr>\n",
       "    <tr>\n",
       "      <th>17</th>\n",
       "      <td>another</td>\n",
       "      <td>96</td>\n",
       "    </tr>\n",
       "    <tr>\n",
       "      <th>18</th>\n",
       "      <td>going</td>\n",
       "      <td>96</td>\n",
       "    </tr>\n",
       "    <tr>\n",
       "      <th>19</th>\n",
       "      <td>think</td>\n",
       "      <td>89</td>\n",
       "    </tr>\n",
       "  </tbody>\n",
       "</table style=\"display:inline\">"
      ]
     },
     "metadata": {},
     "output_type": "display_data"
    }
   ],
   "source": [
    "display_side_by_side(df_words_pro, df_words_anti)"
   ]
  },
  {
   "cell_type": "code",
   "execution_count": 42,
   "metadata": {
    "colab": {
     "base_uri": "https://localhost:8080/",
     "height": 294
    },
    "id": "Oj8ToILz-3qr",
    "outputId": "ab98c93b-3a04-49ab-a2e7-5ac451f2726d"
   },
   "outputs": [
    {
     "data": {
      "image/png": "[encoded data removed]",
      "text/plain": [
       "<Figure size 432x288 with 1 Axes>"
      ]
     },
     "metadata": {
      "needs_background": "light"
     },
     "output_type": "display_data"
    }
   ],
   "source": [
    "# plot the result\n",
    "sns.barplot(x = 'frequency', y = 'words', data = df_words_pro, color = 'green').set(title = 'Most common words used in pro-vaccine tweets')\n",
    "plt.xticks()\n",
    "plt.show()"
   ]
  },
  {
   "cell_type": "code",
   "execution_count": 43,
   "metadata": {},
   "outputs": [
    {
     "data": {
      "image/png": "[encoded data removed]",
      "text/plain": [
       "<Figure size 432x288 with 1 Axes>"
      ]
     },
     "metadata": {
      "needs_background": "light"
     },
     "output_type": "display_data"
    }
   ],
   "source": [
    "sns.barplot(x = 'frequency', y = 'words', data = df_words_anti, color = 'blue').set(title = 'Most common words used in anti-vaccine tweets')\n",
    "plt.xticks()\n",
    "plt.show()"
   ]
  },
  {
   "cell_type": "markdown",
   "metadata": {},
   "source": [
    "As we can see, the most common used word in both cases turned out to be 'people'."
   ]
  },
  {
   "cell_type": "code",
   "execution_count": 44,
   "metadata": {
    "colab": {
     "base_uri": "https://localhost:8080/"
    },
    "id": "-5AvMg9dS80n",
    "outputId": "6c3b7ab9-4bf4-4b25-ec16-cad12333460a"
   },
   "outputs": [
    {
     "name": "stdout",
     "output_type": "stream",
     "text": [
      "0.11\n"
     ]
    }
   ],
   "source": [
    "df_words_pro['scores'] = df_words_pro['words'].apply(lambda x: sid.polarity_scores(x))\n",
    "df_words_pro['compound'] = df_words_pro['scores'].apply(lambda x: x['compound'])\n",
    "print(round(df_words_pro['compound'].mean(),2))"
   ]
  },
  {
   "cell_type": "code",
   "execution_count": 45,
   "metadata": {},
   "outputs": [
    {
     "name": "stdout",
     "output_type": "stream",
     "text": [
      "0.03\n"
     ]
    }
   ],
   "source": [
    "df_words_anti['scores'] = df_words_anti['words'].apply(lambda x: sid.polarity_scores(x))\n",
    "df_words_anti['compound'] = df_words_anti['scores'].apply(lambda x: x['compound'])\n",
    "print(round(df_words_anti['compound'].mean(),2))"
   ]
  },
  {
   "cell_type": "code",
   "execution_count": 288,
   "metadata": {},
   "outputs": [
    {
     "data": {
      "text/html": [
       "<table style=\"display:inline\" border=\"1\" class=\"dataframe\">\n",
       "  <thead>\n",
       "    <tr style=\"text-align: right;\">\n",
       "      <th></th>\n",
       "      <th>words</th>\n",
       "      <th>frequency</th>\n",
       "      <th>scores</th>\n",
       "      <th>compound</th>\n",
       "    </tr>\n",
       "  </thead>\n",
       "  <tbody>\n",
       "    <tr>\n",
       "      <th>0</th>\n",
       "      <td>people</td>\n",
       "      <td>426</td>\n",
       "      <td>{'neg': 0.0, 'neu': 1.0, 'pos': 0.0, 'compound': 0.0}</td>\n",
       "      <td>0.0000</td>\n",
       "    </tr>\n",
       "    <tr>\n",
       "      <th>1</th>\n",
       "      <td>please</td>\n",
       "      <td>261</td>\n",
       "      <td>{'neg': 0.0, 'neu': 0.0, 'pos': 1.0, 'compound': 0.3182}</td>\n",
       "      <td>0.3182</td>\n",
       "    </tr>\n",
       "    <tr>\n",
       "      <th>2</th>\n",
       "      <td>christmas</td>\n",
       "      <td>233</td>\n",
       "      <td>{'neg': 0.0, 'neu': 1.0, 'pos': 0.0, 'compound': 0.0}</td>\n",
       "      <td>0.0000</td>\n",
       "    </tr>\n",
       "    <tr>\n",
       "      <th>3</th>\n",
       "      <td>like</td>\n",
       "      <td>216</td>\n",
       "      <td>{'neg': 0.0, 'neu': 0.0, 'pos': 1.0, 'compound': 0.3612}</td>\n",
       "      <td>0.3612</td>\n",
       "    </tr>\n",
       "    <tr>\n",
       "      <th>4</th>\n",
       "      <td>still</td>\n",
       "      <td>169</td>\n",
       "      <td>{'neg': 0.0, 'neu': 1.0, 'pos': 0.0, 'compound': 0.0}</td>\n",
       "      <td>0.0000</td>\n",
       "    </tr>\n",
       "    <tr>\n",
       "      <th>5</th>\n",
       "      <td>safe</td>\n",
       "      <td>154</td>\n",
       "      <td>{'neg': 0.0, 'neu': 0.0, 'pos': 1.0, 'compound': 0.4404}</td>\n",
       "      <td>0.4404</td>\n",
       "    </tr>\n",
       "    <tr>\n",
       "      <th>6</th>\n",
       "      <td>good</td>\n",
       "      <td>153</td>\n",
       "      <td>{'neg': 0.0, 'neu': 0.0, 'pos': 1.0, 'compound': 0.4404}</td>\n",
       "      <td>0.4404</td>\n",
       "    </tr>\n",
       "    <tr>\n",
       "      <th>7</th>\n",
       "      <td>need</td>\n",
       "      <td>140</td>\n",
       "      <td>{'neg': 0.0, 'neu': 1.0, 'pos': 0.0, 'compound': 0.0}</td>\n",
       "      <td>0.0000</td>\n",
       "    </tr>\n",
       "    <tr>\n",
       "      <th>8</th>\n",
       "      <td>everyone</td>\n",
       "      <td>139</td>\n",
       "      <td>{'neg': 0.0, 'neu': 1.0, 'pos': 0.0, 'compound': 0.0}</td>\n",
       "      <td>0.0000</td>\n",
       "    </tr>\n",
       "    <tr>\n",
       "      <th>9</th>\n",
       "      <td>thank</td>\n",
       "      <td>136</td>\n",
       "      <td>{'neg': 0.0, 'neu': 0.0, 'pos': 1.0, 'compound': 0.3612}</td>\n",
       "      <td>0.3612</td>\n",
       "    </tr>\n",
       "    <tr>\n",
       "      <th>10</th>\n",
       "      <td>back</td>\n",
       "      <td>136</td>\n",
       "      <td>{'neg': 0.0, 'neu': 1.0, 'pos': 0.0, 'compound': 0.0}</td>\n",
       "      <td>0.0000</td>\n",
       "    </tr>\n",
       "    <tr>\n",
       "      <th>11</th>\n",
       "      <td>health</td>\n",
       "      <td>130</td>\n",
       "      <td>{'neg': 0.0, 'neu': 1.0, 'pos': 0.0, 'compound': 0.0}</td>\n",
       "      <td>0.0000</td>\n",
       "    </tr>\n",
       "    <tr>\n",
       "      <th>12</th>\n",
       "      <td>work</td>\n",
       "      <td>130</td>\n",
       "      <td>{'neg': 0.0, 'neu': 1.0, 'pos': 0.0, 'compound': 0.0}</td>\n",
       "      <td>0.0000</td>\n",
       "    </tr>\n",
       "    <tr>\n",
       "      <th>13</th>\n",
       "      <td>well</td>\n",
       "      <td>124</td>\n",
       "      <td>{'neg': 0.0, 'neu': 0.0, 'pos': 1.0, 'compound': 0.2732}</td>\n",
       "      <td>0.2732</td>\n",
       "    </tr>\n",
       "    <tr>\n",
       "      <th>14</th>\n",
       "      <td>family</td>\n",
       "      <td>120</td>\n",
       "      <td>{'neg': 0.0, 'neu': 1.0, 'pos': 0.0, 'compound': 0.0}</td>\n",
       "      <td>0.0000</td>\n",
       "    </tr>\n",
       "    <tr>\n",
       "      <th>15</th>\n",
       "      <td>right</td>\n",
       "      <td>117</td>\n",
       "      <td>{'neg': 0.0, 'neu': 1.0, 'pos': 0.0, 'compound': 0.0}</td>\n",
       "      <td>0.0000</td>\n",
       "    </tr>\n",
       "    <tr>\n",
       "      <th>16</th>\n",
       "      <td>want</td>\n",
       "      <td>108</td>\n",
       "      <td>{'neg': 0.0, 'neu': 0.0, 'pos': 1.0, 'compound': 0.0772}</td>\n",
       "      <td>0.0772</td>\n",
       "    </tr>\n",
       "    <tr>\n",
       "      <th>17</th>\n",
       "      <td>follow</td>\n",
       "      <td>107</td>\n",
       "      <td>{'neg': 0.0, 'neu': 1.0, 'pos': 0.0, 'compound': 0.0}</td>\n",
       "      <td>0.0000</td>\n",
       "    </tr>\n",
       "    <tr>\n",
       "      <th>18</th>\n",
       "      <td>keep</td>\n",
       "      <td>106</td>\n",
       "      <td>{'neg': 0.0, 'neu': 1.0, 'pos': 0.0, 'compound': 0.0}</td>\n",
       "      <td>0.0000</td>\n",
       "    </tr>\n",
       "    <tr>\n",
       "      <th>19</th>\n",
       "      <td>trump</td>\n",
       "      <td>105</td>\n",
       "      <td>{'neg': 0.0, 'neu': 1.0, 'pos': 0.0, 'compound': 0.0}</td>\n",
       "      <td>0.0000</td>\n",
       "    </tr>\n",
       "  </tbody>\n",
       "</table style=\"display:inline\"><table style=\"display:inline\" border=\"1\" class=\"dataframe\">\n",
       "  <thead>\n",
       "    <tr style=\"text-align: right;\">\n",
       "      <th></th>\n",
       "      <th>words</th>\n",
       "      <th>frequency</th>\n",
       "      <th>scores</th>\n",
       "      <th>compound</th>\n",
       "    </tr>\n",
       "  </thead>\n",
       "  <tbody>\n",
       "    <tr>\n",
       "      <th>0</th>\n",
       "      <td>people</td>\n",
       "      <td>527</td>\n",
       "      <td>{'neg': 0.0, 'neu': 1.0, 'pos': 0.0, 'compound': 0.0}</td>\n",
       "      <td>0.0000</td>\n",
       "    </tr>\n",
       "    <tr>\n",
       "      <th>1</th>\n",
       "      <td>side</td>\n",
       "      <td>219</td>\n",
       "      <td>{'neg': 0.0, 'neu': 1.0, 'pos': 0.0, 'compound': 0.0}</td>\n",
       "      <td>0.0000</td>\n",
       "    </tr>\n",
       "    <tr>\n",
       "      <th>2</th>\n",
       "      <td>effects</td>\n",
       "      <td>198</td>\n",
       "      <td>{'neg': 0.0, 'neu': 1.0, 'pos': 0.0, 'compound': 0.0}</td>\n",
       "      <td>0.0000</td>\n",
       "    </tr>\n",
       "    <tr>\n",
       "      <th>3</th>\n",
       "      <td>report</td>\n",
       "      <td>183</td>\n",
       "      <td>{'neg': 0.0, 'neu': 1.0, 'pos': 0.0, 'compound': 0.0}</td>\n",
       "      <td>0.0000</td>\n",
       "    </tr>\n",
       "    <tr>\n",
       "      <th>4</th>\n",
       "      <td>like</td>\n",
       "      <td>164</td>\n",
       "      <td>{'neg': 0.0, 'neu': 0.0, 'pos': 1.0, 'compound': 0.3612}</td>\n",
       "      <td>0.3612</td>\n",
       "    </tr>\n",
       "    <tr>\n",
       "      <th>5</th>\n",
       "      <td>government</td>\n",
       "      <td>160</td>\n",
       "      <td>{'neg': 0.0, 'neu': 1.0, 'pos': 0.0, 'compound': 0.0}</td>\n",
       "      <td>0.0000</td>\n",
       "    </tr>\n",
       "    <tr>\n",
       "      <th>6</th>\n",
       "      <td>victims</td>\n",
       "      <td>120</td>\n",
       "      <td>{'neg': 1.0, 'neu': 0.0, 'pos': 0.0, 'compound': -0.3182}</td>\n",
       "      <td>-0.3182</td>\n",
       "    </tr>\n",
       "    <tr>\n",
       "      <th>7</th>\n",
       "      <td>australia</td>\n",
       "      <td>119</td>\n",
       "      <td>{'neg': 0.0, 'neu': 1.0, 'pos': 0.0, 'compound': 0.0}</td>\n",
       "      <td>0.0000</td>\n",
       "    </tr>\n",
       "    <tr>\n",
       "      <th>8</th>\n",
       "      <td>admits</td>\n",
       "      <td>112</td>\n",
       "      <td>{'neg': 0.0, 'neu': 0.0, 'pos': 1.0, 'compound': 0.296}</td>\n",
       "      <td>0.2960</td>\n",
       "    </tr>\n",
       "    <tr>\n",
       "      <th>9</th>\n",
       "      <td>still</td>\n",
       "      <td>111</td>\n",
       "      <td>{'neg': 0.0, 'neu': 1.0, 'pos': 0.0, 'compound': 0.0}</td>\n",
       "      <td>0.0000</td>\n",
       "    </tr>\n",
       "    <tr>\n",
       "      <th>10</th>\n",
       "      <td>compensation</td>\n",
       "      <td>108</td>\n",
       "      <td>{'neg': 0.0, 'neu': 1.0, 'pos': 0.0, 'compound': 0.0}</td>\n",
       "      <td>0.0000</td>\n",
       "    </tr>\n",
       "    <tr>\n",
       "      <th>11</th>\n",
       "      <td>offering</td>\n",
       "      <td>108</td>\n",
       "      <td>{'neg': 0.0, 'neu': 1.0, 'pos': 0.0, 'compound': 0.0}</td>\n",
       "      <td>0.0000</td>\n",
       "    </tr>\n",
       "    <tr>\n",
       "      <th>12</th>\n",
       "      <td>cash</td>\n",
       "      <td>107</td>\n",
       "      <td>{'neg': 0.0, 'neu': 1.0, 'pos': 0.0, 'compound': 0.0}</td>\n",
       "      <td>0.0000</td>\n",
       "    </tr>\n",
       "    <tr>\n",
       "      <th>13</th>\n",
       "      <td>good</td>\n",
       "      <td>104</td>\n",
       "      <td>{'neg': 0.0, 'neu': 0.0, 'pos': 1.0, 'compound': 0.4404}</td>\n",
       "      <td>0.4404</td>\n",
       "    </tr>\n",
       "    <tr>\n",
       "      <th>14</th>\n",
       "      <td>right</td>\n",
       "      <td>102</td>\n",
       "      <td>{'neg': 0.0, 'neu': 1.0, 'pos': 0.0, 'compound': 0.0}</td>\n",
       "      <td>0.0000</td>\n",
       "    </tr>\n",
       "    <tr>\n",
       "      <th>15</th>\n",
       "      <td>please</td>\n",
       "      <td>100</td>\n",
       "      <td>{'neg': 0.0, 'neu': 0.0, 'pos': 1.0, 'compound': 0.3182}</td>\n",
       "      <td>0.3182</td>\n",
       "    </tr>\n",
       "    <tr>\n",
       "      <th>16</th>\n",
       "      <td>fatal</td>\n",
       "      <td>97</td>\n",
       "      <td>{'neg': 1.0, 'neu': 0.0, 'pos': 0.0, 'compound': -0.5423}</td>\n",
       "      <td>-0.5423</td>\n",
       "    </tr>\n",
       "    <tr>\n",
       "      <th>17</th>\n",
       "      <td>another</td>\n",
       "      <td>96</td>\n",
       "      <td>{'neg': 0.0, 'neu': 1.0, 'pos': 0.0, 'compound': 0.0}</td>\n",
       "      <td>0.0000</td>\n",
       "    </tr>\n",
       "    <tr>\n",
       "      <th>18</th>\n",
       "      <td>going</td>\n",
       "      <td>96</td>\n",
       "      <td>{'neg': 0.0, 'neu': 1.0, 'pos': 0.0, 'compound': 0.0}</td>\n",
       "      <td>0.0000</td>\n",
       "    </tr>\n",
       "    <tr>\n",
       "      <th>19</th>\n",
       "      <td>think</td>\n",
       "      <td>89</td>\n",
       "      <td>{'neg': 0.0, 'neu': 1.0, 'pos': 0.0, 'compound': 0.0}</td>\n",
       "      <td>0.0000</td>\n",
       "    </tr>\n",
       "  </tbody>\n",
       "</table style=\"display:inline\">"
      ]
     },
     "metadata": {},
     "output_type": "display_data"
    }
   ],
   "source": [
    "display_side_by_side(df_words_pro[:20], df_words_anti[:20])"
   ]
  },
  {
   "cell_type": "markdown",
   "metadata": {
    "id": "MKfnAmF0U58D"
   },
   "source": [
    "The plot and table presented above are both very informative. It tells us that the most common words used by pro-vaxxers are either neutral (*people, christmas*, etc.) or positive (*like, good, safe*, etc.). There is not a single word in the top 20 most common words that has a negative sentiment (according to VADER compound score). Surprisingly, there are also not so many negative words in anti-vaxxers tweets. Only two words are negative: *fatal* and *victims*. The rest of the words remain neutral or positive.\n",
    "\n",
    "In both groups of words, there are some that may raise questions, e.g. *christmas* or *australia*, but we have to remember that those tweets were scrapped in December/January, so the content may be associated with that time period (Christmas or Australian Open - later in an LDA you can see *djokovic* appearing quite often as well)."
   ]
  },
  {
   "cell_type": "markdown",
   "metadata": {
    "id": "c6XAGKYhEr2w"
   },
   "source": [
    "### Visualizing hashtags\n",
    "To visualize of hashtags and their frequency we will join lists of hashtags for every tweet into one big string and then split it into a list of hashtags:"
   ]
  },
  {
   "cell_type": "code",
   "execution_count": 48,
   "metadata": {
    "id": "mBX9OjnNEzic"
   },
   "outputs": [],
   "source": [
    "def words_joining(_tweet):\n",
    "    return ' '.join(_tweet)"
   ]
  },
  {
   "cell_type": "code",
   "execution_count": 49,
   "metadata": {
    "id": "PPhhxlvZE2nA"
   },
   "outputs": [],
   "source": [
    "# create one string from all hashtags\n",
    "hashtags_pro = ' '.join([string for string in tweets_pro['hashtags'].apply(words_joining)])\n",
    "hashtags_anti = ' '.join([string for string in tweets_anti['hashtags'].apply(words_joining)])"
   ]
  },
  {
   "cell_type": "code",
   "execution_count": 50,
   "metadata": {
    "id": "2YfjprRgE540"
   },
   "outputs": [],
   "source": [
    "# split the strings into lists of words\n",
    "hashtags_pro = hashtags_pro.split()\n",
    "hashtags_anti = hashtags_anti.split()"
   ]
  },
  {
   "cell_type": "code",
   "execution_count": 51,
   "metadata": {
    "colab": {
     "base_uri": "https://localhost:8080/"
    },
    "id": "V_iL7bFjE-QP",
    "outputId": "dc6c977d-31e8-4a3d-c15a-3a0c43d96d6b"
   },
   "outputs": [
    {
     "data": {
      "text/plain": [
       "['getvaccinated',\n",
       " 'getvaccinatednow',\n",
       " 'vaccineswork',\n",
       " 'GetVaccinatedNow',\n",
       " 'GetVaccinatedNow',\n",
       " 'WearAMask',\n",
       " 'GetVaccinatedNow',\n",
       " 'WearAMask',\n",
       " 'GetVaccinatedNow',\n",
       " 'Gemwa']"
      ]
     },
     "execution_count": 51,
     "metadata": {},
     "output_type": "execute_result"
    }
   ],
   "source": [
    "hashtags_pro[:10]"
   ]
  },
  {
   "cell_type": "code",
   "execution_count": 57,
   "metadata": {
    "id": "Ilw-SOdJFB6y"
   },
   "outputs": [],
   "source": [
    "# remove the words associated with pandemic\n",
    "vacc = re.compile('.*covid.*|.*vaccin.*|.*vaxx.*')\n",
    "hashtags_pro = [ele for ele in hashtags_pro if not vacc.match(ele.lower())]\n",
    "hashtags_anti = [ele for ele in hashtags_anti if not vacc.match(ele.lower())]"
   ]
  },
  {
   "cell_type": "code",
   "execution_count": 58,
   "metadata": {
    "id": "qb9Yxy-aFHHd"
   },
   "outputs": [],
   "source": [
    "# count how many times a certain hashtag was used\n",
    "hashfreq_pro = [hashtags_pro.count(word) for word in hashtags_pro]\n",
    "hashfreq_anti = [hashtags_anti.count(word) for word in hashtags_anti]"
   ]
  },
  {
   "cell_type": "code",
   "execution_count": 59,
   "metadata": {
    "id": "dtJ6bYoIFKR1"
   },
   "outputs": [],
   "source": [
    "# merge the list of hashtags with their frequency, then trnasform it into a set to remove the duplicate and finally into a list\n",
    "zip_freq_pro = list(set(zip(hashtags_pro, hashfreq_pro)))\n",
    "zip_freq_anti = list(set(zip(hashtags_anti, hashfreq_anti)))"
   ]
  },
  {
   "cell_type": "code",
   "execution_count": 60,
   "metadata": {
    "colab": {
     "base_uri": "https://localhost:8080/"
    },
    "id": "wygUB4ZCFOp7",
    "outputId": "02bff811-a62b-4090-f310-76c502cc05e3"
   },
   "outputs": [
    {
     "data": {
      "text/plain": [
       "[('FFP2', 1),\n",
       " ('vacunateya', 2),\n",
       " ('TeamHalo', 2),\n",
       " ('scaremongering', 1),\n",
       " ('stopallthelies', 1),\n",
       " ('FreeTheRATs', 1),\n",
       " ('gan', 1),\n",
       " ('cantfixstupid', 1),\n",
       " ('Fauci', 21),\n",
       " ('stupidity', 1)]"
      ]
     },
     "execution_count": 60,
     "metadata": {},
     "output_type": "execute_result"
    }
   ],
   "source": [
    "zip_freq_pro[:10]"
   ]
  },
  {
   "cell_type": "code",
   "execution_count": 61,
   "metadata": {
    "id": "ftcc43EFFSEp"
   },
   "outputs": [],
   "source": [
    "# sort lists of tuples in a decending order\n",
    "hash_freq_pro = sorted(zip_freq_pro, key = lambda tup: tup[1], reverse = True)[:20]\n",
    "hash_freq_anti = sorted(zip_freq_anti, key = lambda tup: tup[1], reverse = True)[:20]\n",
    "\n",
    "# create a pandas data frame\n",
    "df_hashtag_pro = pd.DataFrame(hash_freq_pro, columns=['hashtag', 'frequency'])\n",
    "df_hashtag_anti = pd.DataFrame(hash_freq_anti, columns=['hashtag', 'frequency'])"
   ]
  },
  {
   "cell_type": "code",
   "execution_count": 66,
   "metadata": {
    "colab": {
     "base_uri": "https://localhost:8080/",
     "height": 363
    },
    "id": "Y3GFgdQNFijl",
    "outputId": "1d3f35eb-3e3e-44a0-ef43-18d6f4f3a1c6"
   },
   "outputs": [
    {
     "data": {
      "text/html": [
       "<table style=\"display:inline\" border=\"1\" class=\"dataframe\">\n",
       "  <thead>\n",
       "    <tr style=\"text-align: right;\">\n",
       "      <th></th>\n",
       "      <th>hashtag</th>\n",
       "      <th>frequency</th>\n",
       "    </tr>\n",
       "  </thead>\n",
       "  <tbody>\n",
       "    <tr>\n",
       "      <th>0</th>\n",
       "      <td>GetBoostedNow</td>\n",
       "      <td>349</td>\n",
       "    </tr>\n",
       "    <tr>\n",
       "      <th>1</th>\n",
       "      <td>WearAMask</td>\n",
       "      <td>342</td>\n",
       "    </tr>\n",
       "    <tr>\n",
       "      <th>2</th>\n",
       "      <td>Omicron</td>\n",
       "      <td>158</td>\n",
       "    </tr>\n",
       "    <tr>\n",
       "      <th>3</th>\n",
       "      <td>GetBoosted</td>\n",
       "      <td>149</td>\n",
       "    </tr>\n",
       "    <tr>\n",
       "      <th>4</th>\n",
       "      <td>WearADamnMask</td>\n",
       "      <td>131</td>\n",
       "    </tr>\n",
       "  </tbody>\n",
       "</table style=\"display:inline\"><table style=\"display:inline\" border=\"1\" class=\"dataframe\">\n",
       "  <thead>\n",
       "    <tr style=\"text-align: right;\">\n",
       "      <th></th>\n",
       "      <th>hashtag</th>\n",
       "      <th>frequency</th>\n",
       "    </tr>\n",
       "  </thead>\n",
       "  <tbody>\n",
       "    <tr>\n",
       "      <th>0</th>\n",
       "      <td>rothschild</td>\n",
       "      <td>189</td>\n",
       "    </tr>\n",
       "    <tr>\n",
       "      <th>1</th>\n",
       "      <td>Pfizer</td>\n",
       "      <td>163</td>\n",
       "    </tr>\n",
       "    <tr>\n",
       "      <th>2</th>\n",
       "      <td>Omicron</td>\n",
       "      <td>151</td>\n",
       "    </tr>\n",
       "    <tr>\n",
       "      <th>3</th>\n",
       "      <td>brussels</td>\n",
       "      <td>116</td>\n",
       "    </tr>\n",
       "    <tr>\n",
       "      <th>4</th>\n",
       "      <td>bruxelles</td>\n",
       "      <td>116</td>\n",
       "    </tr>\n",
       "  </tbody>\n",
       "</table style=\"display:inline\">"
      ]
     },
     "metadata": {},
     "output_type": "display_data"
    }
   ],
   "source": [
    "display_side_by_side(df_hashtag_pro.head(), df_hashtag_anti.head())"
   ]
  },
  {
   "cell_type": "code",
   "execution_count": 64,
   "metadata": {
    "colab": {
     "base_uri": "https://localhost:8080/",
     "height": 294
    },
    "id": "Oi26H8VEFlrz",
    "outputId": "a6652e60-8dc8-4107-c112-0df4ed5a06f0"
   },
   "outputs": [
    {
     "data": {
      "image/png": "[encoded data removed]",
      "text/plain": [
       "<Figure size 432x288 with 1 Axes>"
      ]
     },
     "metadata": {
      "needs_background": "light"
     },
     "output_type": "display_data"
    }
   ],
   "source": [
    "# plot the result\n",
    "sns.barplot(x = 'frequency', y = 'hashtag', data = df_hashtag_pro, palette = 'Set2').set(title = 'Most common hashtags in pro-vaccine tweets')\n",
    "plt.xticks()\n",
    "plt.show()"
   ]
  },
  {
   "cell_type": "markdown",
   "metadata": {
    "id": "fTNaJrdriwYH"
   },
   "source": [
    "The barplot above presents hashtags most frequently used by pro-vaxxers. Most popular ones encourage people to get the third dose of vaccine (so called \"booster\") and wear a mask. Other, also popular hashtags (mentioned over 50 times in our dataframe) refer to political movements (famous in US)."
   ]
  },
  {
   "cell_type": "code",
   "execution_count": 65,
   "metadata": {
    "colab": {
     "base_uri": "https://localhost:8080/",
     "height": 294
    },
    "id": "HR8dyPyLFol5",
    "outputId": "73d43b12-2b9b-4934-88ec-62cfe5410372"
   },
   "outputs": [
    {
     "data": {
      "image/png": "[encoded data removed]",
      "text/plain": [
       "<Figure size 432x288 with 1 Axes>"
      ]
     },
     "metadata": {
      "needs_background": "light"
     },
     "output_type": "display_data"
    }
   ],
   "source": [
    "sns.barplot(x = 'frequency', y = 'hashtag', data = df_hashtag_anti, palette = 'Set2').set(title = 'Most common hashtags in anti-vaccine tweets')\n",
    "plt.xticks()\n",
    "plt.show()"
   ]
  },
  {
   "cell_type": "markdown",
   "metadata": {},
   "source": [
    "The most popular hashtag for the anti-vaxxers movement turned out to be *rothschild*. It is probably connected with the newly surfaced (at that time) conspiracy theory that Rothschild patented COVID19 tests in 2017 or so. We can see also that *conspiracy* occurred quite high on the list, as well as the different spelling of Brussels (UE main headquarters)."
   ]
  },
  {
   "cell_type": "markdown",
   "metadata": {
    "id": "KILeg5u030S1"
   },
   "source": [
    "## Part 5 - Latent Dirichlet allocation (LDA)."
   ]
  },
  {
   "cell_type": "markdown",
   "metadata": {
    "id": "mbrNTHS430S1"
   },
   "source": [
    "First, we will create a separate dataframes to be an input for LDA. We will use *word_list* column and join the words into strings."
   ]
  },
  {
   "cell_type": "code",
   "execution_count": 234,
   "metadata": {
    "id": "jNR4LHzy30S1"
   },
   "outputs": [],
   "source": [
    "lda_input_pro = pd.DataFrame([string for string in tweets_pro['word_list'].apply(lambda x: ' '.join(x))], columns = ['clean_tweet'])\n",
    "lda_input_anti = pd.DataFrame([string for string in tweets_anti['word_list'].apply(lambda x: ' '.join(x))], columns = ['clean_tweet'])"
   ]
  },
  {
   "cell_type": "code",
   "execution_count": 235,
   "metadata": {
    "colab": {
     "base_uri": "https://localhost:8080/",
     "height": 395
    },
    "id": "EXjEmnYt30S1",
    "outputId": "d8abe77a-4a44-46fa-8191-a448bda86477"
   },
   "outputs": [
    {
     "data": {
      "text/html": [
       "<table style=\"display:inline\" border=\"1\" class=\"dataframe\">\n",
       "  <thead>\n",
       "    <tr style=\"text-align: right;\">\n",
       "      <th></th>\n",
       "      <th>clean_tweet</th>\n",
       "    </tr>\n",
       "  </thead>\n",
       "  <tbody>\n",
       "    <tr>\n",
       "      <th>0</th>\n",
       "      <td>think vaccinate children quadruple jabs force necessary virus doesnt care human rights neither #getvaccinated #getvaccinatednow #vaccineswork httpstco2czu3nlafm</td>\n",
       "    </tr>\n",
       "    <tr>\n",
       "      <th>1</th>\n",
       "      <td>obarromon uselogicbetter cbsnews facethenation margbrennan thats unfair characterization would much deeper shit corrupt incompetents tfgs administration still running country telling us go away like miracle without putting hard work #getvaccinatednow</td>\n",
       "    </tr>\n",
       "    <tr>\n",
       "      <th>2</th>\n",
       "      <td>parentmishmash leftylucieb amyriscool auntbunny22 embryethan know 3 people long covid one unvaxxed permanently disabled never leave nursing home high powered financial advisor nyc trashed whole life insurance maxed hes paying outofpocket #getvaccinatednow #wearamask</td>\n",
       "    </tr>\n",
       "    <tr>\n",
       "      <th>3</th>\n",
       "      <td>amyriscool parentmishmash auntbunny22 embryethan except variants come countries global pandemic governments around world need get populations vaxxed got rid polio small poxhigh global vaccination rates #getvaccinatednow #wearamask</td>\n",
       "    </tr>\n",
       "    <tr>\n",
       "      <th>4</th>\n",
       "      <td>karenlovecheese say thank colleagues fortitudewe would even worse situation without heroic work understaffed underpaid resourced nhs #getvaccinatednow</td>\n",
       "    </tr>\n",
       "  </tbody>\n",
       "</table style=\"display:inline\"><table style=\"display:inline\" border=\"1\" class=\"dataframe\">\n",
       "  <thead>\n",
       "    <tr style=\"text-align: right;\">\n",
       "      <th></th>\n",
       "      <th>clean_tweet</th>\n",
       "    </tr>\n",
       "  </thead>\n",
       "  <tbody>\n",
       "    <tr>\n",
       "      <th>0</th>\n",
       "      <td>meanwhile #thegreatreset #authoritarian proving ground #australia #unvaxxed #aussies told wont allowed exercise go work httpstcoh5jmeps2da #covid19 #vaccinemandate #vaccinesideeffects #vaccieapartheid #bigpharmaprofits #covid19 #omnicronvariant</td>\n",
       "    </tr>\n",
       "    <tr>\n",
       "      <th>1</th>\n",
       "      <td>deaths young working age males rise #onlycovidlivesmatter #istandwithnovak #vaccinedeaths #boosterjab #omicronvarient #vaccinesideeffects httpstcoyuykjulzka</td>\n",
       "    </tr>\n",
       "    <tr>\n",
       "      <th>2</th>\n",
       "      <td>#fakenews #cnn medical guest lets penalize #unvaccinated americans deny affordable health insurancehe must work #bigpharma httpstcoab6o4aacaj #covid19 #vaccinemandate #vaccinesideeffects #vaccieapartheid #bigpharmaprofits #covid19 #omnicronvariant #omnicorn httpstco8okuqsjm5m</td>\n",
       "    </tr>\n",
       "    <tr>\n",
       "      <th>3</th>\n",
       "      <td>defibrillators defibrillators everywhere go #vaccinesideeffects httpstcofhvvmezvhr via verge</td>\n",
       "    </tr>\n",
       "    <tr>\n",
       "      <th>4</th>\n",
       "      <td>vaccine keeps us death #vaccinesideeffects #vaccine #covid19 httpstcokcqfwojrk9</td>\n",
       "    </tr>\n",
       "  </tbody>\n",
       "</table style=\"display:inline\">"
      ]
     },
     "metadata": {},
     "output_type": "display_data"
    }
   ],
   "source": [
    "display_side_by_side(lda_input_pro.head(), lda_input_anti.head())"
   ]
  },
  {
   "cell_type": "markdown",
   "metadata": {
    "id": "FmBJ75co30S2"
   },
   "source": [
    "Next step will be to remove the hyperlinks and numbers and hashtags."
   ]
  },
  {
   "cell_type": "code",
   "execution_count": 236,
   "metadata": {
    "id": "dw8BRSTO30S2"
   },
   "outputs": [],
   "source": [
    "def remove_links(_tweet):\n",
    "    _tweet = re.sub('([0-9]+)', '', _tweet)\n",
    "    _tweet = re.sub(r'http\\S+', '', _tweet)\n",
    "    _tweet = re.sub(r'bit.ly/\\S+', '', _tweet)\n",
    "    _tweet = _tweet.strip('[link]')\n",
    "    return _tweet"
   ]
  },
  {
   "cell_type": "code",
   "execution_count": 237,
   "metadata": {
    "id": "bADEPjNc30S2"
   },
   "outputs": [],
   "source": [
    "lda_input_pro['clean_tweet'] = lda_input_pro['clean_tweet'].apply(remove_links)\n",
    "lda_input_anti['clean_tweet'] = lda_input_anti['clean_tweet'].apply(remove_links)"
   ]
  },
  {
   "cell_type": "code",
   "execution_count": 238,
   "metadata": {},
   "outputs": [],
   "source": [
    "# remove the hashtags\n",
    "lda_input_pro['clean_tweet'] = [string.replace(\"#\", \"\") for string in lda_input_pro['clean_tweet']]\n",
    "lda_input_anti['clean_tweet'] = [string.replace(\"#\", \"\") for string in lda_input_anti['clean_tweet']]"
   ]
  },
  {
   "cell_type": "code",
   "execution_count": 239,
   "metadata": {},
   "outputs": [
    {
     "data": {
      "text/html": [
       "<table style=\"display:inline\" border=\"1\" class=\"dataframe\">\n",
       "  <thead>\n",
       "    <tr style=\"text-align: right;\">\n",
       "      <th></th>\n",
       "      <th>clean_tweet</th>\n",
       "    </tr>\n",
       "  </thead>\n",
       "  <tbody>\n",
       "    <tr>\n",
       "      <th>0</th>\n",
       "      <td>think vaccinate children quadruple jabs force necessary virus doesnt care human rights neither getvaccinated getvaccinatednow vaccineswork</td>\n",
       "    </tr>\n",
       "    <tr>\n",
       "      <th>1</th>\n",
       "      <td>obarromon uselogicbetter cbsnews facethenation margbrennan thats unfair characterization would much deeper shit corrupt incompetents tfgs administration still running country telling us go away like miracle without putting hard work getvaccinatednow</td>\n",
       "    </tr>\n",
       "    <tr>\n",
       "      <th>2</th>\n",
       "      <td>parentmishmash leftylucieb amyriscool auntbunny embryethan know  people long covid one unvaxxed permanently disabled never leave nursing home high powered financial advisor nyc trashed whole life insurance maxed hes paying outofpocket getvaccinatednow wearamas</td>\n",
       "    </tr>\n",
       "    <tr>\n",
       "      <th>3</th>\n",
       "      <td>amyriscool parentmishmash auntbunny embryethan except variants come countries global pandemic governments around world need get populations vaxxed got rid polio small poxhigh global vaccination rates getvaccinatednow wearamas</td>\n",
       "    </tr>\n",
       "    <tr>\n",
       "      <th>4</th>\n",
       "      <td>arenlovecheese say thank colleagues fortitudewe would even worse situation without heroic work understaffed underpaid resourced nhs getvaccinatednow</td>\n",
       "    </tr>\n",
       "  </tbody>\n",
       "</table style=\"display:inline\"><table style=\"display:inline\" border=\"1\" class=\"dataframe\">\n",
       "  <thead>\n",
       "    <tr style=\"text-align: right;\">\n",
       "      <th></th>\n",
       "      <th>clean_tweet</th>\n",
       "    </tr>\n",
       "  </thead>\n",
       "  <tbody>\n",
       "    <tr>\n",
       "      <th>0</th>\n",
       "      <td>meanwhile thegreatreset authoritarian proving ground australia unvaxxed aussies told wont allowed exercise go work  covid vaccinemandate vaccinesideeffects vaccieapartheid bigpharmaprofits covid omnicronvariant</td>\n",
       "    </tr>\n",
       "    <tr>\n",
       "      <th>1</th>\n",
       "      <td>deaths young working age males rise onlycovidlivesmatter istandwithnovak vaccinedeaths boosterjab omicronvarient vaccinesideeffects</td>\n",
       "    </tr>\n",
       "    <tr>\n",
       "      <th>2</th>\n",
       "      <td>fakenews cnn medical guest lets penalize unvaccinated americans deny affordable health insurancehe must work bigpharma  covid vaccinemandate vaccinesideeffects vaccieapartheid bigpharmaprofits covid omnicronvariant omnicorn</td>\n",
       "    </tr>\n",
       "    <tr>\n",
       "      <th>3</th>\n",
       "      <td>defibrillators defibrillators everywhere go vaccinesideeffects  via verge</td>\n",
       "    </tr>\n",
       "    <tr>\n",
       "      <th>4</th>\n",
       "      <td>vaccine keeps us death vaccinesideeffects vaccine covid</td>\n",
       "    </tr>\n",
       "  </tbody>\n",
       "</table style=\"display:inline\">"
      ]
     },
     "metadata": {},
     "output_type": "display_data"
    }
   ],
   "source": [
    "display_side_by_side(lda_input_pro.head(), lda_input_anti.head())"
   ]
  },
  {
   "cell_type": "markdown",
   "metadata": {},
   "source": [
    "Next step is to remove the words associated with covid, otherwise all the dected topics will be pandemic related, which does not makes sense. We also removed the English stopwords."
   ]
  },
  {
   "cell_type": "code",
   "execution_count": 240,
   "metadata": {},
   "outputs": [],
   "source": [
    "def remove_stopwords(_tweet):\n",
    "    _tweet_list = _tweet.split()\n",
    "    _tweet_processed = [s for s in _tweet_list if not any(c.isdigit() for c in s)]\n",
    "    _tweet_processed = [word for word in _tweet_processed if word not in my_stopwords] #the list we used before to remove more stopwords\n",
    "    _tweet_processed = ' '.join([word for word in _tweet_processed if word not in stopwords.words('english')])\n",
    "    _tweet_processed = ' '.join(re.sub('.*covid.*|.*vaccin.*|.*boost.*|.*vaxx.*', '', w.lower()) for w in _tweet_processed.split())\n",
    "    _tweet_processed = ' '.join(_tweet_processed.split())\n",
    "    return _tweet_processed"
   ]
  },
  {
   "cell_type": "code",
   "execution_count": 241,
   "metadata": {},
   "outputs": [],
   "source": [
    "lda_input_pro['clean_tweet'] = lda_input_pro['clean_tweet'].apply(remove_stopwords)\n",
    "lda_input_anti['clean_tweet'] = lda_input_anti['clean_tweet'].apply(remove_stopwords)"
   ]
  },
  {
   "cell_type": "code",
   "execution_count": 242,
   "metadata": {},
   "outputs": [
    {
     "data": {
      "text/html": [
       "<table style=\"display:inline\" border=\"1\" class=\"dataframe\">\n",
       "  <thead>\n",
       "    <tr style=\"text-align: right;\">\n",
       "      <th></th>\n",
       "      <th>clean_tweet</th>\n",
       "    </tr>\n",
       "  </thead>\n",
       "  <tbody>\n",
       "    <tr>\n",
       "      <th>0</th>\n",
       "      <td>think children quadruple jabs force necessary virus doesnt care human rights neither</td>\n",
       "    </tr>\n",
       "    <tr>\n",
       "      <th>1</th>\n",
       "      <td>obarromon uselogicbetter cbsnews facethenation margbrennan thats unfair characterization much deeper shit corrupt incompetents tfgs administration still running country telling away like miracle without putting hard work</td>\n",
       "    </tr>\n",
       "    <tr>\n",
       "      <th>2</th>\n",
       "      <td>parentmishmash leftylucieb amyriscool auntbunny embryethan people long permanently disabled never leave nursing home high powered financial advisor nyc trashed whole life insurance maxed hes paying outofpocket wearamas</td>\n",
       "    </tr>\n",
       "    <tr>\n",
       "      <th>3</th>\n",
       "      <td>amyriscool parentmishmash auntbunny embryethan except variants come countries global pandemic governments around world need populations rid polio small poxhigh global rates wearamas</td>\n",
       "    </tr>\n",
       "    <tr>\n",
       "      <th>4</th>\n",
       "      <td>arenlovecheese say thank colleagues fortitudewe worse situation without heroic work understaffed underpaid resourced nhs</td>\n",
       "    </tr>\n",
       "  </tbody>\n",
       "</table style=\"display:inline\"><table style=\"display:inline\" border=\"1\" class=\"dataframe\">\n",
       "  <thead>\n",
       "    <tr style=\"text-align: right;\">\n",
       "      <th></th>\n",
       "      <th>clean_tweet</th>\n",
       "    </tr>\n",
       "  </thead>\n",
       "  <tbody>\n",
       "    <tr>\n",
       "      <th>0</th>\n",
       "      <td>meanwhile thegreatreset authoritarian proving ground australia aussies told wont allowed exercise work vaccieapartheid bigpharmaprofits omnicronvariant</td>\n",
       "    </tr>\n",
       "    <tr>\n",
       "      <th>1</th>\n",
       "      <td>deaths young working age males rise istandwithnovak omicronvarient</td>\n",
       "    </tr>\n",
       "    <tr>\n",
       "      <th>2</th>\n",
       "      <td>fakenews cnn medical guest lets penalize americans deny affordable health insurancehe must work bigpharma vaccieapartheid bigpharmaprofits omnicronvariant omnicorn</td>\n",
       "    </tr>\n",
       "    <tr>\n",
       "      <th>3</th>\n",
       "      <td>defibrillators defibrillators everywhere via verge</td>\n",
       "    </tr>\n",
       "    <tr>\n",
       "      <th>4</th>\n",
       "      <td>keeps death</td>\n",
       "    </tr>\n",
       "  </tbody>\n",
       "</table style=\"display:inline\">"
      ]
     },
     "metadata": {},
     "output_type": "display_data"
    }
   ],
   "source": [
    "display_side_by_side(lda_input_pro.head(), lda_input_anti.head())"
   ]
  },
  {
   "cell_type": "markdown",
   "metadata": {
    "id": "r0n1k8Ju30S2"
   },
   "source": [
    "Transforming into vector form:"
   ]
  },
  {
   "cell_type": "code",
   "execution_count": 243,
   "metadata": {
    "colab": {
     "base_uri": "https://localhost:8080/"
    },
    "id": "9YqV2bq530S2",
    "outputId": "ddd96b6c-ce8b-453d-e9bd-a7babd5f753a"
   },
   "outputs": [],
   "source": [
    "vectorizer_pro = CountVectorizer(max_df = 0.9, min_df = 10, token_pattern = '\\w+|\\$[\\d\\.]+|\\S+')\n",
    "vectorizer_anti = CountVectorizer(max_df = 0.9, min_df = 10, token_pattern = '\\w+|\\$[\\d\\.]+|\\S+')\n",
    "\n",
    "tf_pro = vectorizer_pro.fit_transform(lda_input_pro['clean_tweet']).toarray()\n",
    "tf_anti = vectorizer_anti.fit_transform(lda_input_anti['clean_tweet']).toarray()\n",
    "\n",
    "tf_pro_feature_names = vectorizer_pro.get_feature_names()\n",
    "tf_anti_feature_names = vectorizer_anti.get_feature_names()"
   ]
  },
  {
   "cell_type": "code",
   "execution_count": 244,
   "metadata": {
    "id": "mSLegWZP30S3"
   },
   "outputs": [],
   "source": [
    "# assume 7 topics\n",
    "number_of_topics = 7\n",
    "\n",
    "model_pro = LDA(n_components = number_of_topics, random_state = 0)\n",
    "model_anti = LDA(n_components = number_of_topics, random_state = 0)"
   ]
  },
  {
   "cell_type": "code",
   "execution_count": 245,
   "metadata": {
    "colab": {
     "base_uri": "https://localhost:8080/"
    },
    "id": "lt8QWDBv30S3",
    "outputId": "fca2b16d-5c61-4c7d-ff98-f03210fb5ed4"
   },
   "outputs": [
    {
     "data": {
      "text/plain": [
       "LatentDirichletAllocation(n_components=7, random_state=0)"
      ]
     },
     "execution_count": 245,
     "metadata": {},
     "output_type": "execute_result"
    }
   ],
   "source": [
    "# apply the model\n",
    "model_pro.fit(tf_pro)"
   ]
  },
  {
   "cell_type": "code",
   "execution_count": 246,
   "metadata": {
    "colab": {
     "base_uri": "https://localhost:8080/"
    },
    "id": "xCf6U7PA30S3",
    "outputId": "01090736-8dce-400a-d5e9-6cb46ad37400"
   },
   "outputs": [
    {
     "data": {
      "text/plain": [
       "LatentDirichletAllocation(n_components=7, random_state=0)"
      ]
     },
     "execution_count": 246,
     "metadata": {},
     "output_type": "execute_result"
    }
   ],
   "source": [
    "model_anti.fit(tf_anti)"
   ]
  },
  {
   "cell_type": "markdown",
   "metadata": {},
   "source": [
    "Function that displays the top words for a topic together with their weights:"
   ]
  },
  {
   "cell_type": "code",
   "execution_count": 247,
   "metadata": {
    "id": "Be68kLIR30S3"
   },
   "outputs": [],
   "source": [
    "def display_topics(model, feature_names, no_top_words):\n",
    "    topic_dict = {}\n",
    "    for topic_idx, topic in enumerate(model.components_):\n",
    "        topic_dict[\"Topic %d words\" % (topic_idx)] = ['{}'.format(feature_names[i])\n",
    "                        for i in topic.argsort()[:-no_top_words -1:-1]]\n",
    "        topic_dict[\"Topic %d weights\" % (topic_idx)] = ['{:.1f}'.format(topic[i])\n",
    "                        for i in topic.argsort()[:-no_top_words -1:-1]]\n",
    "    return pd.DataFrame(topic_dict)"
   ]
  },
  {
   "cell_type": "code",
   "execution_count": 250,
   "metadata": {
    "colab": {
     "base_uri": "https://localhost:8080/",
     "height": 444
    },
    "id": "iTDVoo6-30S3",
    "outputId": "8816ea55-1482-4686-d4a7-2004055c4bf8"
   },
   "outputs": [
    {
     "data": {
      "text/html": [
       "<div>\n",
       "<style scoped>\n",
       "    .dataframe tbody tr th:only-of-type {\n",
       "        vertical-align: middle;\n",
       "    }\n",
       "\n",
       "    .dataframe tbody tr th {\n",
       "        vertical-align: top;\n",
       "    }\n",
       "\n",
       "    .dataframe thead th {\n",
       "        text-align: right;\n",
       "    }\n",
       "</style>\n",
       "<table border=\"1\" class=\"dataframe\">\n",
       "  <thead>\n",
       "    <tr style=\"text-align: right;\">\n",
       "      <th></th>\n",
       "      <th>Topic 0 words</th>\n",
       "      <th>Topic 0 weights</th>\n",
       "      <th>Topic 1 words</th>\n",
       "      <th>Topic 1 weights</th>\n",
       "      <th>Topic 2 words</th>\n",
       "      <th>Topic 2 weights</th>\n",
       "      <th>Topic 3 words</th>\n",
       "      <th>Topic 3 weights</th>\n",
       "      <th>Topic 4 words</th>\n",
       "      <th>Topic 4 weights</th>\n",
       "      <th>Topic 5 words</th>\n",
       "      <th>Topic 5 weights</th>\n",
       "      <th>Topic 6 words</th>\n",
       "      <th>Topic 6 weights</th>\n",
       "    </tr>\n",
       "  </thead>\n",
       "  <tbody>\n",
       "    <tr>\n",
       "      <th>0</th>\n",
       "      <td>right</td>\n",
       "      <td>69.7</td>\n",
       "      <td>people</td>\n",
       "      <td>118.0</td>\n",
       "      <td>christmas</td>\n",
       "      <td>254.0</td>\n",
       "      <td>wearamask</td>\n",
       "      <td>122.0</td>\n",
       "      <td>like</td>\n",
       "      <td>83.2</td>\n",
       "      <td>please</td>\n",
       "      <td>163.6</td>\n",
       "      <td>people</td>\n",
       "      <td>100.3</td>\n",
       "    </tr>\n",
       "    <tr>\n",
       "      <th>1</th>\n",
       "      <td>children</td>\n",
       "      <td>60.4</td>\n",
       "      <td>pandemic</td>\n",
       "      <td>82.2</td>\n",
       "      <td>wearamask</td>\n",
       "      <td>91.5</td>\n",
       "      <td>people</td>\n",
       "      <td>81.2</td>\n",
       "      <td>trump</td>\n",
       "      <td>79.2</td>\n",
       "      <td>back</td>\n",
       "      <td>118.2</td>\n",
       "      <td>spotify</td>\n",
       "      <td>89.1</td>\n",
       "    </tr>\n",
       "    <tr>\n",
       "      <th>2</th>\n",
       "      <td>people</td>\n",
       "      <td>60.0</td>\n",
       "      <td>omicronvariant</td>\n",
       "      <td>63.2</td>\n",
       "      <td>thank</td>\n",
       "      <td>91.3</td>\n",
       "      <td>deaths</td>\n",
       "      <td>69.9</td>\n",
       "      <td>safe</td>\n",
       "      <td>78.6</td>\n",
       "      <td>follow</td>\n",
       "      <td>107.1</td>\n",
       "      <td>good</td>\n",
       "      <td>85.3</td>\n",
       "    </tr>\n",
       "    <tr>\n",
       "      <th>3</th>\n",
       "      <td>maskup</td>\n",
       "      <td>54.5</td>\n",
       "      <td>need</td>\n",
       "      <td>48.0</td>\n",
       "      <td>positive</td>\n",
       "      <td>85.2</td>\n",
       "      <td>hospital</td>\n",
       "      <td>57.3</td>\n",
       "      <td>lives</td>\n",
       "      <td>78.5</td>\n",
       "      <td>lost</td>\n",
       "      <td>103.1</td>\n",
       "      <td>science</td>\n",
       "      <td>73.2</td>\n",
       "    </tr>\n",
       "    <tr>\n",
       "      <th>4</th>\n",
       "      <td>polio</td>\n",
       "      <td>54.1</td>\n",
       "      <td>dying</td>\n",
       "      <td>47.4</td>\n",
       "      <td>well</td>\n",
       "      <td>79.1</td>\n",
       "      <td>flu</td>\n",
       "      <td>45.7</td>\n",
       "      <td>ones</td>\n",
       "      <td>61.1</td>\n",
       "      <td>voteblue</td>\n",
       "      <td>77.1</td>\n",
       "      <td>still</td>\n",
       "      <td>60.4</td>\n",
       "    </tr>\n",
       "    <tr>\n",
       "      <th>5</th>\n",
       "      <td>mask</td>\n",
       "      <td>54.0</td>\n",
       "      <td>via</td>\n",
       "      <td>46.8</td>\n",
       "      <td>merry</td>\n",
       "      <td>77.1</td>\n",
       "      <td>cant</td>\n",
       "      <td>44.8</td>\n",
       "      <td>save</td>\n",
       "      <td>55.1</td>\n",
       "      <td>followed</td>\n",
       "      <td>72.1</td>\n",
       "      <td>work</td>\n",
       "      <td>54.8</td>\n",
       "    </tr>\n",
       "    <tr>\n",
       "      <th>6</th>\n",
       "      <td>million</td>\n",
       "      <td>49.5</td>\n",
       "      <td>coronavirus</td>\n",
       "      <td>44.8</td>\n",
       "      <td>safe</td>\n",
       "      <td>67.4</td>\n",
       "      <td>must</td>\n",
       "      <td>41.2</td>\n",
       "      <td>everyone</td>\n",
       "      <td>51.0</td>\n",
       "      <td>blacklivesmatter</td>\n",
       "      <td>70.1</td>\n",
       "      <td>trump</td>\n",
       "      <td>52.1</td>\n",
       "    </tr>\n",
       "    <tr>\n",
       "      <th>7</th>\n",
       "      <td>protect</td>\n",
       "      <td>42.4</td>\n",
       "      <td>yes</td>\n",
       "      <td>40.6</td>\n",
       "      <td>please</td>\n",
       "      <td>63.5</td>\n",
       "      <td>wearadamnmask</td>\n",
       "      <td>41.1</td>\n",
       "      <td>merrychristmas</td>\n",
       "      <td>49.1</td>\n",
       "      <td>endthefilibuster</td>\n",
       "      <td>65.1</td>\n",
       "      <td>health</td>\n",
       "      <td>49.0</td>\n",
       "    </tr>\n",
       "    <tr>\n",
       "      <th>8</th>\n",
       "      <td>thing</td>\n",
       "      <td>39.4</td>\n",
       "      <td>read</td>\n",
       "      <td>39.1</td>\n",
       "      <td>family</td>\n",
       "      <td>60.5</td>\n",
       "      <td>vax</td>\n",
       "      <td>41.0</td>\n",
       "      <td>give</td>\n",
       "      <td>46.2</td>\n",
       "      <td>dcstatehood</td>\n",
       "      <td>65.1</td>\n",
       "      <td>person</td>\n",
       "      <td>45.8</td>\n",
       "    </tr>\n",
       "    <tr>\n",
       "      <th>9</th>\n",
       "      <td>coronavirus</td>\n",
       "      <td>35.1</td>\n",
       "      <td>another</td>\n",
       "      <td>38.8</td>\n",
       "      <td>tested</td>\n",
       "      <td>58.8</td>\n",
       "      <td>per</td>\n",
       "      <td>39.9</td>\n",
       "      <td>medical</td>\n",
       "      <td>42.1</td>\n",
       "      <td>defenddaca</td>\n",
       "      <td>65.1</td>\n",
       "      <td>news</td>\n",
       "      <td>45.3</td>\n",
       "    </tr>\n",
       "    <tr>\n",
       "      <th>10</th>\n",
       "      <td>kids</td>\n",
       "      <td>34.3</td>\n",
       "      <td>fully</td>\n",
       "      <td>37.6</td>\n",
       "      <td>everyone</td>\n",
       "      <td>58.6</td>\n",
       "      <td>icu</td>\n",
       "      <td>39.4</td>\n",
       "      <td>omicronvariant</td>\n",
       "      <td>41.8</td>\n",
       "      <td>medicarefora</td>\n",
       "      <td>65.1</td>\n",
       "      <td>misinformation</td>\n",
       "      <td>45.1</td>\n",
       "    </tr>\n",
       "    <tr>\n",
       "      <th>11</th>\n",
       "      <td>come</td>\n",
       "      <td>34.3</td>\n",
       "      <td>world</td>\n",
       "      <td>36.8</td>\n",
       "      <td>like</td>\n",
       "      <td>58.2</td>\n",
       "      <td>also</td>\n",
       "      <td>37.5</td>\n",
       "      <td>stay</td>\n",
       "      <td>40.5</td>\n",
       "      <td>prstatehood</td>\n",
       "      <td>65.1</td>\n",
       "      <td>care</td>\n",
       "      <td>41.9</td>\n",
       "    </tr>\n",
       "    <tr>\n",
       "      <th>12</th>\n",
       "      <td>way</td>\n",
       "      <td>33.9</td>\n",
       "      <td>first</td>\n",
       "      <td>35.1</td>\n",
       "      <td>last</td>\n",
       "      <td>55.5</td>\n",
       "      <td>k</td>\n",
       "      <td>36.9</td>\n",
       "      <td>holiday</td>\n",
       "      <td>40.4</td>\n",
       "      <td>fairnessdoctrine</td>\n",
       "      <td>65.1</td>\n",
       "      <td>neilyoung</td>\n",
       "      <td>41.1</td>\n",
       "    </tr>\n",
       "    <tr>\n",
       "      <th>13</th>\n",
       "      <td>number</td>\n",
       "      <td>32.9</td>\n",
       "      <td>maskup</td>\n",
       "      <td>34.5</td>\n",
       "      <td>happy</td>\n",
       "      <td>52.8</td>\n",
       "      <td>data</td>\n",
       "      <td>36.1</td>\n",
       "      <td>community</td>\n",
       "      <td>40.3</td>\n",
       "      <td>protectvotingrights</td>\n",
       "      <td>65.1</td>\n",
       "      <td>want</td>\n",
       "      <td>40.1</td>\n",
       "    </tr>\n",
       "    <tr>\n",
       "      <th>14</th>\n",
       "      <td>since</td>\n",
       "      <td>32.2</td>\n",
       "      <td>thread</td>\n",
       "      <td>32.1</td>\n",
       "      <td>help</td>\n",
       "      <td>52.0</td>\n",
       "      <td>death</td>\n",
       "      <td>35.1</td>\n",
       "      <td>best</td>\n",
       "      <td>37.3</td>\n",
       "      <td>shot</td>\n",
       "      <td>63.4</td>\n",
       "      <td>anyone</td>\n",
       "      <td>37.2</td>\n",
       "    </tr>\n",
       "  </tbody>\n",
       "</table>\n",
       "</div>"
      ],
      "text/plain": [
       "   Topic 0 words Topic 0 weights   Topic 1 words Topic 1 weights  \\\n",
       "0          right            69.7          people           118.0   \n",
       "1       children            60.4        pandemic            82.2   \n",
       "2         people            60.0  omicronvariant            63.2   \n",
       "3         maskup            54.5            need            48.0   \n",
       "4          polio            54.1           dying            47.4   \n",
       "5           mask            54.0             via            46.8   \n",
       "6        million            49.5     coronavirus            44.8   \n",
       "7        protect            42.4             yes            40.6   \n",
       "8          thing            39.4            read            39.1   \n",
       "9    coronavirus            35.1         another            38.8   \n",
       "10          kids            34.3           fully            37.6   \n",
       "11          come            34.3           world            36.8   \n",
       "12           way            33.9           first            35.1   \n",
       "13        number            32.9          maskup            34.5   \n",
       "14         since            32.2          thread            32.1   \n",
       "\n",
       "   Topic 2 words Topic 2 weights  Topic 3 words Topic 3 weights  \\\n",
       "0      christmas           254.0      wearamask           122.0   \n",
       "1      wearamask            91.5         people            81.2   \n",
       "2          thank            91.3         deaths            69.9   \n",
       "3       positive            85.2       hospital            57.3   \n",
       "4           well            79.1            flu            45.7   \n",
       "5          merry            77.1           cant            44.8   \n",
       "6           safe            67.4           must            41.2   \n",
       "7         please            63.5  wearadamnmask            41.1   \n",
       "8         family            60.5            vax            41.0   \n",
       "9         tested            58.8            per            39.9   \n",
       "10      everyone            58.6            icu            39.4   \n",
       "11          like            58.2           also            37.5   \n",
       "12          last            55.5              k            36.9   \n",
       "13         happy            52.8           data            36.1   \n",
       "14          help            52.0          death            35.1   \n",
       "\n",
       "     Topic 4 words Topic 4 weights        Topic 5 words Topic 5 weights  \\\n",
       "0             like            83.2               please           163.6   \n",
       "1            trump            79.2                 back           118.2   \n",
       "2             safe            78.6               follow           107.1   \n",
       "3            lives            78.5                 lost           103.1   \n",
       "4             ones            61.1             voteblue            77.1   \n",
       "5             save            55.1             followed            72.1   \n",
       "6         everyone            51.0     blacklivesmatter            70.1   \n",
       "7   merrychristmas            49.1     endthefilibuster            65.1   \n",
       "8             give            46.2          dcstatehood            65.1   \n",
       "9          medical            42.1           defenddaca            65.1   \n",
       "10  omicronvariant            41.8         medicarefora            65.1   \n",
       "11            stay            40.5          prstatehood            65.1   \n",
       "12         holiday            40.4     fairnessdoctrine            65.1   \n",
       "13       community            40.3  protectvotingrights            65.1   \n",
       "14            best            37.3                 shot            63.4   \n",
       "\n",
       "     Topic 6 words Topic 6 weights  \n",
       "0           people           100.3  \n",
       "1          spotify            89.1  \n",
       "2             good            85.3  \n",
       "3          science            73.2  \n",
       "4            still            60.4  \n",
       "5             work            54.8  \n",
       "6            trump            52.1  \n",
       "7           health            49.0  \n",
       "8           person            45.8  \n",
       "9             news            45.3  \n",
       "10  misinformation            45.1  \n",
       "11            care            41.9  \n",
       "12       neilyoung            41.1  \n",
       "13            want            40.1  \n",
       "14          anyone            37.2  "
      ]
     },
     "execution_count": 250,
     "metadata": {},
     "output_type": "execute_result"
    }
   ],
   "source": [
    "# assume 15 top words in every topic\n",
    "no_top_words = 15\n",
    "display_topics(model_pro, tf_pro_feature_names, no_top_words)"
   ]
  },
  {
   "cell_type": "code",
   "execution_count": 251,
   "metadata": {
    "id": "bFCrrhg230S3"
   },
   "outputs": [
    {
     "data": {
      "text/html": [
       "<div>\n",
       "<style scoped>\n",
       "    .dataframe tbody tr th:only-of-type {\n",
       "        vertical-align: middle;\n",
       "    }\n",
       "\n",
       "    .dataframe tbody tr th {\n",
       "        vertical-align: top;\n",
       "    }\n",
       "\n",
       "    .dataframe thead th {\n",
       "        text-align: right;\n",
       "    }\n",
       "</style>\n",
       "<table border=\"1\" class=\"dataframe\">\n",
       "  <thead>\n",
       "    <tr style=\"text-align: right;\">\n",
       "      <th></th>\n",
       "      <th>Topic 0 words</th>\n",
       "      <th>Topic 0 weights</th>\n",
       "      <th>Topic 1 words</th>\n",
       "      <th>Topic 1 weights</th>\n",
       "      <th>Topic 2 words</th>\n",
       "      <th>Topic 2 weights</th>\n",
       "      <th>Topic 3 words</th>\n",
       "      <th>Topic 3 weights</th>\n",
       "      <th>Topic 4 words</th>\n",
       "      <th>Topic 4 weights</th>\n",
       "      <th>Topic 5 words</th>\n",
       "      <th>Topic 5 weights</th>\n",
       "      <th>Topic 6 words</th>\n",
       "      <th>Topic 6 weights</th>\n",
       "    </tr>\n",
       "  </thead>\n",
       "  <tbody>\n",
       "    <tr>\n",
       "      <th>0</th>\n",
       "      <td>please</td>\n",
       "      <td>85.5</td>\n",
       "      <td>people</td>\n",
       "      <td>91.4</td>\n",
       "      <td>still</td>\n",
       "      <td>92.4</td>\n",
       "      <td>side</td>\n",
       "      <td>218.9</td>\n",
       "      <td>myocarditis</td>\n",
       "      <td>125.4</td>\n",
       "      <td>conspiracy</td>\n",
       "      <td>133.2</td>\n",
       "      <td>forced</td>\n",
       "      <td>75.1</td>\n",
       "    </tr>\n",
       "    <tr>\n",
       "      <th>1</th>\n",
       "      <td>coronavirus</td>\n",
       "      <td>84.4</td>\n",
       "      <td>pfizer</td>\n",
       "      <td>54.0</td>\n",
       "      <td>work</td>\n",
       "      <td>59.3</td>\n",
       "      <td>effects</td>\n",
       "      <td>198.1</td>\n",
       "      <td>genocide</td>\n",
       "      <td>74.1</td>\n",
       "      <td>brussels</td>\n",
       "      <td>121.1</td>\n",
       "      <td>pfizer</td>\n",
       "      <td>74.6</td>\n",
       "    </tr>\n",
       "    <tr>\n",
       "      <th>2</th>\n",
       "      <td>via</td>\n",
       "      <td>82.4</td>\n",
       "      <td>good</td>\n",
       "      <td>52.6</td>\n",
       "      <td>health</td>\n",
       "      <td>57.8</td>\n",
       "      <td>people</td>\n",
       "      <td>187.7</td>\n",
       "      <td>heart</td>\n",
       "      <td>68.1</td>\n",
       "      <td>bruxelles</td>\n",
       "      <td>118.1</td>\n",
       "      <td>public</td>\n",
       "      <td>64.6</td>\n",
       "    </tr>\n",
       "    <tr>\n",
       "      <th>3</th>\n",
       "      <td>people</td>\n",
       "      <td>69.6</td>\n",
       "      <td>safe</td>\n",
       "      <td>47.4</td>\n",
       "      <td>pfizer</td>\n",
       "      <td>54.3</td>\n",
       "      <td>government</td>\n",
       "      <td>149.7</td>\n",
       "      <td>die</td>\n",
       "      <td>64.0</td>\n",
       "      <td>people</td>\n",
       "      <td>105.4</td>\n",
       "      <td>governments</td>\n",
       "      <td>64.1</td>\n",
       "    </tr>\n",
       "    <tr>\n",
       "      <th>4</th>\n",
       "      <td>deaths</td>\n",
       "      <td>56.4</td>\n",
       "      <td>great</td>\n",
       "      <td>43.1</td>\n",
       "      <td>people</td>\n",
       "      <td>51.8</td>\n",
       "      <td>australia</td>\n",
       "      <td>138.8</td>\n",
       "      <td>another</td>\n",
       "      <td>61.2</td>\n",
       "      <td>brussel</td>\n",
       "      <td>98.1</td>\n",
       "      <td>details</td>\n",
       "      <td>60.1</td>\n",
       "    </tr>\n",
       "    <tr>\n",
       "      <th>5</th>\n",
       "      <td>joerogan</td>\n",
       "      <td>55.6</td>\n",
       "      <td>say</td>\n",
       "      <td>42.3</td>\n",
       "      <td>death</td>\n",
       "      <td>51.0</td>\n",
       "      <td>report</td>\n",
       "      <td>132.1</td>\n",
       "      <td>like</td>\n",
       "      <td>60.1</td>\n",
       "      <td>wappies</td>\n",
       "      <td>83.1</td>\n",
       "      <td>soros</td>\n",
       "      <td>60.1</td>\n",
       "    </tr>\n",
       "    <tr>\n",
       "      <th>6</th>\n",
       "      <td>fauci</td>\n",
       "      <td>54.0</td>\n",
       "      <td>propaganda</td>\n",
       "      <td>39.7</td>\n",
       "      <td>big</td>\n",
       "      <td>42.4</td>\n",
       "      <td>victims</td>\n",
       "      <td>120.1</td>\n",
       "      <td>antivax</td>\n",
       "      <td>46.4</td>\n",
       "      <td>police</td>\n",
       "      <td>54.1</td>\n",
       "      <td>sign</td>\n",
       "      <td>58.1</td>\n",
       "    </tr>\n",
       "    <tr>\n",
       "      <th>7</th>\n",
       "      <td>children</td>\n",
       "      <td>52.4</td>\n",
       "      <td>medical</td>\n",
       "      <td>39.3</td>\n",
       "      <td>freedom</td>\n",
       "      <td>38.9</td>\n",
       "      <td>rothschild</td>\n",
       "      <td>116.5</td>\n",
       "      <td>mean</td>\n",
       "      <td>46.0</td>\n",
       "      <td>donotcomply</td>\n",
       "      <td>53.8</td>\n",
       "      <td>klausschwab</td>\n",
       "      <td>57.1</td>\n",
       "    </tr>\n",
       "    <tr>\n",
       "      <th>8</th>\n",
       "      <td>must</td>\n",
       "      <td>44.5</td>\n",
       "      <td>real</td>\n",
       "      <td>39.3</td>\n",
       "      <td>mandate</td>\n",
       "      <td>35.1</td>\n",
       "      <td>admits</td>\n",
       "      <td>112.1</td>\n",
       "      <td>going</td>\n",
       "      <td>46.0</td>\n",
       "      <td>extremeright</td>\n",
       "      <td>46.1</td>\n",
       "      <td>sharing</td>\n",
       "      <td>56.1</td>\n",
       "    </tr>\n",
       "    <tr>\n",
       "      <th>9</th>\n",
       "      <td>risk</td>\n",
       "      <td>41.3</td>\n",
       "      <td>djokovic</td>\n",
       "      <td>38.1</td>\n",
       "      <td>end</td>\n",
       "      <td>33.5</td>\n",
       "      <td>compensation</td>\n",
       "      <td>108.1</td>\n",
       "      <td>world</td>\n",
       "      <td>44.5</td>\n",
       "      <td>home</td>\n",
       "      <td>42.4</td>\n",
       "      <td>worlds</td>\n",
       "      <td>55.1</td>\n",
       "    </tr>\n",
       "    <tr>\n",
       "      <th>10</th>\n",
       "      <td>watch</td>\n",
       "      <td>41.1</td>\n",
       "      <td>show</td>\n",
       "      <td>37.3</td>\n",
       "      <td>shot</td>\n",
       "      <td>31.1</td>\n",
       "      <td>offering</td>\n",
       "      <td>108.1</td>\n",
       "      <td>usa</td>\n",
       "      <td>36.2</td>\n",
       "      <td>like</td>\n",
       "      <td>42.0</td>\n",
       "      <td>secret</td>\n",
       "      <td>54.1</td>\n",
       "    </tr>\n",
       "    <tr>\n",
       "      <th>11</th>\n",
       "      <td>pandemic</td>\n",
       "      <td>39.0</td>\n",
       "      <td>news</td>\n",
       "      <td>36.8</td>\n",
       "      <td>life</td>\n",
       "      <td>29.4</td>\n",
       "      <td>cash</td>\n",
       "      <td>107.1</td>\n",
       "      <td>lets</td>\n",
       "      <td>33.1</td>\n",
       "      <td>nogreenpass</td>\n",
       "      <td>41.7</td>\n",
       "      <td>report</td>\n",
       "      <td>53.1</td>\n",
       "    </tr>\n",
       "    <tr>\n",
       "      <th>12</th>\n",
       "      <td>right</td>\n",
       "      <td>38.7</td>\n",
       "      <td>cant</td>\n",
       "      <td>36.7</td>\n",
       "      <td>care</td>\n",
       "      <td>28.8</td>\n",
       "      <td>fatal</td>\n",
       "      <td>97.1</td>\n",
       "      <td>anti</td>\n",
       "      <td>32.1</td>\n",
       "      <td>greatreset</td>\n",
       "      <td>41.1</td>\n",
       "      <td>rothschild</td>\n",
       "      <td>51.8</td>\n",
       "    </tr>\n",
       "    <tr>\n",
       "      <th>13</th>\n",
       "      <td>uk</td>\n",
       "      <td>36.8</td>\n",
       "      <td>spreading</td>\n",
       "      <td>36.7</td>\n",
       "      <td>omicronvariant</td>\n",
       "      <td>27.3</td>\n",
       "      <td>pfizer</td>\n",
       "      <td>68.2</td>\n",
       "      <td>well</td>\n",
       "      <td>31.9</td>\n",
       "      <td>really</td>\n",
       "      <td>38.1</td>\n",
       "      <td>mep</td>\n",
       "      <td>51.1</td>\n",
       "    </tr>\n",
       "    <tr>\n",
       "      <th>14</th>\n",
       "      <td>misinformation</td>\n",
       "      <td>34.6</td>\n",
       "      <td>trump</td>\n",
       "      <td>35.6</td>\n",
       "      <td>together</td>\n",
       "      <td>26.5</td>\n",
       "      <td>data</td>\n",
       "      <td>53.5</td>\n",
       "      <td>come</td>\n",
       "      <td>31.9</td>\n",
       "      <td>keep</td>\n",
       "      <td>35.9</td>\n",
       "      <td>romanian</td>\n",
       "      <td>50.1</td>\n",
       "    </tr>\n",
       "  </tbody>\n",
       "</table>\n",
       "</div>"
      ],
      "text/plain": [
       "     Topic 0 words Topic 0 weights Topic 1 words Topic 1 weights  \\\n",
       "0           please            85.5        people            91.4   \n",
       "1      coronavirus            84.4        pfizer            54.0   \n",
       "2              via            82.4          good            52.6   \n",
       "3           people            69.6          safe            47.4   \n",
       "4           deaths            56.4         great            43.1   \n",
       "5         joerogan            55.6           say            42.3   \n",
       "6            fauci            54.0    propaganda            39.7   \n",
       "7         children            52.4       medical            39.3   \n",
       "8             must            44.5          real            39.3   \n",
       "9             risk            41.3      djokovic            38.1   \n",
       "10           watch            41.1          show            37.3   \n",
       "11        pandemic            39.0          news            36.8   \n",
       "12           right            38.7          cant            36.7   \n",
       "13              uk            36.8     spreading            36.7   \n",
       "14  misinformation            34.6         trump            35.6   \n",
       "\n",
       "     Topic 2 words Topic 2 weights Topic 3 words Topic 3 weights  \\\n",
       "0            still            92.4          side           218.9   \n",
       "1             work            59.3       effects           198.1   \n",
       "2           health            57.8        people           187.7   \n",
       "3           pfizer            54.3    government           149.7   \n",
       "4           people            51.8     australia           138.8   \n",
       "5            death            51.0        report           132.1   \n",
       "6              big            42.4       victims           120.1   \n",
       "7          freedom            38.9    rothschild           116.5   \n",
       "8          mandate            35.1        admits           112.1   \n",
       "9              end            33.5  compensation           108.1   \n",
       "10            shot            31.1      offering           108.1   \n",
       "11            life            29.4          cash           107.1   \n",
       "12            care            28.8         fatal            97.1   \n",
       "13  omicronvariant            27.3        pfizer            68.2   \n",
       "14        together            26.5          data            53.5   \n",
       "\n",
       "   Topic 4 words Topic 4 weights Topic 5 words Topic 5 weights Topic 6 words  \\\n",
       "0    myocarditis           125.4    conspiracy           133.2        forced   \n",
       "1       genocide            74.1      brussels           121.1        pfizer   \n",
       "2          heart            68.1     bruxelles           118.1        public   \n",
       "3            die            64.0        people           105.4   governments   \n",
       "4        another            61.2       brussel            98.1       details   \n",
       "5           like            60.1       wappies            83.1         soros   \n",
       "6        antivax            46.4        police            54.1          sign   \n",
       "7           mean            46.0   donotcomply            53.8   klausschwab   \n",
       "8          going            46.0  extremeright            46.1       sharing   \n",
       "9          world            44.5          home            42.4        worlds   \n",
       "10           usa            36.2          like            42.0        secret   \n",
       "11          lets            33.1   nogreenpass            41.7        report   \n",
       "12          anti            32.1    greatreset            41.1    rothschild   \n",
       "13          well            31.9        really            38.1           mep   \n",
       "14          come            31.9          keep            35.9      romanian   \n",
       "\n",
       "   Topic 6 weights  \n",
       "0             75.1  \n",
       "1             74.6  \n",
       "2             64.6  \n",
       "3             64.1  \n",
       "4             60.1  \n",
       "5             60.1  \n",
       "6             58.1  \n",
       "7             57.1  \n",
       "8             56.1  \n",
       "9             55.1  \n",
       "10            54.1  \n",
       "11            53.1  \n",
       "12            51.8  \n",
       "13            51.1  \n",
       "14            50.1  "
      ]
     },
     "execution_count": 251,
     "metadata": {},
     "output_type": "execute_result"
    }
   ],
   "source": [
    "display_topics(model_anti, tf_anti_feature_names, no_top_words)"
   ]
  },
  {
   "cell_type": "markdown",
   "metadata": {
    "id": "2g_nGVOd30S4"
   },
   "source": [
    "## Part 6 - Conclusions."
   ]
  },
  {
   "cell_type": "markdown",
   "metadata": {
    "id": "8omkJZoq30S4"
   },
   "source": [
    "Twitter is the most popular social media platform for following the news and current affairs. Overall, the results of the analysis were more or less aligned with our expectations. The content of the tweets reflected not only a general user's attitude towards vaccines but also current events that may have influenced that subject.\n",
    "\n",
    "\n",
    "The *tweepy* library is not the best one to deal with scraping the tweets. Even though you need to apply for an *Elevated* access on your developer account that has a limit of requests set at 2 000 000, *tweepy* will not allow you to download more than 2,5k tweets posted during the last 7 days. Also, the library downloads some tweets with an error that needs to be fixed directly in a CSV file, because it will not load properly into a pandas data frame. Other than that, the library seems to work all right. However, if someone needs more historical data and more volume, we would recommend another scraping library, such as *snscrape*.\n",
    "\n",
    "\n",
    "As expected, sentiment analysis showed that tweets with anti-vaccine hashtags have negative connotations and pro-vaccine tweets have a positive one. However, it has to be taken into account that tweets with anti-vaccine hashtags are sometimes directed to the anti-vax community and are negative because they criticize the movement, not the vaccine itself.\n",
    "\n",
    "The LDA returned 7 topics for each pro-vaccine tweets and anti-vaccine tweets. We decided to name the topics according to the top words in every subject.\n",
    "\n",
    "**Pro-vaccine tweets:**\n",
    "\n",
    "Topic 0 - Protecting the children\n",
    "\n",
    "Topic 1 - New variant of the virus\n",
    "\n",
    "Topic 2 - Stay safe during Christmas\n",
    "\n",
    "Topic 3 - Wear a mask to stay safe\n",
    "\n",
    "Topic 4 - Community staying safe during holidays\n",
    "\n",
    "Topic 5 - Political pro-blue party\n",
    "\n",
    "Topic 6 - Media about pandemic\n",
    "\n",
    "**Anti-vaccine tweets:**\n",
    "\n",
    "Topic 0 - Misinformation about vaccines\n",
    "\n",
    "Topic 1 - Anti-vaccine propaganda\n",
    "\n",
    "Topic 2 - Freedom of \"choice\"\n",
    "\n",
    "Topic 3 - Vaccine side effects\n",
    "\n",
    "Topic 4 - Deaths caused by the vaccine\n",
    "\n",
    "Topic 5 - Conspiracy theories about vaccines connected to the UE\n",
    "\n",
    "Topic 6 - General conspiracy theories about vaccines\n",
    "\n",
    "Altogether, one of the challenges we encountered was the fact that tweets can be written by anyone, therefore there is no unique style or vocabulary used. Some mistakes may happen, e.g. misspelling, that may influence the outcome of the analysis. The use of hashtags itself creates some obstacles. They are often used interchangeably with actual words or consist of more than one word 'glued' together. If we had a chance to create a bigger database, the analysis of hashtag use could even be a topic for a separate project."
   ]
  }
 ],
 "metadata": {
  "colab": {
   "collapsed_sections": [],
   "name": "Text Mining Project - Sentiment Analysis.ipynb",
   "provenance": []
  },
  "kernelspec": {
   "display_name": "Python 3",
   "language": "python",
   "name": "python3"
  },
  "language_info": {
   "codemirror_mode": {
    "name": "ipython",
    "version": 3
   },
   "file_extension": ".py",
   "mimetype": "text/x-python",
   "name": "python",
   "nbconvert_exporter": "python",
   "pygments_lexer": "ipython3",
   "version": "3.8.3"
  }
 },
 "nbformat": 4,
 "nbformat_minor": 1
}
